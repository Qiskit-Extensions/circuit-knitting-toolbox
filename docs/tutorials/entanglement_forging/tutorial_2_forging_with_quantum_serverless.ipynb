{
 "cells": [
  {
   "cell_type": "markdown",
   "id": "52acc23d",
   "metadata": {},
   "source": [
    "# Tutorial 2: Entanglement Forging with Quantum Serverless\n",
    "\n",
    "**Entanglement forging** is a method which allows us to represent expectation values of a 2n-qubit wavefunction as sums of multiple expectation values of n-qubit states, embedded in a classical optimization, thus doubling the size of the system that can be exactly simulated with a fixed number of qubits.\n",
    "\n",
    "Furthermore, entanglement forging permits the circuits necessary for the n-qubit simulations to be shallower, relaxing requirements on gate error and connectivity, at the cost of increased quantum and classical runtimes.\n",
    "\n",
    "Entanglement forging is comprised of the following steps. See the [explanatory material](https://github.com/Qiskit-Extensions/circuit-knitting-toolbox/blob/main/docs/explanation/entanglement_forging/index.rst) for more detailed information:\n",
    "\n",
    "***Estimate the ground state energy of a given system, Ĥ<sub>2n</sub>, with respect to a 2n-qubit wavefunction,Ψ<sub>2n</sub>, using only n qubits***\n",
    " 1. **Decompose**:\n",
    "  * Specify the parameterized, n-qubit ansatz circuit, **Ψ<sup>θ</sup><sub>n</sub>**, and select the Schmidt terms over which to optimize.\n",
    "      * The same circuit will be used for both n-qubit subsystems, U and V\n",
    "      * Different Schmidt terms may be selected for each subsystem, but the number of expectation values calculated at each loop would increase\n",
    "  * Decompose **Ψ<sub>2n</sub>** into k, n-qubit ansatze, [Ψ<sub>n<sub>0</sub></sub>, ..., Ψ<sub>n<sub>k</sub></sub>], based on the input ansatz circuit and the selected Schmidt terms\n",
    "  * Decompose **Ĥ<sub>2n</sub>** into j, n-qubit observables, [H<sub>n<sub>0</sub></sub>, ..., H<sub>n<sub>j</sub></sub>]\n",
    "\n",
    "\n",
    " 2. **Evaluate**:\n",
    "  * Apply ansatz circuit parameters, **θ<sub>i</sub>**\n",
    "  * Calculate expectation values for each basis of the decomposed observable with respect to the selected Schmidt basis and the new ansatz parameters: **[<Ψ<sup>θ<sub>0</sub></sup><sub>0</sub>|H<sub>0</sub>|Ψ<sup>θ<sub>0</sub></sup><sub>0</sub>>, ..., <Ψ<sup>θ<sub>i</sub></sup><sub>k</sub>|H<sub>j</sub>|Ψ<sup>θ<sub>i</sub></sup><sub>k</sub>>]**\n",
    "  \n",
    "  \n",
    " 3. **Reconstruct** \n",
    "  * Use the expectation values to reconstruct an estimation of the expectation value for the 2n-qubit system, **<Ψ<sub>2n</sub>|H<sub>2n</sub>|Ψ<sub>2n</sub>>**\n",
    "  \n",
    "  \n",
    " 4. **If energy value has not converged to a minima, update θ<sub>i</sub> to θ<sub>i+1</sub> and continue with Step 2.**\n",
    "  \n",
    "  \n",
    "------\n",
    "  \n",
    "  \n",
    "[**Quantum Serverless**](https://github.com/Qiskit-Extensions/quantum-serverless) is a platform built to enable distributed computing across a variety of classical and quantum backends.\n",
    "\n",
    "In this demo, we will show how to use quantum serverless to send the entanglement forging workflow to a remote cluster."
   ]
  },
  {
   "cell_type": "markdown",
   "id": "faf77d79",
   "metadata": {},
   "source": [
    "### Instantiate the `ElectronicStructureProblem`\n",
    "\n",
    "Next, we set up the $\\mathrm{H}_2$ molecule, specify the driver and converter, and instantiate an  `ElectronicStructureProblem`, just like is done in the [Qiskit Nature VQE tutorial](https://github.com/Qiskit/qiskit-nature/blob/stable/0.4/docs/tutorials/03_ground_state_solvers.ipynb)."
   ]
  },
  {
   "cell_type": "code",
   "execution_count": 1,
   "id": "7d74f57e",
   "metadata": {},
   "outputs": [],
   "source": [
    "from qiskit_nature.drivers import Molecule\n",
    "from qiskit_nature.drivers.second_quantization import PySCFDriver\n",
    "from qiskit_nature.problems.second_quantization import ElectronicStructureProblem\n",
    "from qiskit_nature.mappers.second_quantization import JordanWignerMapper\n",
    "from qiskit_nature.converters.second_quantization import QubitConverter\n",
    "\n",
    "molecule = Molecule(\n",
    "    geometry=[\n",
    "        (\"H\", [0.0, 0.0, 0.0]),\n",
    "        (\"H\", [0.0, 0.0, 0.735]),\n",
    "    ],\n",
    "    charge=0,\n",
    "    multiplicity=1,\n",
    ")\n",
    "driver = PySCFDriver.from_molecule(molecule=molecule, basis=\"sto3g\")\n",
    "problem = ElectronicStructureProblem(driver)\n",
    "converter = QubitConverter(JordanWignerMapper())"
   ]
  },
  {
   "cell_type": "markdown",
   "id": "453dde4f",
   "metadata": {},
   "source": [
    "### Prepare the bitstrings and the ansatz\n",
    "\n",
    "The ansatz for Entanglement Forging consists of a set of input bitstrings and a parameterized circuit.  (See the \"explanatory material\" section of the documentation for additional background on the method.) For this demo, we will use the same bitstrings and ansatz for both the U and V subsystems, and we will use the `TwoLocal` circuit from Qiskit."
   ]
  },
  {
   "cell_type": "code",
   "execution_count": 2,
   "id": "f25814e9",
   "metadata": {},
   "outputs": [
    {
     "data": {
      "text/html": [
       "<pre style=\"word-wrap: normal;white-space: pre;background: #fff0;line-height: 1.1;font-family: &quot;Courier New&quot;,Courier,monospace\">     ┌──────────────────────┐\n",
       "q_0: ┤0                     ├\n",
       "     │  TwoLocal(θ[0],θ[1]) │\n",
       "q_1: ┤1                     ├\n",
       "     └──────────────────────┘</pre>"
      ],
      "text/plain": [
       "     ┌──────────────────────┐\n",
       "q_0: ┤0                     ├\n",
       "     │  TwoLocal(θ[0],θ[1]) │\n",
       "q_1: ┤1                     ├\n",
       "     └──────────────────────┘"
      ]
     },
     "execution_count": 2,
     "metadata": {},
     "output_type": "execute_result"
    }
   ],
   "source": [
    "from circuit_knitting_toolbox.entanglement_forging import EntanglementForgingAnsatz\n",
    "from qiskit.circuit.library import TwoLocal\n",
    "\n",
    "ansatz = EntanglementForgingAnsatz(\n",
    "    circuit_u=TwoLocal(2, [], \"cry\", [[0, 1], [1, 0]], reps=1),\n",
    "    bitstrings_u=[(1, 0), (0, 1)],\n",
    ")\n",
    "\n",
    "ansatz.circuit_u.draw()"
   ]
  },
  {
   "cell_type": "markdown",
   "id": "a88fe497",
   "metadata": {},
   "source": [
    "### Set up the Qiskit Runtime Service\n",
    "\n",
    "The Qiskit Runtime Service provides access to Qiskit Runtime Primitives and quantum backends. See the [Qiskit Runtime documentation](https://qiskit.org/documentation/partners/qiskit_ibm_runtime/) for more information.  Here, we specify the backend(s) to be used to evaluate the circuits. Backends could be [simulator(s) and/or quantum device(s)](https://quantum-computing.ibm.com/services/resources?tab=systems).\n",
    "\n",
    "Alternatively, if a Qiskit Runtime Service is not passed, then a local simulator will be used with the [Qiskit Primitives](https://qiskit.org/documentation/apidoc/primitives.html), and the `backend_names` argument will be ignored."
   ]
  },
  {
   "cell_type": "code",
   "execution_count": 4,
   "id": "76453753",
   "metadata": {},
   "outputs": [],
   "source": [
    "from qiskit_ibm_runtime import QiskitRuntimeService\n",
    "\n",
    "# By default, use a local simulator to implement the Qiskit Runtime Primitives\n",
    "#service = None\n",
    "\n",
    "# Uncomment the following line to instead use the Qiskit Runtime Service.\n",
    "service = QiskitRuntimeService(channel=\"ibm_quantum\")\n",
    "\n",
    "backend_names = [\"ibmq_qasm_simulator\"] * 2"
   ]
  },
  {
   "cell_type": "markdown",
   "id": "5b77cbc9",
   "metadata": {},
   "source": [
    "### Set up Quantum Serverless\n",
    "\n",
    "We can use Quantum Serverless to send the entanglement forging routine to a remote compute resource. For this tutorial, we will use our local CPU cores as the compute cluster. See the [Quantum Serverless](https://github.com/Qiskit-Extensions/quantum-serverless) documentation (and below) for more informatin about how to use other clusters."
   ]
  },
  {
   "cell_type": "code",
   "execution_count": 5,
   "id": "ec28c8e4",
   "metadata": {},
   "outputs": [
    {
     "data": {
      "text/plain": [
       "[<Provider: local>]"
      ]
     },
     "execution_count": 5,
     "metadata": {},
     "output_type": "execute_result"
    }
   ],
   "source": [
    "from quantum_serverless import QuantumServerless\n",
    "\n",
    "serverless = QuantumServerless()\n",
    "serverless.providers()"
   ]
  },
  {
   "cell_type": "markdown",
   "id": "e00110ce",
   "metadata": {},
   "source": [
    "### Create a wrapper function to send to the remote cluster\n",
    "\n",
    "Use `Quantum Serverless` to send the solve_remote method to a remote cluster.\n",
    "\n",
    "Here we create a wrapper function for `EntanglementForgingGroundStateSolver` and its solve method, and we annotate it with the `@run_qiskit_remote()` decorator from Quantum Serverless. This allows us to call this function from a serverless context and have it sent for remote execution on the specified cluster."
   ]
  },
  {
   "cell_type": "code",
   "execution_count": 6,
   "id": "a940a226",
   "metadata": {},
   "outputs": [],
   "source": [
    "from typing import Optional, Sequence, Tuple, Dict\n",
    "from qiskit.algorithms.optimizers import Optimizer\n",
    "from qiskit.result import Result\n",
    "from quantum_serverless import run_qiskit_remote\n",
    "from circuit_knitting_toolbox.entanglement_forging import EntanglementForgingGroundStateSolver\n",
    "\n",
    "@run_qiskit_remote()\n",
    "def solve_remote(\n",
    "    problem: ElectronicStructureProblem,\n",
    "    ansatz_circuit: EntanglementForgingAnsatz,\n",
    "    optimizer: Optimizer,\n",
    "    service_args: Optional[Dict] = None,\n",
    "    backend_names: Optional[Sequence[str]] = None,\n",
    "    initial_point: Optional[Sequence[float]] = None,\n",
    "    orbitals_to_reduce: Optional[Sequence[int]] = None,\n",
    ") -> Result:\n",
    "    \"\"\"\n",
    "    Wrapper function for running entanglement forging VQE on a remote resource.\n",
    "\n",
    "        Args:\n",
    "            - problem: A class encoding the problem to be solved\n",
    "            - ansatz: The ansatz\n",
    "            - optimizer: Optimizer to use to optimize the ansatz circuit parameters\n",
    "            - service_args: The arguments for instantiating a QiskitRuntimeService\n",
    "            - backend_names: List of backend names to use during parallel computation\n",
    "            - initial_point: Initial values for ansatz parameters\n",
    "            - orbitals_to_reduce: List of orbital indices to remove from the problem before\n",
    "                decomposition.\n",
    "        Returns:\n",
    "            - An interpreted EigenstateResult\n",
    "    \"\"\"\n",
    "    service = QiskitRuntimeService(**service_args) if service_args else None\n",
    "\n",
    "    solver = EntanglementForgingGroundStateSolver(\n",
    "        ansatz=ansatz,\n",
    "        service=service,\n",
    "        optimizer=optimizer,\n",
    "        backend_names=backend_names,\n",
    "        initial_point=initial_point,\n",
    "        orbitals_to_reduce=orbitals_to_reduce,\n",
    "    )\n",
    "    result = solver.solve(problem)\n",
    "\n",
    "    return result"
   ]
  },
  {
   "cell_type": "markdown",
   "id": "0a2b14a5",
   "metadata": {},
   "source": [
    "### Run entanglement forging on a remote cluster\n",
    "\n",
    "Once a user has set up their `ElectronicStructureProblem`, `EntanglementForgingAnsatz`, and other program options, the only thing remaining is call `EntanglementForgingGroundStateSolver.solve`, which we have wrapped in the `solve_remote` function.\n",
    "\n",
    "We will call the `solve_remote` function within a QuantumServerless context, which means it will be run on the specified cluster. Remember, the default cluster for this demo will use the cores on our local CPU. To specify a new cluster, the `QuantumServerless.set_provider` method should be used.\n",
    "\n",
    "When the remote function is called, it will return a \"future\" object, and Python will continue interpreting the next line of code. The get function from quantum-serverless is a blocking command which should be used to retrieve the results of the remote function via the \"future\" object. The program will not continue past the get call until the results of the remote function are returned."
   ]
  },
  {
   "cell_type": "code",
   "execution_count": 8,
   "id": "7b890400",
   "metadata": {},
   "outputs": [],
   "source": [
    "%%capture\n",
    "\n",
    "import numpy as np\n",
    "from qiskit.algorithms.optimizers import COBYLA\n",
    "from quantum_serverless import get\n",
    "\n",
    "optimizer = COBYLA()\n",
    "service_args = None if service is None else service.active_account()\n",
    "initial_point = [0.0, np.pi / 2]\n",
    "\n",
    "with serverless:\n",
    "    forging_result_future = solve_remote(\n",
    "        problem,\n",
    "        ansatz,\n",
    "        optimizer,\n",
    "        service_args=service_args,\n",
    "        backend_names=backend_names,\n",
    "        initial_point=initial_point,\n",
    "    )\n",
    "    results = get(forging_result_future)"
   ]
  },
  {
   "cell_type": "markdown",
   "id": "9601ac33",
   "metadata": {},
   "source": [
    "### Visualize the results\n",
    "\n",
    "Visualize the convergence of the estimated ground state energy and the Schmidt coefficients as the ansatz parameters are optimized."
   ]
  },
  {
   "cell_type": "code",
   "execution_count": 9,
   "id": "97ae8342",
   "metadata": {},
   "outputs": [
    {
     "name": "stdout",
     "output_type": "stream",
     "text": [
      "Energy:\n"
     ]
    },
    {
     "data": {
      "image/png": "[encoded data removed]",
      "text/plain": [
       "<Figure size 640x480 with 1 Axes>"
      ]
     },
     "metadata": {},
     "output_type": "display_data"
    },
    {
     "name": "stdout",
     "output_type": "stream",
     "text": [
      "Schmidt Coefficients:\n"
     ]
    },
    {
     "data": {
      "image/png": "[encoded data removed]",
      "text/plain": [
       "<Figure size 640x480 with 1 Axes>"
      ]
     },
     "metadata": {},
     "output_type": "display_data"
    },
    {
     "name": "stdout",
     "output_type": "stream",
     "text": [
      "Parameters:\n"
     ]
    },
    {
     "data": {
      "image/png": "[encoded data removed]",
      "text/plain": [
       "<Figure size 640x480 with 1 Axes>"
      ]
     },
     "metadata": {},
     "output_type": "display_data"
    }
   ],
   "source": [
    "import matplotlib.pyplot as plt\n",
    "\n",
    "print(\"Energy:\")\n",
    "plt.plot([evaluation.eigenvalue for evaluation in results.history])\n",
    "plt.xlabel(\"Iterations\")\n",
    "plt.show()\n",
    "\n",
    "print(\"Schmidt Coefficients:\")\n",
    "plt.plot([abs(evaluation.eigenstate) for evaluation in results.history])\n",
    "plt.xlabel(\"Iterations\")\n",
    "plt.yscale(\"log\")\n",
    "plt.show()\n",
    "\n",
    "print(\"Parameters:\")\n",
    "plt.plot([evaluation.parameters for evaluation in results.history])\n",
    "plt.xlabel(\"Iterations\")\n",
    "plt.show()"
   ]
  },
  {
   "cell_type": "code",
   "execution_count": 10,
   "id": "807204bb",
   "metadata": {},
   "outputs": [
    {
     "data": {
      "text/html": [
       "<h3>Version Information</h3><table><tr><th>Qiskit Software</th><th>Version</th></tr><tr><td><code>qiskit-terra</code></td><td>0.22.0</td></tr><tr><td><code>qiskit-aer</code></td><td>0.11.0</td></tr><tr><td><code>qiskit-ibmq-provider</code></td><td>0.19.2</td></tr><tr><td><code>qiskit</code></td><td>0.39.0</td></tr><tr><td><code>qiskit-nature</code></td><td>0.4.5</td></tr><tr><th>System information</th></tr><tr><td>Python version</td><td>3.10.6</td></tr><tr><td>Python compiler</td><td>Clang 13.1.6 (clang-1316.0.21.2.5)</td></tr><tr><td>Python build</td><td>main, Aug 11 2022 13:49:25</td></tr><tr><td>OS</td><td>Darwin</td></tr><tr><td>CPUs</td><td>8</td></tr><tr><td>Memory (Gb)</td><td>32.0</td></tr><tr><td colspan='2'>Mon Oct 31 16:56:33 2022 CDT</td></tr></table>"
      ],
      "text/plain": [
       "<IPython.core.display.HTML object>"
      ]
     },
     "metadata": {},
     "output_type": "display_data"
    }
   ],
   "source": [
    "import qiskit.tools.jupyter\n",
    "\n",
    "%qiskit_version_table"
   ]
  },
  {
   "cell_type": "markdown",
   "id": "818d68b2",
   "metadata": {},
   "source": [
    "### This code is a Qiskit project.\n",
    "\n",
    "© Copyright IBM 2022.\n",
    "\n",
    "This code is licensed under the Apache License, Version 2.0. You may\n",
    "obtain a copy of this license in the LICENSE.txt file in the root directory\n",
    "of this source tree or at http://www.apache.org/licenses/LICENSE-2.0.\n",
    "\n",
    "Any modifications or derivative works of this code must retain this\n",
    "copyright notice, and modified files need to carry a notice indicating\n",
    "that they have been altered from the originals."
   ]
  }
 ],
 "metadata": {
  "kernelspec": {
   "display_name": "Python 3 (ipykernel)",
   "language": "python",
   "name": "python3"
  },
  "language_info": {
   "codemirror_mode": {
    "name": "ipython",
    "version": 3
   },
   "file_extension": ".py",
   "mimetype": "text/x-python",
   "name": "python",
   "nbconvert_exporter": "python",
   "pygments_lexer": "ipython3",
   "version": "3.10.6"
  }
 },
 "nbformat": 4,
 "nbformat_minor": 5
}
