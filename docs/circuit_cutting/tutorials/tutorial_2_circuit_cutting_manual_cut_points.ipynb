{
 "cells": [
  {
   "cell_type": "markdown",
   "id": "c6cd641f",
   "metadata": {},
   "source": [
    "## Circuit cutting with automatic cut finding using the Circuit Knitting Toolbox"
   ]
  },
  {
   "cell_type": "markdown",
   "id": "e7043390",
   "metadata": {},
   "source": [
    "### Import relevant modules"
   ]
  },
  {
   "cell_type": "code",
   "execution_count": 5,
   "id": "31fe2cf1",
   "metadata": {},
   "outputs": [],
   "source": [
    "import numpy as np\n",
    "from qiskit import QuantumCircuit\n",
    "from qiskit_ibm_runtime import (\n",
    "    QiskitRuntimeService,\n",
    "    Options,\n",
    "    Session,\n",
    "    Sampler,\n",
    "    RuntimeOptions,\n",
    ")\n",
    "\n",
    "from circuit_knitting_toolbox.circuit_cutting import WireCutter"
   ]
  },
  {
   "cell_type": "markdown",
   "id": "3c17f515",
   "metadata": {},
   "source": [
    "### Create a circuit to cut"
   ]
  },
  {
   "cell_type": "code",
   "execution_count": 6,
   "id": "eb859bde",
   "metadata": {},
   "outputs": [
    {
     "data": {
      "text/html": [
       "<pre style=\"word-wrap: normal;white-space: pre;background: #fff0;line-height: 1.1;font-family: &quot;Courier New&quot;,Courier,monospace\">     ┌───┐                ┌─────────┐   ┌───┐   ┌───┐\n",
       "q_0: ┤ H ├──■───────■─────┤ Rx(π/2) ├───┤ T ├───┤ H ├\n",
       "     ├───┤┌─┴─┐     │     ├─────────┤   ├───┤   ├───┤\n",
       "q_1: ┤ H ├┤ X ├─────┼─────┤ Rx(π/2) ├───┤ T ├───┤ H ├\n",
       "     ├───┤├───┤   ┌─┴─┐   └─────────┘   └───┘   ├───┤\n",
       "q_2: ┤ H ├┤ T ├───┤ X ├────────■──────────■─────┤ H ├\n",
       "     ├───┤├───┤   └───┘        │        ┌─┴─┐   ├───┤\n",
       "q_3: ┤ H ├┤ T ├────────────────┼────────┤ X ├───┤ H ├\n",
       "     ├───┤├───┤┌─────────┐   ┌─┴─┐   ┌──┴───┴──┐├───┤\n",
       "q_4: ┤ H ├┤ T ├┤ Rx(π/2) ├───┤ X ├───┤ Ry(π/2) ├┤ H ├\n",
       "     └───┘└───┘└─────────┘   └───┘   └─────────┘└───┘</pre>"
      ],
      "text/plain": [
       "     ┌───┐                ┌─────────┐   ┌───┐   ┌───┐\n",
       "q_0: ┤ H ├──■───────■─────┤ Rx(π/2) ├───┤ T ├───┤ H ├\n",
       "     ├───┤┌─┴─┐     │     ├─────────┤   ├───┤   ├───┤\n",
       "q_1: ┤ H ├┤ X ├─────┼─────┤ Rx(π/2) ├───┤ T ├───┤ H ├\n",
       "     ├───┤├───┤   ┌─┴─┐   └─────────┘   └───┘   ├───┤\n",
       "q_2: ┤ H ├┤ T ├───┤ X ├────────■──────────■─────┤ H ├\n",
       "     ├───┤├───┤   └───┘        │        ┌─┴─┐   ├───┤\n",
       "q_3: ┤ H ├┤ T ├────────────────┼────────┤ X ├───┤ H ├\n",
       "     ├───┤├───┤┌─────────┐   ┌─┴─┐   ┌──┴───┴──┐├───┤\n",
       "q_4: ┤ H ├┤ T ├┤ Rx(π/2) ├───┤ X ├───┤ Ry(π/2) ├┤ H ├\n",
       "     └───┘└───┘└─────────┘   └───┘   └─────────┘└───┘"
      ]
     },
     "execution_count": 6,
     "metadata": {},
     "output_type": "execute_result"
    }
   ],
   "source": [
    "qc = QuantumCircuit(5)\n",
    "for i in range(5):\n",
    "    qc.h(i)\n",
    "qc.cx(0, 1)\n",
    "for i in range(2, 5):\n",
    "    qc.t(i)\n",
    "qc.cx(0, 2)\n",
    "qc.rx(np.pi / 2, 4)\n",
    "qc.rx(np.pi / 2, 0)\n",
    "qc.rx(np.pi / 2, 1)\n",
    "qc.cx(2, 4)\n",
    "qc.t(0)\n",
    "qc.t(1)\n",
    "qc.cx(2, 3)\n",
    "qc.ry(np.pi / 2, 4)\n",
    "for i in range(5):\n",
    "    qc.h(i)\n",
    "\n",
    "qc.draw()"
   ]
  },
  {
   "cell_type": "markdown",
   "id": "461e57e3",
   "metadata": {},
   "source": [
    "### Set up the Qiskit runtime session"
   ]
  },
  {
   "cell_type": "code",
   "execution_count": 7,
   "id": "5d1fb2ca",
   "metadata": {},
   "outputs": [],
   "source": [
    "service_args = QiskitRuntimeService(\n",
    "    channel=\"ibm_quantum\",\n",
    "    token=\"621534663c059a170ad7ae206e07535c1cc84f7047ffb8f3d50c7ce2e4d1acc0152e90a3be11ee591af4175ffa9b9ad3b4224a13b60575b7fd0bb74f45dfbdc7\",\n",
    ").active_account()"
   ]
  },
  {
   "cell_type": "markdown",
   "id": "61d2944a",
   "metadata": {},
   "source": [
    "### Cut the circuit and evaluate the subcircuits within a Qiskit Session context"
   ]
  },
  {
   "cell_type": "code",
   "execution_count": 8,
   "id": "57c8dccb",
   "metadata": {},
   "outputs": [
    {
     "name": "stderr",
     "output_type": "stream",
     "text": [
      "2022-10-08 18:37:30,455\tINFO worker.py:1518 -- Started a local Ray instance.\n"
     ]
    },
    {
     "name": "stdout",
     "output_type": "stream",
     "text": [
      "\u001b[2m\u001b[36m(_cut_manual pid=10547)\u001b[0m --------------------\n",
      "\u001b[2m\u001b[36m(_cut_manual pid=10547)\u001b[0m subcircuit 0\n",
      "\u001b[2m\u001b[36m(_cut_manual pid=10547)\u001b[0m ρ qubits = 0, O qubits = 1, width = 3, effective = 2, depth = 6, size = 12\n",
      "\u001b[2m\u001b[36m(_cut_manual pid=10547)\u001b[0m      ┌───┐                     ┌─────────┐┌───┐┌───┐\n",
      "\u001b[2m\u001b[36m(_cut_manual pid=10547)\u001b[0m q_0: ┤ H ├──■───────────────■──┤ Rx(π/2) ├┤ T ├┤ H ├\n",
      "\u001b[2m\u001b[36m(_cut_manual pid=10547)\u001b[0m      ├───┤┌─┴─┐┌─────────┐  │  └──┬───┬──┘├───┤└───┘\n",
      "\u001b[2m\u001b[36m(_cut_manual pid=10547)\u001b[0m q_1: ┤ H ├┤ X ├┤ Rx(π/2) ├──┼─────┤ T ├───┤ H ├─────\n",
      "\u001b[2m\u001b[36m(_cut_manual pid=10547)\u001b[0m      ├───┤├───┤└─────────┘┌─┴─┐   └───┘   └───┘     \n",
      "\u001b[2m\u001b[36m(_cut_manual pid=10547)\u001b[0m q_2: ┤ H ├┤ T ├───────────┤ X ├─────────────────────\n",
      "\u001b[2m\u001b[36m(_cut_manual pid=10547)\u001b[0m      └───┘└───┘           └───┘                     \n",
      "\u001b[2m\u001b[36m(_cut_manual pid=10547)\u001b[0m subcircuit 1\n",
      "\u001b[2m\u001b[36m(_cut_manual pid=10547)\u001b[0m ρ qubits = 1, O qubits = 0, width = 3, effective = 3, depth = 6, size = 11\n",
      "\u001b[2m\u001b[36m(_cut_manual pid=10547)\u001b[0m                                           ┌───┐\n",
      "\u001b[2m\u001b[36m(_cut_manual pid=10547)\u001b[0m q_0: ───────────────────────■───────■─────┤ H ├\n",
      "\u001b[2m\u001b[36m(_cut_manual pid=10547)\u001b[0m      ┌───┐┌───┐             │     ┌─┴─┐   ├───┤\n",
      "\u001b[2m\u001b[36m(_cut_manual pid=10547)\u001b[0m q_1: ┤ H ├┤ T ├─────────────┼─────┤ X ├───┤ H ├\n",
      "\u001b[2m\u001b[36m(_cut_manual pid=10547)\u001b[0m      ├───┤├───┤┌─────────┐┌─┴─┐┌──┴───┴──┐├───┤\n",
      "\u001b[2m\u001b[36m(_cut_manual pid=10547)\u001b[0m q_2: ┤ H ├┤ T ├┤ Rx(π/2) ├┤ X ├┤ Ry(π/2) ├┤ H ├\n",
      "\u001b[2m\u001b[36m(_cut_manual pid=10547)\u001b[0m      └───┘└───┘└─────────┘└───┘└─────────┘└───┘\n",
      "\u001b[2m\u001b[36m(_cut_manual pid=10547)\u001b[0m Estimated cost = 1.280e+02\n",
      "\u001b[2m\u001b[36m(_cut_manual pid=10547)\u001b[0m --------------------\n"
     ]
    }
   ],
   "source": [
    "# Set the Sampler options\n",
    "options = Options(resilience_level=1, optimization_level=3, execution={\"shots\": 8192})\n",
    "runtime_options = RuntimeOptions(backend=\"ibmq_qasm_simulator\")\n",
    "\n",
    "# Instantiate a WireCutter and decompose the circuit\n",
    "cutter = WireCutter(\n",
    "    qc, service_args=service_args, options=options, runtime_options=runtime_options\n",
    ")\n",
    "# cutter = WireCutter(qc) # Local estimator\n",
    "\n",
    "cuts = cutter.decompose(method=\"manual\", subcircuit_vertices=[[0, 1], [2, 3]])"
   ]
  },
  {
   "cell_type": "markdown",
   "id": "00789cc4",
   "metadata": {},
   "source": [
    "### Recompose the circuit and verify the error between the full and cut circuit distributions is within tolerance"
   ]
  },
  {
   "cell_type": "code",
   "execution_count": 9,
   "id": "bb70ef8e",
   "metadata": {},
   "outputs": [
    {
     "name": "stdout",
     "output_type": "stream",
     "text": [
      "{'nearest': {'chi2': 0.00172008668779893, 'Mean Squared Error': 2.8792313482165644e-06, 'Mean Absolute Percentage Error': 8.1461957348589, 'Cross Entropy': 2.601394920803805, 'HOP': 0.8965535804235953}, 'naive': {'chi2': 0.00172008668779893, 'Mean Squared Error': 2.8792313482165644e-06, 'Mean Absolute Percentage Error': 8.1461957348589, 'Cross Entropy': 2.601394920803805, 'HOP': 0.8965535804235953}}\n"
     ]
    }
   ],
   "source": [
    "# Evaluate the subcircuits on backend\n",
    "subcircuit_instance_probabilities = cutter.evaluate(cuts)\n",
    "\n",
    "# Recompose the circuit and generate the cut circuit's probability distribution\n",
    "reconstructed_probabilities = cutter.recompose(\n",
    "    subcircuit_instance_probabilities, cuts, num_threads=4\n",
    ")\n",
    "\n",
    "# Use a statevector simulator to calculate the error between the inferred and actual distributions\n",
    "metrics = cutter.verify(reconstructed_probabilities)\n",
    "print(metrics)"
   ]
  }
 ],
 "metadata": {
  "kernelspec": {
   "display_name": "Python 3 (ipykernel)",
   "language": "python",
   "name": "python3"
  },
  "language_info": {
   "codemirror_mode": {
    "name": "ipython",
    "version": 3
   },
   "file_extension": ".py",
   "mimetype": "text/x-python",
   "name": "python",
   "nbconvert_exporter": "python",
   "pygments_lexer": "ipython3",
   "version": "3.7.13"
  }
 },
 "nbformat": 4,
 "nbformat_minor": 5
}
