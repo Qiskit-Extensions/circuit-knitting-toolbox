{
 "cells": [
  {
   "cell_type": "markdown",
   "id": "c6cd641f",
   "metadata": {},
   "source": [
    "## Circuit cutting with automatic cut finding using the Circuit Knitting Toolbox"
   ]
  },
  {
   "cell_type": "markdown",
   "id": "e7043390",
   "metadata": {},
   "source": [
    "### Import relevant modules"
   ]
  },
  {
   "cell_type": "code",
   "execution_count": 6,
   "id": "31fe2cf1",
   "metadata": {},
   "outputs": [],
   "source": [
    "import numpy as np\n",
    "from qiskit import QuantumCircuit\n",
    "from qiskit_ibm_runtime import QiskitRuntimeService, Options, Session, Sampler\n",
    "\n",
    "from circuit_knitting_toolbox.circuit_cutting import WireCutter"
   ]
  },
  {
   "cell_type": "markdown",
   "id": "3c17f515",
   "metadata": {},
   "source": [
    "### Create a circuit to cut"
   ]
  },
  {
   "cell_type": "code",
   "execution_count": 7,
   "id": "eb859bde",
   "metadata": {},
   "outputs": [
    {
     "data": {
      "text/html": [
       "<pre style=\"word-wrap: normal;white-space: pre;background: #fff0;line-height: 1.1;font-family: &quot;Courier New&quot;,Courier,monospace\">     ┌───┐                ┌─────────┐   ┌───┐   ┌───┐\n",
       "q_0: ┤ H ├──■───────■─────┤ Rx(π/2) ├───┤ T ├───┤ H ├\n",
       "     ├───┤┌─┴─┐     │     ├─────────┤   ├───┤   ├───┤\n",
       "q_1: ┤ H ├┤ X ├─────┼─────┤ Rx(π/2) ├───┤ T ├───┤ H ├\n",
       "     ├───┤├───┤   ┌─┴─┐   └─────────┘   └───┘   ├───┤\n",
       "q_2: ┤ H ├┤ T ├───┤ X ├────────■──────────■─────┤ H ├\n",
       "     ├───┤├───┤   └───┘        │        ┌─┴─┐   ├───┤\n",
       "q_3: ┤ H ├┤ T ├────────────────┼────────┤ X ├───┤ H ├\n",
       "     ├───┤├───┤┌─────────┐   ┌─┴─┐   ┌──┴───┴──┐├───┤\n",
       "q_4: ┤ H ├┤ T ├┤ Rx(π/2) ├───┤ X ├───┤ Ry(π/2) ├┤ H ├\n",
       "     └───┘└───┘└─────────┘   └───┘   └─────────┘└───┘</pre>"
      ],
      "text/plain": [
       "     ┌───┐                ┌─────────┐   ┌───┐   ┌───┐\n",
       "q_0: ┤ H ├──■───────■─────┤ Rx(π/2) ├───┤ T ├───┤ H ├\n",
       "     ├───┤┌─┴─┐     │     ├─────────┤   ├───┤   ├───┤\n",
       "q_1: ┤ H ├┤ X ├─────┼─────┤ Rx(π/2) ├───┤ T ├───┤ H ├\n",
       "     ├───┤├───┤   ┌─┴─┐   └─────────┘   └───┘   ├───┤\n",
       "q_2: ┤ H ├┤ T ├───┤ X ├────────■──────────■─────┤ H ├\n",
       "     ├───┤├───┤   └───┘        │        ┌─┴─┐   ├───┤\n",
       "q_3: ┤ H ├┤ T ├────────────────┼────────┤ X ├───┤ H ├\n",
       "     ├───┤├───┤┌─────────┐   ┌─┴─┐   ┌──┴───┴──┐├───┤\n",
       "q_4: ┤ H ├┤ T ├┤ Rx(π/2) ├───┤ X ├───┤ Ry(π/2) ├┤ H ├\n",
       "     └───┘└───┘└─────────┘   └───┘   └─────────┘└───┘"
      ]
     },
     "execution_count": 7,
     "metadata": {},
     "output_type": "execute_result"
    }
   ],
   "source": [
    "qc = QuantumCircuit(5)\n",
    "for i in range(5):\n",
    "    qc.h(i)\n",
    "qc.cx(0, 1)\n",
    "for i in range(2, 5):\n",
    "    qc.t(i)\n",
    "qc.cx(0, 2)\n",
    "qc.rx(np.pi / 2, 4)\n",
    "qc.rx(np.pi / 2, 0)\n",
    "qc.rx(np.pi / 2, 1)\n",
    "qc.cx(2, 4)\n",
    "qc.t(0)\n",
    "qc.t(1)\n",
    "qc.cx(2, 3)\n",
    "qc.ry(np.pi / 2, 4)\n",
    "for i in range(5):\n",
    "    qc.h(i)\n",
    "\n",
    "qc.draw()"
   ]
  },
  {
   "cell_type": "markdown",
   "id": "461e57e3",
   "metadata": {},
   "source": [
    "### Set up the Qiskit runtime session"
   ]
  },
  {
   "cell_type": "code",
   "execution_count": 8,
   "id": "5d1fb2ca",
   "metadata": {},
   "outputs": [],
   "source": [
    "service = QiskitRuntimeService(\n",
    "    channel=\"ibm_quantum\",\n",
    "    instance=\"<YOUR_INSTANCE>\",\n",
    "    token=\"<YOUR_API_KEY>\",\n",
    ")\n",
    "session = Session(service=service, backend=\"<BACKEND_NAME>\")"
   ]
  },
  {
   "cell_type": "markdown",
   "id": "61d2944a",
   "metadata": {},
   "source": [
    "### Cut the circuit and evaluate the subcircuits within a Qiskit Session context"
   ]
  },
  {
   "cell_type": "code",
   "execution_count": 9,
   "id": "57c8dccb",
   "metadata": {},
   "outputs": [
    {
     "name": "stdout",
     "output_type": "stream",
     "text": [
      "--------------------\n",
      "subcircuit 0\n",
      "ρ qubits = 0, O qubits = 1, width = 3, effective = 2, depth = 6, size = 12\n",
      "     ┌───┐                     ┌─────────┐┌───┐┌───┐\n",
      "q_0: ┤ H ├──■───────────────■──┤ Rx(π/2) ├┤ T ├┤ H ├\n",
      "     ├───┤┌─┴─┐┌─────────┐  │  └──┬───┬──┘├───┤└───┘\n",
      "q_1: ┤ H ├┤ X ├┤ Rx(π/2) ├──┼─────┤ T ├───┤ H ├─────\n",
      "     ├───┤├───┤└─────────┘┌─┴─┐   └───┘   └───┘     \n",
      "q_2: ┤ H ├┤ T ├───────────┤ X ├─────────────────────\n",
      "     └───┘└───┘           └───┘                     \n",
      "subcircuit 1\n",
      "ρ qubits = 1, O qubits = 0, width = 3, effective = 3, depth = 6, size = 11\n",
      "                                          ┌───┐\n",
      "q_0: ───────────────────────■───────■─────┤ H ├\n",
      "     ┌───┐┌───┐             │     ┌─┴─┐   ├───┤\n",
      "q_1: ┤ H ├┤ T ├─────────────┼─────┤ X ├───┤ H ├\n",
      "     ├───┤├───┤┌─────────┐┌─┴─┐┌──┴───┴──┐├───┤\n",
      "q_2: ┤ H ├┤ T ├┤ Rx(π/2) ├┤ X ├┤ Ry(π/2) ├┤ H ├\n",
      "     └───┘└───┘└─────────┘└───┘└─────────┘└───┘\n",
      "Estimated cost = 1.280e+02\n",
      "--------------------\n"
     ]
    }
   ],
   "source": [
    "# Set the Sampler options\n",
    "options = Options(resilience_level=1, optimization_level=3, execution={\"shots\": 8192})\n",
    "\n",
    "# Create the Sampler with a Qiskit Runtime session\n",
    "sampler = Sampler(session=session, options=options)\n",
    "\n",
    "# Instantiate a WireCutter and decompose the circuit\n",
    "cutter = WireCutter(qc, sampler)\n",
    "cuts = cutter.decompose(method=\"manual\", subcircuit_vertices=[[0, 1], [2, 3]])"
   ]
  },
  {
   "cell_type": "markdown",
   "id": "00789cc4",
   "metadata": {},
   "source": [
    "### Recompose the circuit and verify the error between the full and cut circuit distributions is within tolerance"
   ]
  },
  {
   "cell_type": "code",
   "execution_count": 10,
   "id": "bb70ef8e",
   "metadata": {},
   "outputs": [
    {
     "name": "stdout",
     "output_type": "stream",
     "text": [
      "{'nearest': {'chi2': 0.000945435288411869, 'Mean Squared Error': 3.225651458057084e-06, 'Mean Absolute Percentage Error': 4.865656043440635, 'Cross Entropy': 2.6006270719470366, 'HOP': 0.9011884735467545}, 'naive': {'chi2': 0.0009454352884118697, 'Mean Squared Error': 3.22565145805708e-06, 'Mean Absolute Percentage Error': 4.865656043440633, 'Cross Entropy': 2.6006270719470366, 'HOP': 0.9011884735467545}}\n"
     ]
    }
   ],
   "source": [
    "# Evaluate the subcircuits on backend\n",
    "subcircuit_instance_probabilities = cutter.evaluate(cuts)\n",
    "\n",
    "# Recompose the circuit and generate the cut circuit's probability distribution\n",
    "ordered_probabilities = cutter.recompose(\n",
    "    subcircuit_instance_probabilities, cuts, num_threads=4\n",
    ")\n",
    "\n",
    "# Use a statevector simulator to calculate the error between the inferred and actual distributions\n",
    "metrics = cutter.verify(ordered_probabilities)\n",
    "print(metrics)"
   ]
  }
 ],
 "metadata": {
  "kernelspec": {
   "display_name": "Python 3 (ipykernel)",
   "language": "python",
   "name": "python3"
  },
  "language_info": {
   "codemirror_mode": {
    "name": "ipython",
    "version": 3
   },
   "file_extension": ".py",
   "mimetype": "text/x-python",
   "name": "python",
   "nbconvert_exporter": "python",
   "pygments_lexer": "ipython3",
   "version": "3.7.13"
  }
 },
 "nbformat": 4,
 "nbformat_minor": 5
}
