{
 "cells": [
  {
   "cell_type": "markdown",
   "id": "c6cd641f",
   "metadata": {},
   "source": [
    "# Circuit Cutting with Manual Wire Cutting\n",
    "\n",
    "Circuit cutting is a technique to decompose a quantum circuit into smaller circuits, whose results can be knitted together to reconstruct the original circuit output. \n",
    "\n",
    "The circuit knitting toolbox implements a wire cutting method presented in [CutQC](https://doi.org/10.1145/3445814.3446758) (Tang et al.). This method allows a circuit wire to be cut such that the generated subcircuits are amended by measurements in the Pauli bases and by state preparation of four Pauli eigenstates (see Fig. 4 of [CutQC](https://doi.org/10.1145/3445814.3446758)).\n",
    "\n",
    "This wire cutting technique is comprised of the following basic steps:\n",
    "\n",
    "1. **Decompose**: Cut a circuit into multiple subcircuits. Here, we'll use a manual method to specify the cut(s). See [tutorial 1](tutorial_1_circuit_cutting_automatic_cut_finding.ipynb) to automatically cut a circuit.\n",
    "2. **Evaluate**: Execute those subcircuits on quantum backend(s).\n",
    "3. **Reconstruct**: Knit the subcircuit results together to reconstruct the original circuit output (in this case, the full probability distribution)."
   ]
  },
  {
   "cell_type": "markdown",
   "id": "3c17f515",
   "metadata": {},
   "source": [
    "## Create a quantum circuit with Qiskit\n",
    "\n",
    "In this tutorial, we'll use the example circuit shown in [CutQC](https://dl.acm.org/doi/10.1145/3445814.3446758)."
   ]
  },
  {
   "cell_type": "code",
   "execution_count": 1,
   "id": "eb859bde",
   "metadata": {},
   "outputs": [
    {
     "data": {
      "image/png": "[encoded data removed]",
      "text/plain": [
       "<Figure size 466.456x338.625 with 1 Axes>"
      ]
     },
     "execution_count": 1,
     "metadata": {},
     "output_type": "execute_result"
    }
   ],
   "source": [
    "import numpy as np\n",
    "from qiskit import QuantumCircuit\n",
    "\n",
    "num_qubits = 5\n",
    "\n",
    "circuit = QuantumCircuit(num_qubits)\n",
    "for i in range(num_qubits):\n",
    "    circuit.h(i)\n",
    "circuit.cx(0, 1)\n",
    "for i in range(2, num_qubits):\n",
    "    circuit.t(i)\n",
    "circuit.cx(0, 2)\n",
    "circuit.rx(np.pi / 2, 4)\n",
    "circuit.rx(np.pi / 2, 0)\n",
    "circuit.rx(np.pi / 2, 1)\n",
    "circuit.cx(2, 4)\n",
    "circuit.t(0)\n",
    "circuit.t(1)\n",
    "circuit.cx(2, 3)\n",
    "circuit.ry(np.pi / 2, 4)\n",
    "for i in range(num_qubits):\n",
    "    circuit.h(i)\n",
    "\n",
    "circuit.draw(\"mpl\", fold=-1, scale=0.75)"
   ]
  },
  {
   "cell_type": "markdown",
   "id": "461e57e3",
   "metadata": {},
   "source": [
    "## Set up the Qiskit Runtime Service\n",
    "\n",
    "The Qiskit Runtime Service provides access to IBM Runtime Primitives and quantum backends.\n",
    "Alternatively, a local statevector simulator can be used with the Qiskit primitives."
   ]
  },
  {
   "cell_type": "code",
   "execution_count": 2,
   "id": "5d1fb2ca",
   "metadata": {},
   "outputs": [],
   "source": [
    "from qiskit_ibm_runtime import (\n",
    "    QiskitRuntimeService,\n",
    "    Options,\n",
    ")\n",
    "\n",
    "service = QiskitRuntimeService(\n",
    "    channel=\"ibm_quantum\",\n",
    "    token=\"<YOUR_API_TOKEN>\",\n",
    ")"
   ]
  },
  {
   "cell_type": "markdown",
   "id": "5fb383d2",
   "metadata": {},
   "source": [
    "The wire cutter tool uses a `Sampler` primitive to evaluate the probabilities of each subcircuit. Here, we configure the options for the Runtime Sampler and specify the backend(s) to be used to evaluate the subcircuits:"
   ]
  },
  {
   "cell_type": "code",
   "execution_count": 3,
   "id": "d409553d",
   "metadata": {},
   "outputs": [],
   "source": [
    "# Set the Sampler and runtime options\n",
    "options = Options(execution={\"shots\": 4000})\n",
    "\n",
    "# Run 2 parallel qasm simulator threads\n",
    "backend_names = [\"ibmq_qasm_simulator\"] * 2"
   ]
  },
  {
   "cell_type": "markdown",
   "id": "61d2944a",
   "metadata": {},
   "source": [
    "## Set up the Wire Cutter from the Circuit Knitting Toolbox\n",
    "\n",
    "Instantiate a `WireCutter` with the circuit and runtime information."
   ]
  },
  {
   "cell_type": "code",
   "execution_count": 4,
   "id": "57c8dccb",
   "metadata": {},
   "outputs": [],
   "source": [
    "from circuit_knitting_toolbox.circuit_cutting import WireCutter\n",
    "\n",
    "cutter = WireCutter(\n",
    "    circuit, service=service, backend_names=backend_names, options=options\n",
    ")"
   ]
  },
  {
   "cell_type": "markdown",
   "id": "30e45e68",
   "metadata": {},
   "source": [
    "Note: if only a circuit is passed to `WireCutter`, a local Qiskit Sampler with the statevector simulator will be used instead:<br>\n",
    "```cutter = WireCutter(circuit)```"
   ]
  },
  {
   "cell_type": "markdown",
   "id": "0aa14d2f",
   "metadata": {},
   "source": [
    "## Decompose the circuit with wire cutting\n",
    "\n",
    "In this example, we will use a manual method to specify the wire cuts. See [tutorial 1](tutorial_1_circuit_cutting_automatic_cut_finding.ipynb) for how to automatically cut a circuit.\n",
    "   * `method='manual`: Manually specify the wire cuts\n",
    "   * `subcircuit_vertices`: A list of vertices to be used in subcircuits"
   ]
  },
  {
   "cell_type": "code",
   "execution_count": 5,
   "id": "8c11457a",
   "metadata": {},
   "outputs": [
    {
     "name": "stderr",
     "output_type": "stream",
     "text": [
      "2022-10-22 12:32:03,763\tINFO worker.py:1518 -- Started a local Ray instance.\n"
     ]
    },
    {
     "name": "stdout",
     "output_type": "stream",
     "text": [
      "\u001b[2m\u001b[36m(cut_circuit_wires pid=8239)\u001b[0m --------------------\n",
      "\u001b[2m\u001b[36m(cut_circuit_wires pid=8239)\u001b[0m subcircuit 0\n",
      "\u001b[2m\u001b[36m(cut_circuit_wires pid=8239)\u001b[0m ρ qubits = 0, O qubits = 1, width = 3, effective = 2, depth = 6, size = 12\n",
      "\u001b[2m\u001b[36m(cut_circuit_wires pid=8239)\u001b[0m      ┌───┐                     ┌─────────┐┌───┐┌───┐\n",
      "\u001b[2m\u001b[36m(cut_circuit_wires pid=8239)\u001b[0m q_0: ┤ H ├──■───────────────■──┤ Rx(π/2) ├┤ T ├┤ H ├\n",
      "\u001b[2m\u001b[36m(cut_circuit_wires pid=8239)\u001b[0m      ├───┤┌─┴─┐┌─────────┐  │  └──┬───┬──┘├───┤└───┘\n",
      "\u001b[2m\u001b[36m(cut_circuit_wires pid=8239)\u001b[0m q_1: ┤ H ├┤ X ├┤ Rx(π/2) ├──┼─────┤ T ├───┤ H ├─────\n",
      "\u001b[2m\u001b[36m(cut_circuit_wires pid=8239)\u001b[0m      ├───┤├───┤└─────────┘┌─┴─┐   └───┘   └───┘     \n",
      "\u001b[2m\u001b[36m(cut_circuit_wires pid=8239)\u001b[0m q_2: ┤ H ├┤ T ├───────────┤ X ├─────────────────────\n",
      "\u001b[2m\u001b[36m(cut_circuit_wires pid=8239)\u001b[0m      └───┘└───┘           └───┘                     \n",
      "\u001b[2m\u001b[36m(cut_circuit_wires pid=8239)\u001b[0m subcircuit 1\n",
      "\u001b[2m\u001b[36m(cut_circuit_wires pid=8239)\u001b[0m ρ qubits = 1, O qubits = 0, width = 3, effective = 3, depth = 6, size = 11\n",
      "\u001b[2m\u001b[36m(cut_circuit_wires pid=8239)\u001b[0m                                           ┌───┐\n",
      "\u001b[2m\u001b[36m(cut_circuit_wires pid=8239)\u001b[0m q_0: ───────────────────────■───────■─────┤ H ├\n",
      "\u001b[2m\u001b[36m(cut_circuit_wires pid=8239)\u001b[0m      ┌───┐┌───┐             │     ┌─┴─┐   ├───┤\n",
      "\u001b[2m\u001b[36m(cut_circuit_wires pid=8239)\u001b[0m q_1: ┤ H ├┤ T ├─────────────┼─────┤ X ├───┤ H ├\n",
      "\u001b[2m\u001b[36m(cut_circuit_wires pid=8239)\u001b[0m      ├───┤├───┤┌─────────┐┌─┴─┐┌──┴───┴──┐├───┤\n",
      "\u001b[2m\u001b[36m(cut_circuit_wires pid=8239)\u001b[0m q_2: ┤ H ├┤ T ├┤ Rx(π/2) ├┤ X ├┤ Ry(π/2) ├┤ H ├\n",
      "\u001b[2m\u001b[36m(cut_circuit_wires pid=8239)\u001b[0m      └───┘└───┘└─────────┘└───┘└─────────┘└───┘\n",
      "\u001b[2m\u001b[36m(cut_circuit_wires pid=8239)\u001b[0m Estimated cost = 1.280e+02\n",
      "\u001b[2m\u001b[36m(cut_circuit_wires pid=8239)\u001b[0m --------------------\n"
     ]
    }
   ],
   "source": [
    "cuts = cutter.decompose(method=\"manual\", subcircuit_vertices=[[0, 1], [2, 3]])"
   ]
  },
  {
   "cell_type": "markdown",
   "id": "742ec1e1",
   "metadata": {},
   "source": [
    "## Evaluate the subcircuits with Qiskit Runtime\n",
    "\n",
    "\n",
    "Note that two local cores will be used to support each of the parallel backend threads we specified earlier. See [tutorial 1](tutorial_1_circuit_cutting_automatic_cut_finding.ipynb) for more info about the subcircuit results."
   ]
  },
  {
   "cell_type": "code",
   "execution_count": 6,
   "id": "2ae5160c",
   "metadata": {},
   "outputs": [],
   "source": [
    "subcircuit_instance_probabilities = cutter.evaluate(cuts)"
   ]
  },
  {
   "cell_type": "markdown",
   "id": "17e8511c",
   "metadata": {},
   "source": [
    "## Reconstruct the full circuit output\n",
    "\n",
    "Next, the results of the subcircuit experiments are classical postprocessed to reconstruct an estimate of the original circuit's full probability distribution."
   ]
  },
  {
   "cell_type": "code",
   "execution_count": 7,
   "id": "5aceecc0",
   "metadata": {},
   "outputs": [],
   "source": [
    "%%capture\n",
    "\n",
    "reconstructed_probabilities = cutter.reconstruct(\n",
    "    subcircuit_instance_probabilities, cuts\n",
    ")"
   ]
  },
  {
   "cell_type": "markdown",
   "id": "8f6d26ee",
   "metadata": {},
   "source": [
    "Here are the reconstructed probabilities for the original 5-qubit circuit:"
   ]
  },
  {
   "cell_type": "code",
   "execution_count": 8,
   "id": "fe5d901c",
   "metadata": {},
   "outputs": [
    {
     "name": "stdout",
     "output_type": "stream",
     "text": [
      "Size of reconstructed probability distribution:  32\n"
     ]
    }
   ],
   "source": [
    "print(\n",
    "    \"Size of reconstructed probability distribution: \", len(reconstructed_probabilities)\n",
    ")"
   ]
  },
  {
   "cell_type": "markdown",
   "id": "40277ef0",
   "metadata": {},
   "source": [
    "## Verify the results\n",
    "\n",
    "If the original circuit is small enough, we can use a statevector simulator to check the results of cutting against the original circuit's exact probability distribution (ground truth)."
   ]
  },
  {
   "cell_type": "code",
   "execution_count": 9,
   "id": "5353b0c8",
   "metadata": {},
   "outputs": [],
   "source": [
    "metrics, exact_probabilities = cutter.verify(reconstructed_probabilities)"
   ]
  },
  {
   "cell_type": "markdown",
   "id": "b220335e",
   "metadata": {},
   "source": [
    "The verify step includes several metrics, including the chi square loss. More info about each metric can be found in the [utils metrics file](https://github.com/Qiskit-Extensions/circuit-knitting-toolbox/blob/main/circuit_knitting_toolbox/utils/metrics.py)."
   ]
  },
  {
   "cell_type": "code",
   "execution_count": 10,
   "id": "8d54b767",
   "metadata": {},
   "outputs": [
    {
     "data": {
      "text/plain": [
       "{'nearest': {'chi2': 0.0016480859293148851,\n",
       "  'Mean Squared Error': 2.2735561224425387e-06,\n",
       "  'Mean Absolute Percentage Error': 9.116161020394516,\n",
       "  'Cross Entropy': 2.6013770444786495,\n",
       "  'HOP': 0.9068189188838005},\n",
       " 'naive': {'chi2': 0.0016480859293148851,\n",
       "  'Mean Squared Error': 2.2735561224425387e-06,\n",
       "  'Mean Absolute Percentage Error': 9.116161020394516,\n",
       "  'Cross Entropy': 2.6013770444786495,\n",
       "  'HOP': 0.9068189188838005}}"
      ]
     },
     "execution_count": 10,
     "metadata": {},
     "output_type": "execute_result"
    }
   ],
   "source": [
    "metrics"
   ]
  },
  {
   "cell_type": "markdown",
   "id": "ec8c120e",
   "metadata": {},
   "source": [
    "If we calculated the ground truth above, we can visualize a comparison to the reconstructed probabilities"
   ]
  },
  {
   "cell_type": "code",
   "execution_count": 11,
   "id": "c8cc97e9",
   "metadata": {},
   "outputs": [
    {
     "data": {
      "image/png": "[encoded data removed]",
      "text/plain": [
       "<Figure size 1600x600 with 1 Axes>"
      ]
     },
     "execution_count": 11,
     "metadata": {},
     "output_type": "execute_result"
    }
   ],
   "source": [
    "from qiskit.visualization import plot_histogram\n",
    "from qiskit.result import ProbDistribution\n",
    "\n",
    "# Create a dict for the reconstructed distribution\n",
    "reconstructed_distribution = {\n",
    "    i: prob for i, prob in enumerate(reconstructed_probabilities)\n",
    "}\n",
    "\n",
    "# Represent states as bitstrings (instead of ints)\n",
    "reconstructed_dict_bitstring = ProbDistribution(\n",
    "    data=reconstructed_distribution\n",
    ").binary_probabilities(num_bits=num_qubits)\n",
    "\n",
    "\n",
    "# Create the ground truth distribution dict\n",
    "exact_distribution = {i: prob for i, prob in enumerate(exact_probabilities)}\n",
    "\n",
    "# Represent states as bitstrings (instead of ints)\n",
    "exact_dict_bitstring = ProbDistribution(data=exact_distribution).binary_probabilities(\n",
    "    num_bits=num_qubits\n",
    ")\n",
    "\n",
    "# plot a histogram of the distributions\n",
    "plot_histogram(\n",
    "    [exact_dict_bitstring, reconstructed_dict_bitstring],\n",
    "    number_to_keep=8,\n",
    "    figsize=(16, 6),\n",
    "    sort=\"asc\",\n",
    "    legend=[\"Exact\", \"Reconstructed\"],\n",
    ")"
   ]
  },
  {
   "cell_type": "code",
   "execution_count": 12,
   "id": "6a3261e8",
   "metadata": {},
   "outputs": [
    {
     "data": {
      "text/html": [
       "<h3>Version Information</h3><table><tr><th>Qiskit Software</th><th>Version</th></tr><tr><td><code>qiskit-terra</code></td><td>0.22.0</td></tr><tr><td><code>qiskit-aer</code></td><td>0.11.0</td></tr><tr><td><code>qiskit-ibmq-provider</code></td><td>0.19.2</td></tr><tr><td><code>qiskit-nature</code></td><td>0.4.5</td></tr><tr><th>System information</th></tr><tr><td>Python version</td><td>3.9.13</td></tr><tr><td>Python compiler</td><td>Clang 12.0.0 </td></tr><tr><td>Python build</td><td>main, Oct 13 2022 16:12:30</td></tr><tr><td>OS</td><td>Darwin</td></tr><tr><td>CPUs</td><td>4</td></tr><tr><td>Memory (Gb)</td><td>32.0</td></tr><tr><td colspan='2'>Sat Oct 22 12:32:36 2022 MDT</td></tr></table>"
      ],
      "text/plain": [
       "<IPython.core.display.HTML object>"
      ]
     },
     "metadata": {},
     "output_type": "display_data"
    }
   ],
   "source": [
    "import qiskit.tools.jupyter\n",
    "\n",
    "%qiskit_version_table"
   ]
  },
  {
   "cell_type": "markdown",
   "id": "d55d9f98",
   "metadata": {},
   "source": [
    "This code is a Qiskit project.\n",
    "© Copyright IBM 2022.\n",
    "\n",
    "This code is licensed under the Apache License, Version 2.0. You may\n",
    "obtain a copy of this license in the LICENSE.txt file in the root directory\n",
    "of this source tree or at http://www.apache.org/licenses/LICENSE-2.0.\n",
    "\n",
    "Any modifications or derivative works of this code must retain this\n",
    "copyright notice, and modified files need to carry a notice indicating\n",
    "that they have been altered from the originals."
   ]
  }
 ],
 "metadata": {
  "kernelspec": {
   "display_name": "Python 3 (ipykernel)",
   "language": "python",
   "name": "python3"
  },
  "language_info": {
   "codemirror_mode": {
    "name": "ipython",
    "version": 3
   },
   "file_extension": ".py",
   "mimetype": "text/x-python",
   "name": "python",
   "nbconvert_exporter": "python",
   "pygments_lexer": "ipython3",
   "version": "3.10.6"
  }
 },
 "nbformat": 4,
 "nbformat_minor": 5
}
