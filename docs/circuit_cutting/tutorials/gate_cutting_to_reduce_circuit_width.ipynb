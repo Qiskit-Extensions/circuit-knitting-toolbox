{
 "cells": [
  {
   "cell_type": "markdown",
   "id": "ad1f14b4",
   "metadata": {},
   "source": [
    "## Gate Cutting to Reduce Circuit Width"
   ]
  },
  {
   "cell_type": "code",
   "execution_count": 1,
   "id": "1e710888",
   "metadata": {},
   "outputs": [],
   "source": [
    "import numpy as np\n",
    "from qiskit.circuit.library import EfficientSU2\n",
    "from qiskit.quantum_info import PauliList\n",
    "from qiskit_aer.primitives import Estimator, Sampler\n",
    "\n",
    "from circuit_knitting_toolbox.circuit_cutting import (\n",
    "    partition_problem,\n",
    "    execute_experiments,\n",
    "    reconstruct_expectation_values,\n",
    ")"
   ]
  },
  {
   "cell_type": "markdown",
   "id": "510910a6",
   "metadata": {},
   "source": [
    "### Create a circuit to cut"
   ]
  },
  {
   "cell_type": "code",
   "execution_count": 2,
   "id": "96f5b72a",
   "metadata": {},
   "outputs": [
    {
     "data": {
      "image/png": "[encoded data removed]",
      "text/plain": [
       "<Figure size 831.997x294.311 with 1 Axes>"
      ]
     },
     "execution_count": 2,
     "metadata": {},
     "output_type": "execute_result"
    }
   ],
   "source": [
    "circuit = EfficientSU2(4, entanglement=\"linear\", reps=2).decompose()\n",
    "circuit.assign_parameters([0.8] * len(circuit.parameters), inplace=True)\n",
    "\n",
    "circuit.draw(\"mpl\", scale=0.8)"
   ]
  },
  {
   "cell_type": "markdown",
   "id": "8638fdf1",
   "metadata": {},
   "source": [
    "### Specify some observables for which we wish to simulate expectation values"
   ]
  },
  {
   "cell_type": "code",
   "execution_count": 3,
   "id": "f75e8dd1",
   "metadata": {},
   "outputs": [],
   "source": [
    "observables = PauliList([\"ZZII\", \"IZZI\", \"IIZZ\", \"XIXI\", \"ZIZZ\", \"IXIX\"])"
   ]
  },
  {
   "cell_type": "markdown",
   "id": "162a5629",
   "metadata": {},
   "source": [
    "### Decompose the circuit and observables according to a specified qubit partitioning using `partition_problem`\n",
    "\n",
    "Each label in `partition_labels` corresponds to the `circuit` qubit in the same index. Qubits sharing a common partition label will be grouped together, and non-local gates spanning more than one partition will be cut.\n",
    "    \n",
    "\n",
    "`partition_problem` returns dictionaries mapping partition labels to subcircuits and subobservables which have been separated along the partition boundaries. The subcircuits' cut gates have been replaced by ``SingleQubitQPDGate``s. For convenience, the ``QPDBasis`` instances from each gate decomposition are also returned."
   ]
  },
  {
   "cell_type": "code",
   "execution_count": 4,
   "id": "30326299",
   "metadata": {},
   "outputs": [],
   "source": [
    "subcircuits, subobservables, bases = partition_problem(\n",
    "    circuit=circuit, partition_labels=\"AABB\", observables=observables\n",
    ")"
   ]
  },
  {
   "cell_type": "markdown",
   "id": "ba3125fc",
   "metadata": {},
   "source": [
    "### Calculate the sampling overhead for the chosen cuts"
   ]
  },
  {
   "cell_type": "code",
   "execution_count": 5,
   "id": "3d606ef8",
   "metadata": {},
   "outputs": [
    {
     "name": "stdout",
     "output_type": "stream",
     "text": [
      "Sampling overhead: 81.0\n"
     ]
    }
   ],
   "source": [
    "print(f\"Sampling overhead: {np.prod([basis.overhead for basis in bases])}\")"
   ]
  },
  {
   "cell_type": "markdown",
   "id": "495ce676",
   "metadata": {},
   "source": [
    "### Generate and run the cutting experiments using `execute_experiments`\n",
    "\n",
    "`execute_experiments` accepts `circuits`/`observables` args as dictionaries mapping qubit partition labels to the respective `subcircuit`/`subobservables`.\n",
    "\n",
    "To simulate the expectation value of the full-sized circuit, many subexperiments are generated from the decomposed gates' joint quasiprobability distribution and then executed on one or more backends. The number of samples to take from the distribution may be specified by `num_samples`. A `Sampler` may be specified to use for all subexperiments, or users may specify a `Sampler` for each qubit partition through a dictionary, as shown below.\n",
    "\n",
    "`execute_experiments` returns a 3D list of length-2 tuples containing a quasiprobability distribution and QPD bit information for each unique subexperiment. The coefficients for each subexperiment are also returned. If the number of samples taken could cover the entire distribution, the returned coefficients will be exact with respect to the  decomposed gates' joint quasiprobability distribution."
   ]
  },
  {
   "cell_type": "code",
   "execution_count": 6,
   "id": "7430eef1",
   "metadata": {},
   "outputs": [],
   "source": [
    "%%capture\n",
    "\n",
    "############\n",
    "# Python's GIL will prevent the parallelization of these subexperiments from\n",
    "# providing a speedup when run *locally*. Use Qiskit Runtime to run\n",
    "# subexperiments in parallel\n",
    "############\n",
    "\n",
    "# Specify a Sampler for each qubit partition\n",
    "samplers = {\n",
    "    \"A\": Sampler(run_options={\"shots\": None}),\n",
    "    \"B\": Sampler(run_options={\"shots\": None}),\n",
    "}\n",
    "\n",
    "quasi_dists, coefficients = execute_experiments(\n",
    "    circuits=subcircuits,\n",
    "    observables=subobservables,\n",
    "    num_samples=1500,\n",
    "    samplers=samplers,\n",
    ")"
   ]
  },
  {
   "cell_type": "markdown",
   "id": "f0032570",
   "metadata": {},
   "source": [
    "### Reconstruct the simulated expectation values using `reconstruct_expectation_values`\n",
    "\n",
    "`reconstruct_expectation_values` expects `quasi_dists` and `coefficients` in the same format as returned from `execute_experiments`. `quasi_dists` is a 3D list of shape `(num_unique_samples, num_partitions, num_commuting_observ_groups)`, and `coefficients` is a list of length `num_unique_samples`. `subobservables` is the dictionary mapping qubit partition label to the associated subobservable(s), as output from `decompose_problem` above.\n",
    "\n",
    "The output of `reconstruct_expectation_values` is a list of simulated expectation values -- one for each observable."
   ]
  },
  {
   "cell_type": "code",
   "execution_count": 7,
   "id": "7d57339c",
   "metadata": {},
   "outputs": [],
   "source": [
    "simulated_expvals = reconstruct_expectation_values(\n",
    "    quasi_dists,\n",
    "    coefficients,\n",
    "    subobservables,\n",
    ")"
   ]
  },
  {
   "cell_type": "markdown",
   "id": "53beaca3",
   "metadata": {},
   "source": [
    "### Compare the simulated expectation values with the exact expectation value from the original circuit\n",
    "\n",
    "Statevector-based Samplers were used in this tutorial which results in exact expectation values for each subexperiment. Additionally, the number of samples taken from the joint quasiprobability distribution was sufficient to allow for exact QPD sampling weight to be calculated and used during reconstruction.\n",
    "\n",
    "Calculating the sub-expectation values exactly and reconstructing them using exact weights should yield an exact reconstruction of the expectation value of the full circuit and observable."
   ]
  },
  {
   "cell_type": "code",
   "execution_count": 8,
   "id": "e3385ba5",
   "metadata": {},
   "outputs": [
    {
     "name": "stdout",
     "output_type": "stream",
     "text": [
      "Simulated expectation values: [0.17153613, 0.1815846, 0.30958691, 0.44036036, 0.08173037, 0.70623815]\n",
      "Exact expectation values: [0.17153613, 0.1815846, 0.30958691, 0.44036036, 0.08173037, 0.70623815]\n",
      "Errors in estimation: [-0.0, 0.0, 0.0, -0.0, 0.0, 0.0]\n"
     ]
    }
   ],
   "source": [
    "estimator = Estimator(run_options={\"shots\": None}, approximation=True)\n",
    "exact_expvals = (\n",
    "    estimator.run([circuit] * len(observables), list(observables)).result().values\n",
    ")\n",
    "print(\n",
    "    f\"Simulated expectation values: {[round(simulated_expvals[i], 8) for i in range(len(exact_expvals))]}\"\n",
    ")\n",
    "print(\n",
    "    f\"Exact expectation values: {[round(exact_expvals[i], 8) for i in range(len(exact_expvals))]}\"\n",
    ")\n",
    "print(\n",
    "    f\"Errors in estimation: {[round(simulated_expvals[i]-exact_expvals[i], 8) for i in range(len(exact_expvals))]}\"\n",
    ")"
   ]
  }
 ],
 "metadata": {
  "kernelspec": {
   "display_name": "Python 3 (ipykernel)",
   "language": "python",
   "name": "python3"
  },
  "language_info": {
   "codemirror_mode": {
    "name": "ipython",
    "version": 3
   },
   "file_extension": ".py",
   "mimetype": "text/x-python",
   "name": "python",
   "nbconvert_exporter": "python",
   "pygments_lexer": "ipython3",
   "version": "3.8.16"
  }
 },
 "nbformat": 4,
 "nbformat_minor": 5
}
