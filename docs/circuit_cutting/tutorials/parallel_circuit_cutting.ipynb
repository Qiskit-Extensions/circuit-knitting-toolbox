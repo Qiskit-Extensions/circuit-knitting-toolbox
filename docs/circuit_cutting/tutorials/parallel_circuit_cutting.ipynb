{
 "cells": [
  {
   "cell_type": "markdown",
   "id": "c6cd641f",
   "metadata": {},
   "source": [
    "## Circuit cutting with automatic cut finding using the Circuit Knitting Toolbox"
   ]
  },
  {
   "cell_type": "markdown",
   "id": "e7043390",
   "metadata": {},
   "source": [
    "### Import relevant modules"
   ]
  },
  {
   "cell_type": "code",
   "execution_count": 1,
   "id": "31fe2cf1",
   "metadata": {},
   "outputs": [],
   "source": [
    "import numpy as np\n",
    "from qiskit import QuantumCircuit\n",
    "from qiskit.circuit.library import EfficientSU2\n",
    "from qiskit_ibm_runtime import (\n",
    "    QiskitRuntimeService,\n",
    "    Options,\n",
    "    Session,\n",
    "    Sampler,\n",
    "    RuntimeOptions,\n",
    ")\n",
    "from quantum_serverless import QuantumServerless\n",
    "\n",
    "from circuit_knitting_toolbox.circuit_cutting import WireCutter"
   ]
  },
  {
   "cell_type": "code",
   "execution_count": 2,
   "id": "9ff55e7b",
   "metadata": {},
   "outputs": [],
   "source": [
    "serverless = QuantumServerless()"
   ]
  },
  {
   "cell_type": "markdown",
   "id": "3c17f515",
   "metadata": {},
   "source": [
    "### Create a circuit to cut"
   ]
  },
  {
   "cell_type": "code",
   "execution_count": 3,
   "id": "eb859bde",
   "metadata": {},
   "outputs": [],
   "source": [
    "num_qubits = 8\n",
    "circuit = EfficientSU2(\n",
    "    num_qubits=num_qubits,\n",
    "    reps=2,\n",
    "    entanglement=\"linear\",\n",
    "    su2_gates=[\"ry\"],\n",
    "    insert_barriers=False,\n",
    ")\n",
    "\n",
    "shift = 0.25\n",
    "params = (\n",
    "    [np.pi / 2 - shift]\n",
    "    + [shift]\n",
    "    + [np.pi / 2 - shift]\n",
    "    + [shift] * int(len(circuit.parameters) / 1 - 3)\n",
    ")\n",
    "\n",
    "circuit.assign_parameters(params, inplace=True)\n",
    "circuit = circuit.decompose()"
   ]
  },
  {
   "cell_type": "markdown",
   "id": "461e57e3",
   "metadata": {},
   "source": [
    "### Set up the Qiskit runtime service"
   ]
  },
  {
   "cell_type": "code",
   "execution_count": 4,
   "id": "5d1fb2ca",
   "metadata": {},
   "outputs": [],
   "source": [
    "service_args = QiskitRuntimeService(\n",
    "    channel=\"ibm_quantum\",\n",
    "    instance=\"<YOUR_INSTANCE>\",\n",
    "    token=\"<YOUR_API_KEY>\",\n",
    ").active_account()"
   ]
  },
  {
   "cell_type": "markdown",
   "id": "61d2944a",
   "metadata": {},
   "source": [
    "### Find cuts that match our criteria"
   ]
  },
  {
   "cell_type": "code",
   "execution_count": 5,
   "id": "57c8dccb",
   "metadata": {},
   "outputs": [
    {
     "name": "stdout",
     "output_type": "stream",
     "text": [
      "\u001b[2m\u001b[36m(_cut_automatic pid=77720)\u001b[0m Exporting as a LP file to let you check the model that will be solved :  inf <class 'float'>\n",
      "\u001b[2m\u001b[36m(_cut_automatic pid=77720)\u001b[0m Version identifier: 12.10.0.0 | 2019-11-26 | 843d4de\n",
      "\u001b[2m\u001b[36m(_cut_automatic pid=77720)\u001b[0m CPXPARAM_Read_DataCheck                          1\n",
      "\u001b[2m\u001b[36m(_cut_automatic pid=77720)\u001b[0m CPXPARAM_TimeLimit                               300\n",
      "\u001b[2m\u001b[36m(_cut_automatic pid=77720)\u001b[0m Warning:  Non-integral bounds for integer variables rounded.\n",
      "\u001b[2m\u001b[36m(_cut_automatic pid=77720)\u001b[0m Tried aggregator 3 times.\n",
      "\u001b[2m\u001b[36m(_cut_automatic pid=77720)\u001b[0m MIP Presolve eliminated 37 rows and 8 columns.\n",
      "\u001b[2m\u001b[36m(_cut_automatic pid=77720)\u001b[0m MIP Presolve modified 7 coefficients.\n",
      "\u001b[2m\u001b[36m(_cut_automatic pid=77720)\u001b[0m Aggregator did 103 substitutions.\n",
      "\u001b[2m\u001b[36m(_cut_automatic pid=77720)\u001b[0m Reduced MIP has 366 rows, 127 columns, and 1072 nonzeros.\n",
      "\u001b[2m\u001b[36m(_cut_automatic pid=77720)\u001b[0m Reduced MIP has 121 binaries, 6 generals, 0 SOSs, and 0 indicators.\n",
      "\u001b[2m\u001b[36m(_cut_automatic pid=77720)\u001b[0m Presolve time = 0.00 sec. (2.11 ticks)\n",
      "\u001b[2m\u001b[36m(_cut_automatic pid=77720)\u001b[0m Found incumbent of value 2.000000 after 0.00 sec. (3.25 ticks)\n",
      "\u001b[2m\u001b[36m(_cut_automatic pid=77720)\u001b[0m Probing fixed 8 vars, tightened 0 bounds.\n",
      "\u001b[2m\u001b[36m(_cut_automatic pid=77720)\u001b[0m Probing changed sense of 18 constraints.\n",
      "\u001b[2m\u001b[36m(_cut_automatic pid=77720)\u001b[0m Probing time = 0.00 sec. (0.91 ticks)\n",
      "\u001b[2m\u001b[36m(_cut_automatic pid=77720)\u001b[0m Cover probing fixed 2 vars, tightened 9 bounds.\n",
      "\u001b[2m\u001b[36m(_cut_automatic pid=77720)\u001b[0m Tried aggregator 2 times.\n",
      "\u001b[2m\u001b[36m(_cut_automatic pid=77720)\u001b[0m MIP Presolve eliminated 105 rows and 52 columns.\n",
      "\u001b[2m\u001b[36m(_cut_automatic pid=77720)\u001b[0m MIP Presolve modified 27 coefficients.\n",
      "\u001b[2m\u001b[36m(_cut_automatic pid=77720)\u001b[0m Aggregator did 7 substitutions.\n",
      "\u001b[2m\u001b[36m(_cut_automatic pid=77720)\u001b[0m Reduced MIP has 254 rows, 68 columns, and 746 nonzeros.\n",
      "\u001b[2m\u001b[36m(_cut_automatic pid=77720)\u001b[0m Reduced MIP has 62 binaries, 6 generals, 0 SOSs, and 0 indicators.\n",
      "\u001b[2m\u001b[36m(_cut_automatic pid=77720)\u001b[0m Presolve time = 0.00 sec. (2.01 ticks)\n",
      "\u001b[2m\u001b[36m(_cut_automatic pid=77720)\u001b[0m Probing fixed 30 vars, tightened 4 bounds.\n",
      "\u001b[2m\u001b[36m(_cut_automatic pid=77720)\u001b[0m Probing changed sense of 32 constraints.\n",
      "\u001b[2m\u001b[36m(_cut_automatic pid=77720)\u001b[0m Probing time = 0.00 sec. (0.76 ticks)\n",
      "\u001b[2m\u001b[36m(_cut_automatic pid=77720)\u001b[0m Cover probing fixed 3 vars, tightened 14 bounds.\n",
      "\u001b[2m\u001b[36m(_cut_automatic pid=77720)\u001b[0m Tried aggregator 4 times.\n",
      "\u001b[2m\u001b[36m(_cut_automatic pid=77720)\u001b[0m MIP Presolve eliminated 244 rows and 56 columns.\n",
      "\u001b[2m\u001b[36m(_cut_automatic pid=77720)\u001b[0m MIP Presolve added 1 rows and 1 columns.\n",
      "\u001b[2m\u001b[36m(_cut_automatic pid=77720)\u001b[0m MIP Presolve modified 18 coefficients.\n",
      "\u001b[2m\u001b[36m(_cut_automatic pid=77720)\u001b[0m Aggregator did 11 substitutions.\n",
      "\u001b[2m\u001b[36m(_cut_automatic pid=77720)\u001b[0m All rows and columns eliminated.\n",
      "\u001b[2m\u001b[36m(_cut_automatic pid=77720)\u001b[0m Presolve time = 0.00 sec. (0.33 ticks)\n",
      "\u001b[2m\u001b[36m(_cut_automatic pid=77720)\u001b[0m \n",
      "\u001b[2m\u001b[36m(_cut_automatic pid=77720)\u001b[0m Root node processing (before b&c):\n",
      "\u001b[2m\u001b[36m(_cut_automatic pid=77720)\u001b[0m   Real time             =    0.01 sec. (7.56 ticks)\n",
      "\u001b[2m\u001b[36m(_cut_automatic pid=77720)\u001b[0m Parallel b&c, 16 threads:\n",
      "\u001b[2m\u001b[36m(_cut_automatic pid=77720)\u001b[0m   Real time             =    0.00 sec. (0.00 ticks)\n",
      "\u001b[2m\u001b[36m(_cut_automatic pid=77720)\u001b[0m   Sync time (average)   =    0.00 sec.\n",
      "\u001b[2m\u001b[36m(_cut_automatic pid=77720)\u001b[0m   Wait time (average)   =    0.00 sec.\n",
      "\u001b[2m\u001b[36m(_cut_automatic pid=77720)\u001b[0m                           ------------\n",
      "\u001b[2m\u001b[36m(_cut_automatic pid=77720)\u001b[0m Total (root+branch&cut) =    0.01 sec. (7.56 ticks)\n",
      "\u001b[2m\u001b[36m(_cut_automatic pid=77720)\u001b[0m --------------------\n",
      "\u001b[2m\u001b[36m(_cut_automatic pid=77720)\u001b[0m subcircuit 0\n",
      "\u001b[2m\u001b[36m(_cut_automatic pid=77720)\u001b[0m ρ qubits = 0, O qubits = 2, width = 4, effective = 2, depth = 7, size = 14\n",
      "\u001b[2m\u001b[36m(_cut_automatic pid=77720)\u001b[0m      ┌─────────────────────┐     ┌──────────┐                        »\n",
      "\u001b[2m\u001b[36m(_cut_automatic pid=77720)\u001b[0m q_0: ┤ Ry(1.3207963267949) ├──■──┤ Ry(0.25) ├─────────────────■──────»\n",
      "\u001b[2m\u001b[36m(_cut_automatic pid=77720)\u001b[0m      └─────┬──────────┬────┘┌─┴─┐└──────────┘┌──────────┐   ┌─┴─┐    »\n",
      "\u001b[2m\u001b[36m(_cut_automatic pid=77720)\u001b[0m q_1: ──────┤ Ry(0.25) ├─────┤ X ├─────■──────┤ Ry(0.25) ├───┤ X ├────»\n",
      "\u001b[2m\u001b[36m(_cut_automatic pid=77720)\u001b[0m      ┌─────┴──────────┴────┐└───┘   ┌─┴─┐    └──────────┘┌──┴───┴───┐»\n",
      "\u001b[2m\u001b[36m(_cut_automatic pid=77720)\u001b[0m q_2: ┤ Ry(1.3207963267949) ├────────┤ X ├─────────■──────┤ Ry(0.25) ├»\n",
      "\u001b[2m\u001b[36m(_cut_automatic pid=77720)\u001b[0m      └─────┬──────────┬────┘        └───┘       ┌─┴─┐    └──────────┘»\n",
      "\u001b[2m\u001b[36m(_cut_automatic pid=77720)\u001b[0m q_3: ──────┤ Ry(0.25) ├─────────────────────────┤ X ├────────────────»\n",
      "\u001b[2m\u001b[36m(_cut_automatic pid=77720)\u001b[0m            └──────────┘                         └───┘                »\n",
      "\u001b[2m\u001b[36m(_cut_automatic pid=77720)\u001b[0m «     ┌──────────┐            \n",
      "\u001b[2m\u001b[36m(_cut_automatic pid=77720)\u001b[0m «q_0: ┤ Ry(0.25) ├────────────\n",
      "\u001b[2m\u001b[36m(_cut_automatic pid=77720)\u001b[0m «     └──────────┘┌──────────┐\n",
      "\u001b[2m\u001b[36m(_cut_automatic pid=77720)\u001b[0m «q_1: ─────■──────┤ Ry(0.25) ├\n",
      "\u001b[2m\u001b[36m(_cut_automatic pid=77720)\u001b[0m «        ┌─┴─┐    └──────────┘\n",
      "\u001b[2m\u001b[36m(_cut_automatic pid=77720)\u001b[0m «q_2: ───┤ X ├────────────────\n",
      "\u001b[2m\u001b[36m(_cut_automatic pid=77720)\u001b[0m «        └───┘                \n",
      "\u001b[2m\u001b[36m(_cut_automatic pid=77720)\u001b[0m «q_3: ────────────────────────\n",
      "\u001b[2m\u001b[36m(_cut_automatic pid=77720)\u001b[0m «                             \n",
      "\u001b[2m\u001b[36m(_cut_automatic pid=77720)\u001b[0m subcircuit 1\n",
      "\u001b[2m\u001b[36m(_cut_automatic pid=77720)\u001b[0m ρ qubits = 2, O qubits = 0, width = 6, effective = 6, depth = 9, size = 24\n"
     ]
    },
    {
     "name": "stderr",
     "output_type": "stream",
     "text": [
      "/Users/caleb/opt/anaconda3/envs/summitdemo3py37/lib/python3.7/site-packages/ray/_private/worker.py:976: UserWarning: len(ctx) is deprecated. Use len(ctx.address_info) instead.\n",
      "  warnings.warn(\"len(ctx) is deprecated. Use len(ctx.address_info) instead.\")\n"
     ]
    }
   ],
   "source": [
    "# Set the Sampler and runtime options\n",
    "# options = Options(resilience_level=1, optimization_level=3, execution={\"shots\": 8192})\n",
    "# runtime_options = RuntimeOptions(backend=\"ibmq_qasm_simulator\")\n",
    "\n",
    "# Instantiate a WireCutter and decompose the circuit\n",
    "# cutter = WireCutter(\n",
    "#    qc, service_args=service_args, backend_names=backend_names, options=options, runtime_options=runtime_options\n",
    "# )\n",
    "backend_names = [\"ibmq_qasm_simulator\", \"ibmq_qasm_simulator\"]\n",
    "cutter = WireCutter(circuit, service_args=service_args, backend_names=backend_names)  # Local Estimator\n",
    "\n",
    "with serverless:\n",
    "    cuts = cutter.decompose(\n",
    "        method=\"automatic\",\n",
    "        max_subcircuit_width=6,\n",
    "        max_cuts=2,\n",
    "        num_subcircuits=[2],\n",
    "    )"
   ]
  },
  {
   "cell_type": "markdown",
   "id": "00789cc4",
   "metadata": {},
   "source": [
    "### Evaluate the subcircuits, then recompose the circuit and verify the error between the full and cut circuit distributions is within tolerance"
   ]
  },
  {
   "cell_type": "code",
   "execution_count": 6,
   "id": "bb70ef8e",
   "metadata": {},
   "outputs": [
    {
     "name": "stdout",
     "output_type": "stream",
     "text": [
      "{'nearest': {'chi2': 0.01954538514207468, 'Mean Squared Error': 3.6903448954462296e-07, 'Mean Absolute Percentage Error': 2086.0110048217257, 'Cross Entropy': 2.756155743996132, 'HOP': 0.9924607197002497}, 'naive': {'chi2': 0.01834240070622006, 'Mean Squared Error': 3.3782562647441804e-07, 'Mean Absolute Percentage Error': 2585.081449491616, 'Cross Entropy': 2.734403698464808, 'HOP': 0.9908939973952848}}\n"
     ]
    }
   ],
   "source": [
    "# Evaluate the subcircuits on backend\n",
    "with serverless:\n",
    "    subcircuit_instance_probabilities = cutter.evaluate(cuts)\n",
    "\n",
    "# Recompose the circuit and generate the cut circuit's probability distribution\n",
    "with serverless:\n",
    "    reconstructed_probabilities = cutter.recompose(\n",
    "        subcircuit_instance_probabilities, cuts, num_threads=4\n",
    "    )\n",
    "\n",
    "# Use a statevector simulator to calculate the error between the inferred and actual distributions\n",
    "metrics = cutter.verify(reconstructed_probabilities)\n",
    "print(metrics)"
   ]
  }
 ],
 "metadata": {
  "kernelspec": {
   "display_name": "Python 3 (ipykernel)",
   "language": "python",
   "name": "python3"
  },
  "language_info": {
   "codemirror_mode": {
    "name": "ipython",
    "version": 3
   },
   "file_extension": ".py",
   "mimetype": "text/x-python",
   "name": "python",
   "nbconvert_exporter": "python",
   "pygments_lexer": "ipython3",
   "version": "3.7.13"
  }
 },
 "nbformat": 4,
 "nbformat_minor": 5
}
