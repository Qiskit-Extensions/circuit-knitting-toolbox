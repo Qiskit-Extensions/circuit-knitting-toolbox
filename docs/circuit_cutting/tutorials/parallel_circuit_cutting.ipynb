{
 "cells": [
  {
   "cell_type": "markdown",
   "id": "c6cd641f",
   "metadata": {},
   "source": [
    "## Circuit cutting with automatic cut finding using the Circuit Knitting Toolbox"
   ]
  },
  {
   "cell_type": "markdown",
   "id": "e7043390",
   "metadata": {},
   "source": [
    "### Import relevant modules"
   ]
  },
  {
   "cell_type": "code",
   "execution_count": null,
   "id": "31fe2cf1",
   "metadata": {},
   "outputs": [],
   "source": [
    "import numpy as np\n",
    "from qiskit import QuantumCircuit\n",
    "from qiskit.circuit.library import EfficientSU2\n",
    "from qiskit_ibm_runtime import (\n",
    "    QiskitRuntimeService,\n",
    "    Options,\n",
    "    Session,\n",
    "    Sampler,\n",
    "    RuntimeOptions,\n",
    ")\n",
    "from quantum_serverless import QuantumServerless\n",
    "\n",
    "from circuit_knitting_toolbox.circuit_cutting import WireCutter"
   ]
  },
  {
   "cell_type": "code",
   "execution_count": null,
   "id": "9ff55e7b",
   "metadata": {},
   "outputs": [],
   "source": [
    "serverless = QuantumServerless()"
   ]
  },
  {
   "cell_type": "markdown",
   "id": "3c17f515",
   "metadata": {},
   "source": [
    "### Create a circuit to cut"
   ]
  },
  {
   "cell_type": "code",
   "execution_count": null,
   "id": "eb859bde",
   "metadata": {},
   "outputs": [],
   "source": [
    "num_qubits = 8\n",
    "circuit = EfficientSU2(\n",
    "    num_qubits=num_qubits,\n",
    "    reps=2,\n",
    "    entanglement=\"linear\",\n",
    "    su2_gates=[\"ry\"],\n",
    "    insert_barriers=False,\n",
    ")\n",
    "\n",
    "shift = 0.25\n",
    "params = (\n",
    "    [np.pi / 2 - shift]\n",
    "    + [shift]\n",
    "    + [np.pi / 2 - shift]\n",
    "    + [shift] * int(len(circuit.parameters) / 1 - 3)\n",
    ")\n",
    "\n",
    "circuit.assign_parameters(params, inplace=True)\n",
    "circuit = circuit.decompose()"
   ]
  },
  {
   "cell_type": "markdown",
   "id": "461e57e3",
   "metadata": {},
   "source": [
    "### Set up the Qiskit runtime service"
   ]
  },
  {
   "cell_type": "code",
   "execution_count": null,
   "id": "5d1fb2ca",
   "metadata": {},
   "outputs": [],
   "source": [
    "service_args = QiskitRuntimeService(\n",
    "    channel=\"ibm_quantum\",\n",
    "    instance=\"YOUR_INSTANCE\",\n",
    "    token=\"YOUR_TOKEN\",\n",
    ").active_account()"
   ]
  },
  {
   "cell_type": "markdown",
   "id": "61d2944a",
   "metadata": {},
   "source": [
    "### Find cuts that match our criteria"
   ]
  },
  {
   "cell_type": "code",
   "execution_count": null,
   "id": "57c8dccb",
   "metadata": {},
   "outputs": [],
   "source": [
    "# Set the Sampler and runtime options\n",
    "# options = Options(resilience_level=1, optimization_level=3, execution={\"shots\": 8192})\n",
    "# runtime_options = RuntimeOptions(backend=\"ibmq_qasm_simulator\")\n",
    "\n",
    "# Instantiate a WireCutter and decompose the circuit\n",
    "# cutter = WireCutter(\n",
    "#    qc, service_args=service_args, options=options, runtime_options=runtime_options\n",
    "# )\n",
    "backend_names = [\"ibmq_kolkata\", \"ibm_auckland\"]\n",
    "cutter = WireCutter(circuit, service_args=service_args, backend_names=backend_names)  # Local Estimator\n",
    "\n",
    "with serverless:\n",
    "    cuts = cutter.decompose(\n",
    "        method=\"automatic\",\n",
    "        max_subcircuit_width=6,\n",
    "        max_cuts=2,\n",
    "        num_subcircuits=[2],\n",
    "    )"
   ]
  },
  {
   "cell_type": "markdown",
   "id": "00789cc4",
   "metadata": {},
   "source": [
    "### Evaluate the subcircuits, then recompose the circuit and verify the error between the full and cut circuit distributions is within tolerance"
   ]
  },
  {
   "cell_type": "code",
   "execution_count": null,
   "id": "bb70ef8e",
   "metadata": {},
   "outputs": [],
   "source": [
    "# Evaluate the subcircuits on backend\n",
    "with serverless:\n",
    "    subcircuit_instance_probabilities = cutter.evaluate(cuts)\n",
    "\n",
    "# Recompose the circuit and generate the cut circuit's probability distribution\n",
    "with serverless:\n",
    "    reconstructed_probabilities = cutter.recompose(\n",
    "        subcircuit_instance_probabilities, cuts, num_threads=4\n",
    "    )\n",
    "\n",
    "# Use a statevector simulator to calculate the error between the inferred and actual distributions\n",
    "metrics = cutter.verify(reconstructed_probabilities)\n",
    "print(metrics)"
   ]
  },
  {
   "cell_type": "code",
   "execution_count": null,
   "id": "ff99eb55",
   "metadata": {},
   "outputs": [],
   "source": []
  }
 ],
 "metadata": {
  "kernelspec": {
   "display_name": "Python 3 (ipykernel)",
   "language": "python",
   "name": "python3"
  },
  "language_info": {
   "codemirror_mode": {
    "name": "ipython",
    "version": 3
   },
   "file_extension": ".py",
   "mimetype": "text/x-python",
   "name": "python",
   "nbconvert_exporter": "python",
   "pygments_lexer": "ipython3",
   "version": "3.7.13"
  }
 },
 "nbformat": 4,
 "nbformat_minor": 5
}
