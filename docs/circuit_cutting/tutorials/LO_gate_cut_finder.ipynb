{
 "cells": [
  {
   "cell_type": "code",
   "execution_count": 6,
   "metadata": {},
   "outputs": [],
   "source": [
    "#Imports\n",
    "from circuit_knitting.cutting.cut_finding.LO_gate_cut_optimizer.circuit_interface import SimpleGateList\n",
    "from circuit_knitting.cutting.cut_finding.LO_gate_cut_optimizer.optimization_settings import OptimizationSettings\n",
    "from circuit_knitting.cutting.cut_finding.LO_gate_cut_optimizer.lo_cuts_only_optimizer import LOCutsOnlyOptimizer\n",
    "from circuit_knitting.cutting.cut_finding.LO_gate_cut_optimizer.quantum_device_constraints import DeviceConstraints"
   ]
  },
  {
   "cell_type": "markdown",
   "metadata": {},
   "source": [
    "## Cut finding for efficient SU(2) Circuit from tutorial 1."
   ]
  },
  {
   "cell_type": "markdown",
   "metadata": {},
   "source": [
    "### Visualize the circuit"
   ]
  },
  {
   "cell_type": "code",
   "execution_count": 7,
   "metadata": {},
   "outputs": [
    {
     "data": {
      "image/png": "[encoded data removed]",
      "text/plain": [
       "<Figure size 831.997x294.311 with 1 Axes>"
      ]
     },
     "execution_count": 7,
     "metadata": {},
     "output_type": "execute_result"
    }
   ],
   "source": [
    "#visualize the circuit \n",
    "from qiskit.circuit.library import EfficientSU2\n",
    "from circuit_knitting.cutting.cut_finding.LO_gate_cut_optimizer.utils import QCtoCCOCircuit\n",
    "\n",
    "qc = EfficientSU2(4, entanglement=\"linear\", reps=2).decompose()\n",
    "qc.assign_parameters([0.4] * len(qc.parameters), inplace=True)\n",
    "\n",
    "circuit_ckt_su2=QCtoCCOCircuit(qc)\n",
    "\n",
    "qc.draw(\"mpl\", scale=0.8)"
   ]
  },
  {
   "cell_type": "markdown",
   "metadata": {},
   "source": [
    "### Perform cut finding"
   ]
  },
  {
   "cell_type": "code",
   "execution_count": 8,
   "metadata": {},
   "outputs": [
    {
     "name": "stdout",
     "output_type": "stream",
     "text": [
      "\n",
      "\n",
      "---------- 4 Qubits per QPU, 2 QPUs ----------\n",
      "Gamma = 1.0 , min_reached = True\n",
      "[]\n",
      "Subcircuits: AAAA \n",
      "\n",
      "\n",
      "\n",
      "---------- 3 Qubits per QPU, 2 QPUs ----------\n",
      "Gamma = 9.0 , min_reached = True\n",
      "[Cut(Action='CutTwoQubitGate', Gate=[17, ['cx', 2, 3]]), Cut(Action='CutTwoQubitGate', Gate=[25, ['cx', 2, 3]])]\n",
      "Subcircuits: AAAB \n",
      "\n",
      "\n",
      "\n",
      "---------- 2 Qubits per QPU, 2 QPUs ----------\n",
      "Gamma = 9.0 , min_reached = True\n",
      "[Cut(Action='CutTwoQubitGate', Gate=[9, ['cx', 1, 2]]), Cut(Action='CutTwoQubitGate', Gate=[20, ['cx', 1, 2]])]\n",
      "Subcircuits: AABB \n",
      "\n"
     ]
    }
   ],
   "source": [
    "interface = SimpleGateList(circuit_ckt_su2)\n",
    "\n",
    "settings = OptimizationSettings(rand_seed = 12345)\n",
    "\n",
    "settings.setEngineSelection('CutOptimization', 'BestFirst')\n",
    "\n",
    "qubits_per_QPU=4\n",
    "num_QPUs=2\n",
    "\n",
    "\n",
    "for num_qpus in range(num_QPUs, 1, -1):\n",
    "    for qpu_qubits in range(qubits_per_QPU, 1, -1):\n",
    "        print(f'\\n\\n---------- {qpu_qubits} Qubits per QPU, {num_qpus} QPUs ----------')\n",
    "        \n",
    "        constraint_obj = DeviceConstraints(qubits_per_QPU = qpu_qubits, \n",
    "                                            num_QPUs       = num_QPUs)\n",
    "\n",
    "        op = LOCutsOnlyOptimizer(interface, \n",
    "                        settings, \n",
    "                        constraint_obj)\n",
    "        \n",
    "        out = op.optimize()\n",
    "\n",
    "        print('Gamma =', None if (out is None) else out.upperBoundGamma(),\n",
    "              ', min_reached =', op.minimumReached())\n",
    "        if (out is not None):\n",
    "            out.print(simple=True)\n",
    "        else:\n",
    "            print(out)\n",
    "        \n",
    "        print('Subcircuits:', interface.exportSubcircuitsAsString(name_mapping='default'),'\\n')\n"
   ]
  }
 ],
 "metadata": {
  "kernelspec": {
   "display_name": "ckt",
   "language": "python",
   "name": "python3"
  },
  "language_info": {
   "codemirror_mode": {
    "name": "ipython",
    "version": 3
   },
   "file_extension": ".py",
   "mimetype": "text/x-python",
   "name": "python",
   "nbconvert_exporter": "python",
   "pygments_lexer": "ipython3",
   "version": "3.9.6"
  }
 },
 "nbformat": 4,
 "nbformat_minor": 2
}
