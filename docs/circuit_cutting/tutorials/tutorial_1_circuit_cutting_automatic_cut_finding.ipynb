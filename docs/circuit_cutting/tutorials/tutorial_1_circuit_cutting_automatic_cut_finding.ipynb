{
 "cells": [
  {
   "cell_type": "markdown",
   "id": "c6cd641f",
   "metadata": {},
   "source": [
    "## Circuit cutting with automatic cut finding using the Circuit Knitting Toolbox"
   ]
  },
  {
   "cell_type": "markdown",
   "id": "e7043390",
   "metadata": {},
   "source": [
    "### Import relevant modules"
   ]
  },
  {
   "cell_type": "code",
   "execution_count": 1,
   "id": "31fe2cf1",
   "metadata": {},
   "outputs": [],
   "source": [
    "import numpy as np\n",
    "from qiskit import QuantumCircuit\n",
    "from qiskit_ibm_runtime import (\n",
    "    QiskitRuntimeService,\n",
    "    Options,\n",
    "    Session,\n",
    "    Sampler,\n",
    "    RuntimeOptions,\n",
    ")\n",
    "\n",
    "from circuit_knitting_toolbox.circuit_cutting import WireCutter"
   ]
  },
  {
   "cell_type": "markdown",
   "id": "3c17f515",
   "metadata": {},
   "source": [
    "### Create a circuit to cut"
   ]
  },
  {
   "cell_type": "code",
   "execution_count": 2,
   "id": "eb859bde",
   "metadata": {},
   "outputs": [
    {
     "data": {
      "text/html": [
       "<pre style=\"word-wrap: normal;white-space: pre;background: #fff0;line-height: 1.1;font-family: &quot;Courier New&quot;,Courier,monospace\">     ┌───┐                ┌─────────┐   ┌───┐   ┌───┐\n",
       "q_0: ┤ H ├──■───────■─────┤ Rx(π/2) ├───┤ T ├───┤ H ├\n",
       "     ├───┤┌─┴─┐     │     ├─────────┤   ├───┤   ├───┤\n",
       "q_1: ┤ H ├┤ X ├─────┼─────┤ Rx(π/2) ├───┤ T ├───┤ H ├\n",
       "     ├───┤├───┤   ┌─┴─┐   └─────────┘   └───┘   ├───┤\n",
       "q_2: ┤ H ├┤ T ├───┤ X ├────────■──────────■─────┤ H ├\n",
       "     ├───┤├───┤   └───┘        │        ┌─┴─┐   ├───┤\n",
       "q_3: ┤ H ├┤ T ├────────────────┼────────┤ X ├───┤ H ├\n",
       "     ├───┤├───┤┌─────────┐   ┌─┴─┐   ┌──┴───┴──┐├───┤\n",
       "q_4: ┤ H ├┤ T ├┤ Rx(π/2) ├───┤ X ├───┤ Ry(π/2) ├┤ H ├\n",
       "     └───┘└───┘└─────────┘   └───┘   └─────────┘└───┘</pre>"
      ],
      "text/plain": [
       "     ┌───┐                ┌─────────┐   ┌───┐   ┌───┐\n",
       "q_0: ┤ H ├──■───────■─────┤ Rx(π/2) ├───┤ T ├───┤ H ├\n",
       "     ├───┤┌─┴─┐     │     ├─────────┤   ├───┤   ├───┤\n",
       "q_1: ┤ H ├┤ X ├─────┼─────┤ Rx(π/2) ├───┤ T ├───┤ H ├\n",
       "     ├───┤├───┤   ┌─┴─┐   └─────────┘   └───┘   ├───┤\n",
       "q_2: ┤ H ├┤ T ├───┤ X ├────────■──────────■─────┤ H ├\n",
       "     ├───┤├───┤   └───┘        │        ┌─┴─┐   ├───┤\n",
       "q_3: ┤ H ├┤ T ├────────────────┼────────┤ X ├───┤ H ├\n",
       "     ├───┤├───┤┌─────────┐   ┌─┴─┐   ┌──┴───┴──┐├───┤\n",
       "q_4: ┤ H ├┤ T ├┤ Rx(π/2) ├───┤ X ├───┤ Ry(π/2) ├┤ H ├\n",
       "     └───┘└───┘└─────────┘   └───┘   └─────────┘└───┘"
      ]
     },
     "execution_count": 2,
     "metadata": {},
     "output_type": "execute_result"
    }
   ],
   "source": [
    "qc = QuantumCircuit(5)\n",
    "for i in range(5):\n",
    "    qc.h(i)\n",
    "qc.cx(0, 1)\n",
    "for i in range(2, 5):\n",
    "    qc.t(i)\n",
    "qc.cx(0, 2)\n",
    "qc.rx(np.pi / 2, 4)\n",
    "qc.rx(np.pi / 2, 0)\n",
    "qc.rx(np.pi / 2, 1)\n",
    "qc.cx(2, 4)\n",
    "qc.t(0)\n",
    "qc.t(1)\n",
    "qc.cx(2, 3)\n",
    "qc.ry(np.pi / 2, 4)\n",
    "for i in range(5):\n",
    "    qc.h(i)\n",
    "\n",
    "qc.draw()"
   ]
  },
  {
   "cell_type": "markdown",
   "id": "461e57e3",
   "metadata": {},
   "source": [
    "### Set up the Qiskit runtime service"
   ]
  },
  {
   "cell_type": "code",
   "execution_count": 5,
   "id": "5d1fb2ca",
   "metadata": {},
   "outputs": [],
   "source": [
    "service_args = QiskitRuntimeService(\n",
    "    channel=\"ibm_quantum\",\n",
    "    token=\"621534663c059a170ad7ae206e07535c1cc84f7047ffb8f3d50c7ce2e4d1acc0152e90a3be11ee591af4175ffa9b9ad3b4224a13b60575b7fd0bb74f45dfbdc7\",\n",
    ").active_account()"
   ]
  },
  {
   "cell_type": "markdown",
   "id": "61d2944a",
   "metadata": {},
   "source": [
    "### Find cuts that match our criteria"
   ]
  },
  {
   "cell_type": "code",
   "execution_count": 6,
   "id": "57c8dccb",
   "metadata": {},
   "outputs": [
    {
     "name": "stdout",
     "output_type": "stream",
     "text": [
      "\u001b[2m\u001b[36m(_cut_automatic pid=10207)\u001b[0m Exporting as a LP file to let you check the model that will be solved :  inf <class 'float'>\n",
      "\u001b[2m\u001b[36m(_cut_automatic pid=10207)\u001b[0m Version identifier: 12.10.0.0 | 2019-11-26 | 843d4de\n",
      "\u001b[2m\u001b[36m(_cut_automatic pid=10207)\u001b[0m CPXPARAM_Read_DataCheck                          1\n",
      "\u001b[2m\u001b[36m(_cut_automatic pid=10207)\u001b[0m CPXPARAM_TimeLimit                               300\n",
      "\u001b[2m\u001b[36m(_cut_automatic pid=10207)\u001b[0m Warning:  Non-integral bounds for integer variables rounded.\n",
      "\u001b[2m\u001b[36m(_cut_automatic pid=10207)\u001b[0m Tried aggregator 3 times.\n",
      "\u001b[2m\u001b[36m(_cut_automatic pid=10207)\u001b[0m MIP Presolve eliminated 20 rows and 5 columns.\n",
      "\u001b[2m\u001b[36m(_cut_automatic pid=10207)\u001b[0m MIP Presolve modified 4 coefficients.\n",
      "\u001b[2m\u001b[36m(_cut_automatic pid=10207)\u001b[0m Aggregator did 24 substitutions.\n",
      "\u001b[2m\u001b[36m(_cut_automatic pid=10207)\u001b[0m Reduced MIP has 44 rows, 19 columns, and 131 nonzeros.\n",
      "\u001b[2m\u001b[36m(_cut_automatic pid=10207)\u001b[0m Reduced MIP has 15 binaries, 4 generals, 0 SOSs, and 0 indicators.\n",
      "\u001b[2m\u001b[36m(_cut_automatic pid=10207)\u001b[0m Presolve time = 0.00 sec. (0.31 ticks)\n",
      "\u001b[2m\u001b[36m(_cut_automatic pid=10207)\u001b[0m Found incumbent of value 1.000000 after 0.00 sec. (0.44 ticks)\n",
      "\u001b[2m\u001b[36m(_cut_automatic pid=10207)\u001b[0m Probing fixed 0 vars, tightened 2 bounds.\n",
      "\u001b[2m\u001b[36m(_cut_automatic pid=10207)\u001b[0m Probing time = 0.00 sec. (0.08 ticks)\n",
      "\u001b[2m\u001b[36m(_cut_automatic pid=10207)\u001b[0m Tried aggregator 1 time.\n",
      "\u001b[2m\u001b[36m(_cut_automatic pid=10207)\u001b[0m MIP Presolve eliminated 0 rows and 3 columns.\n",
      "\u001b[2m\u001b[36m(_cut_automatic pid=10207)\u001b[0m Reduced MIP has 44 rows, 16 columns, and 131 nonzeros.\n",
      "\u001b[2m\u001b[36m(_cut_automatic pid=10207)\u001b[0m Reduced MIP has 12 binaries, 4 generals, 0 SOSs, and 0 indicators.\n",
      "\u001b[2m\u001b[36m(_cut_automatic pid=10207)\u001b[0m Presolve time = 0.00 sec. (0.08 ticks)\n",
      "\u001b[2m\u001b[36m(_cut_automatic pid=10207)\u001b[0m Probing time = 0.00 sec. (0.07 ticks)\n",
      "\u001b[2m\u001b[36m(_cut_automatic pid=10207)\u001b[0m Tried aggregator 1 time.\n",
      "\u001b[2m\u001b[36m(_cut_automatic pid=10207)\u001b[0m Detecting symmetries...\n",
      "\u001b[2m\u001b[36m(_cut_automatic pid=10207)\u001b[0m MIP Presolve eliminated 0 rows and 1 columns.\n",
      "\u001b[2m\u001b[36m(_cut_automatic pid=10207)\u001b[0m Reduced MIP has 44 rows, 15 columns, and 131 nonzeros.\n",
      "\u001b[2m\u001b[36m(_cut_automatic pid=10207)\u001b[0m Reduced MIP has 11 binaries, 4 generals, 0 SOSs, and 0 indicators.\n",
      "\u001b[2m\u001b[36m(_cut_automatic pid=10207)\u001b[0m Presolve time = 0.00 sec. (0.10 ticks)\n",
      "\u001b[2m\u001b[36m(_cut_automatic pid=10207)\u001b[0m Probing fixed 0 vars, tightened 1 bounds.\n",
      "\u001b[2m\u001b[36m(_cut_automatic pid=10207)\u001b[0m Probing time = 0.00 sec. (0.06 ticks)\n",
      "\u001b[2m\u001b[36m(_cut_automatic pid=10207)\u001b[0m Clique table members: 15.\n",
      "\u001b[2m\u001b[36m(_cut_automatic pid=10207)\u001b[0m MIP emphasis: balance optimality and feasibility.\n",
      "\u001b[2m\u001b[36m(_cut_automatic pid=10207)\u001b[0m MIP search method: dynamic search.\n",
      "\u001b[2m\u001b[36m(_cut_automatic pid=10207)\u001b[0m Parallel mode: deterministic, using up to 16 threads.\n",
      "\u001b[2m\u001b[36m(_cut_automatic pid=10207)\u001b[0m Root relaxation solution time = 0.00 sec. (0.05 ticks)\n",
      "\u001b[2m\u001b[36m(_cut_automatic pid=10207)\u001b[0m \n",
      "\u001b[2m\u001b[36m(_cut_automatic pid=10207)\u001b[0m         Nodes                                         Cuts/\n",
      "\u001b[2m\u001b[36m(_cut_automatic pid=10207)\u001b[0m    Node  Left     Objective  IInf  Best Integer    Best Bound    ItCnt     Gap\n",
      "\u001b[2m\u001b[36m(_cut_automatic pid=10207)\u001b[0m \n",
      "\u001b[2m\u001b[36m(_cut_automatic pid=10207)\u001b[0m *     0+    0                            1.0000        0.0000           100.00%\n",
      "\u001b[2m\u001b[36m(_cut_automatic pid=10207)\u001b[0m       0     0        0.2500     6        1.0000        0.2500        7   75.00%\n",
      "\u001b[2m\u001b[36m(_cut_automatic pid=10207)\u001b[0m       0     0        cutoff              1.0000        0.2500        7   75.00%\n",
      "\u001b[2m\u001b[36m(_cut_automatic pid=10207)\u001b[0m Elapsed time = 0.01 sec. (1.03 ticks, tree = 0.01 MB, solutions = 1)\n",
      "\u001b[2m\u001b[36m(_cut_automatic pid=10207)\u001b[0m \n",
      "\u001b[2m\u001b[36m(_cut_automatic pid=10207)\u001b[0m Root node processing (before b&c):\n",
      "\u001b[2m\u001b[36m(_cut_automatic pid=10207)\u001b[0m   Real time             =    0.01 sec. (1.03 ticks)\n",
      "\u001b[2m\u001b[36m(_cut_automatic pid=10207)\u001b[0m Parallel b&c, 16 threads:\n",
      "\u001b[2m\u001b[36m(_cut_automatic pid=10207)\u001b[0m   Real time             =    0.00 sec. (0.00 ticks)\n",
      "\u001b[2m\u001b[36m(_cut_automatic pid=10207)\u001b[0m   Sync time (average)   =    0.00 sec.\n",
      "\u001b[2m\u001b[36m(_cut_automatic pid=10207)\u001b[0m   Wait time (average)   =    0.00 sec.\n",
      "\u001b[2m\u001b[36m(_cut_automatic pid=10207)\u001b[0m                           ------------\n",
      "\u001b[2m\u001b[36m(_cut_automatic pid=10207)\u001b[0m Total (root+branch&cut) =    0.01 sec. (1.03 ticks)\n",
      "\u001b[2m\u001b[36m(_cut_automatic pid=10207)\u001b[0m --------------------\n",
      "\u001b[2m\u001b[36m(_cut_automatic pid=10207)\u001b[0m subcircuit 0\n",
      "\u001b[2m\u001b[36m(_cut_automatic pid=10207)\u001b[0m ρ qubits = 0, O qubits = 1, width = 2, effective = 1, depth = 5, size = 6\n",
      "\u001b[2m\u001b[36m(_cut_automatic pid=10207)\u001b[0m      ┌───┐                          \n",
      "\u001b[2m\u001b[36m(_cut_automatic pid=10207)\u001b[0m q_0: ┤ H ├──■───────────────────────\n",
      "\u001b[2m\u001b[36m(_cut_automatic pid=10207)\u001b[0m      ├───┤┌─┴─┐┌─────────┐┌───┐┌───┐\n",
      "\u001b[2m\u001b[36m(_cut_automatic pid=10207)\u001b[0m q_1: ┤ H ├┤ X ├┤ Rx(π/2) ├┤ T ├┤ H ├\n",
      "\u001b[2m\u001b[36m(_cut_automatic pid=10207)\u001b[0m      └───┘└───┘└─────────┘└───┘└───┘\n",
      "\u001b[2m\u001b[36m(_cut_automatic pid=10207)\u001b[0m subcircuit 1\n",
      "\u001b[2m\u001b[36m(_cut_automatic pid=10207)\u001b[0m ρ qubits = 1, O qubits = 0, width = 4, effective = 4, depth = 6, size = 17\n",
      "\u001b[2m\u001b[36m(_cut_automatic pid=10207)\u001b[0m                           ┌─────────┐   ┌───┐   ┌───┐\n",
      "\u001b[2m\u001b[36m(_cut_automatic pid=10207)\u001b[0m q_0: ───────────────■─────┤ Rx(π/2) ├───┤ T ├───┤ H ├\n",
      "\u001b[2m\u001b[36m(_cut_automatic pid=10207)\u001b[0m      ┌───┐┌───┐   ┌─┴─┐   └─────────┘   └───┘   ├───┤\n",
      "\u001b[2m\u001b[36m(_cut_automatic pid=10207)\u001b[0m q_1: ┤ H ├┤ T ├───┤ X ├────────■──────────■─────┤ H ├\n",
      "\u001b[2m\u001b[36m(_cut_automatic pid=10207)\u001b[0m      ├───┤├───┤   └───┘        │        ┌─┴─┐   ├───┤\n",
      "\u001b[2m\u001b[36m(_cut_automatic pid=10207)\u001b[0m q_2: ┤ H ├┤ T ├────────────────┼────────┤ X ├───┤ H ├\n",
      "\u001b[2m\u001b[36m(_cut_automatic pid=10207)\u001b[0m      ├───┤├───┤┌─────────┐   ┌─┴─┐   ┌──┴───┴──┐├───┤\n",
      "\u001b[2m\u001b[36m(_cut_automatic pid=10207)\u001b[0m q_3: ┤ H ├┤ T ├┤ Rx(π/2) ├───┤ X ├───┤ Ry(π/2) ├┤ H ├\n",
      "\u001b[2m\u001b[36m(_cut_automatic pid=10207)\u001b[0m      └───┘└───┘└─────────┘   └───┘   └─────────┘└───┘\n",
      "\u001b[2m\u001b[36m(_cut_automatic pid=10207)\u001b[0m Estimated cost = 1.280e+02\n",
      "\u001b[2m\u001b[36m(_cut_automatic pid=10207)\u001b[0m Model objective value = 1.00e+00\n",
      "\u001b[2m\u001b[36m(_cut_automatic pid=10207)\u001b[0m MIP runtime: 0.010000944137573242\n",
      "\u001b[2m\u001b[36m(_cut_automatic pid=10207)\u001b[0m NOT OPTIMAL, MIP gap = 0.0\n",
      "\u001b[2m\u001b[36m(_cut_automatic pid=10207)\u001b[0m --------------------\n"
     ]
    }
   ],
   "source": [
    "# Set the Sampler and runtime options\n",
    "options = Options(resilience_level=1, optimization_level=3, execution={\"shots\": 8192})\n",
    "runtime_options = RuntimeOptions(backend=\"ibmq_qasm_simulator\")\n",
    "\n",
    "# Instantiate a WireCutter and decompose the circuit\n",
    "cutter = WireCutter(\n",
    "    qc, service_args=service_args, options=options, runtime_options=runtime_options\n",
    ")\n",
    "# cutter = WireCutter(qc) # local Estimator\n",
    "\n",
    "cuts = cutter.decompose(\n",
    "    method=\"automatic\",\n",
    "    max_subcircuit_width=6,\n",
    "    max_cuts=2,\n",
    "    num_subcircuits=[2],\n",
    ")"
   ]
  },
  {
   "cell_type": "markdown",
   "id": "00789cc4",
   "metadata": {},
   "source": [
    "### Evaluate the subcircuits, then recompose the circuit and verify the error between the full and cut circuit distributions is within tolerance"
   ]
  },
  {
   "cell_type": "code",
   "execution_count": 7,
   "id": "bb70ef8e",
   "metadata": {},
   "outputs": [
    {
     "name": "stdout",
     "output_type": "stream",
     "text": [
      "{'nearest': {'chi2': 0.0022086910955534155, 'Mean Squared Error': 5.154099340326516e-06, 'Mean Absolute Percentage Error': 8.251430447297219, 'Cross Entropy': 2.60191073304632, 'HOP': 0.8991855755448341}, 'naive': {'chi2': 0.0022086910955534155, 'Mean Squared Error': 5.154099340326516e-06, 'Mean Absolute Percentage Error': 8.251430447297219, 'Cross Entropy': 2.60191073304632, 'HOP': 0.8991855755448341}}\n"
     ]
    }
   ],
   "source": [
    "# Evaluate the subcircuits on backend\n",
    "subcircuit_instance_probabilities = cutter.evaluate(cuts)\n",
    "\n",
    "# Recompose the circuit and generate the cut circuit's probability distribution\n",
    "reconstructed_probabilities = cutter.recompose(\n",
    "    subcircuit_instance_probabilities, cuts, num_threads=4\n",
    ")\n",
    "\n",
    "# Use a statevector simulator to calculate the error between the inferred and actual distributions\n",
    "metrics = cutter.verify(reconstructed_probabilities)\n",
    "print(metrics)"
   ]
  }
 ],
 "metadata": {
  "kernelspec": {
   "display_name": "Python 3 (ipykernel)",
   "language": "python",
   "name": "python3"
  },
  "language_info": {
   "codemirror_mode": {
    "name": "ipython",
    "version": 3
   },
   "file_extension": ".py",
   "mimetype": "text/x-python",
   "name": "python",
   "nbconvert_exporter": "python",
   "pygments_lexer": "ipython3",
   "version": "3.7.13"
  }
 },
 "nbformat": 4,
 "nbformat_minor": 5
}
