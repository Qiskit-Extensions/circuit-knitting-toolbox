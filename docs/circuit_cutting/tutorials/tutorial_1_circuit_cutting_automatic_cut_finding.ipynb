{
 "cells": [
  {
   "cell_type": "markdown",
   "id": "c6cd641f",
   "metadata": {},
   "source": [
    "# Circuit Cutting with Automatic Cut Finding\n",
    "\n",
    "Circuit cutting is a technique to decompose a quantum circuit into smaller circuits, whose results can be knitted together to reconstruct the original circuit output. \n",
    "\n",
    "The circuit knitting toolbox implements a wire cutting method presented in [CutQC](https://doi.org/10.1145/3445814.3446758) (Tang et al.). This method allows a circuit wire to be cut such that the generated subcircuits are amended by measurements in the Pauli bases and by state preparation of four Pauli eigenstates (see Fig. 4 of [CutQC](https://doi.org/10.1145/3445814.3446758)).\n",
    "\n",
    "This wire cutting technique is comprised of the following basic steps:\n",
    "\n",
    "1. **Decompose**: Cut a circuit into multiple subcircuits. Here, we'll use an automatic method to find optimal cut(s). See [tutorial 2](tutorial_2_circuit_cutting_manual_cutting.ipynb) to manually cut a circuit.\n",
    "2. **Evaluate**: Execute those subcircuit on quantum backend.\n",
    "3. **Reconstruct**: Knit the subcircuit results together to reconstruct the original circuit output (in this case, the full probability distribution)."
   ]
  },
  {
   "cell_type": "markdown",
   "id": "3c17f515",
   "metadata": {},
   "source": [
    "## Create a quantum circuit with Qiskit\n",
    "\n",
    "In this case, we'll create a hardware-efficient circuit with two (linear) entangling layers."
   ]
  },
  {
   "cell_type": "code",
   "execution_count": null,
   "id": "eb859bde",
   "metadata": {},
   "outputs": [],
   "source": [
    "import numpy as np\n",
    "from qiskit.circuit.library import EfficientSU2\n",
    "\n",
    "num_qubits = 8\n",
    "circuit = EfficientSU2(\n",
    "    num_qubits=num_qubits,\n",
    "    reps=2,\n",
    "    entanglement=\"linear\",\n",
    "    su2_gates=[\"ry\"],\n",
    ")\n",
    "\n",
    "circuit = circuit.decompose()\n",
    "\n",
    "params = [(np.pi * i) / 16 for i in range(len(circuit.parameters))]\n",
    "circuit = circuit.bind_parameters(params)\n",
    "circuit.draw('mpl', fold=-1, scale=0.5)"
   ]
  },
  {
   "cell_type": "markdown",
   "id": "461e57e3",
   "metadata": {},
   "source": [
    "## Set up the Qiskit Runtime Service\n",
    "\n",
    "The Qiskit Runtime Service provides access to IBM Runtime Primitives and quantum backends.\n",
    "Alternatively, a local statevector simulator can be used with the Qiskit primitives."
   ]
  },
  {
   "cell_type": "code",
   "execution_count": 2,
   "id": "5d1fb2ca",
   "metadata": {},
   "outputs": [],
   "source": [
    "from qiskit_ibm_runtime import (\n",
    "    QiskitRuntimeService,\n",
    "    Options,\n",
    ")\n",
    "service = QiskitRuntimeService(\n",
    "    channel=\"ibm_quantum\",\n",
    "    token=\"<YOUR_API_TOKEN>\",\n",
    ")"
   ]
  },
  {
   "cell_type": "markdown",
   "id": "0cab5dd8",
   "metadata": {},
   "source": [
    "The wire cutter tool uses a `Sampler` primitive to evaluate the probabilities of each subcircuit. Here, we configure the options for the Runtime Sampler and specify the backend(s) to be used to evaluate the subcircuits:"
   ]
  },
  {
   "cell_type": "code",
   "execution_count": 3,
   "id": "3cc622d9",
   "metadata": {},
   "outputs": [],
   "source": [
    "# Set the Sampler and runtime options\n",
    "options = Options(execution={\"shots\": 8192})\n",
    "\n",
    "# Run 2 parallel qasm simulator threads\n",
    "backend_names = [\"ibmq_qasm_simulator\"] * 2"
   ]
  },
  {
   "cell_type": "markdown",
   "id": "61d2944a",
   "metadata": {},
   "source": [
    "## Set up the Wire Cutter from the Circuit Knitting Toolbox\n",
    "\n",
    "Instantiate a `WireCutter` with the circuit and runtime information."
   ]
  },
  {
   "cell_type": "code",
   "execution_count": 4,
   "id": "57c8dccb",
   "metadata": {},
   "outputs": [],
   "source": [
    "from circuit_knitting_toolbox.circuit_cutting import WireCutter\n",
    "\n",
    "cutter = WireCutter(\n",
    "    circuit, service=service, backend_names=backend_names, options=options\n",
    ")"
   ]
  },
  {
   "cell_type": "markdown",
   "id": "9c18caea",
   "metadata": {},
   "source": [
    "Note: if only a circuit is passed to `WireCutter`, a local Qiskit Sampler with the statevector simulator will be used instead:<br>\n",
    "```cutter = WireCutter(circuit)```"
   ]
  },
  {
   "cell_type": "markdown",
   "id": "0aa14d2f",
   "metadata": {},
   "source": [
    "## Decompose the circuit with wire cutting\n",
    "\n",
    "In this example, we will use an automatic method to find cuts matching our criteria. See [tutorial 2](tutorial_2_circuit_cutting_manual_cutting.ipynb) for how to manually cut a circuit.\n",
    "   * `method='automatic`: Use a mixed integer programming (MIP) model to find optimal cut(s)\n",
    "   * `max_subcircuit_width (int)`: Only allow subcircuits with 6 qubits or less\n",
    "   * `max_cuts (int)`: Cut the circuit no more than two times\n",
    "   * `num_subcircuits (list)`: The number of subcircuits to try, in this case only 2 subcircuits"
   ]
  },
  {
   "cell_type": "code",
   "execution_count": 5,
   "id": "8c11457a",
   "metadata": {},
   "outputs": [
    {
     "name": "stderr",
     "output_type": "stream",
     "text": [
      "2022-10-21 16:21:40,772\tINFO worker.py:1518 -- Started a local Ray instance.\n"
     ]
    },
    {
     "name": "stdout",
     "output_type": "stream",
     "text": [
      "\u001b[2m\u001b[36m(cut_circuit_wires pid=2203)\u001b[0m Exporting as a LP file to let you check the model that will be solved :  inf <class 'float'>\n",
      "\u001b[2m\u001b[36m(cut_circuit_wires pid=2203)\u001b[0m Version identifier: 22.1.0.0 | 2022-03-27 | 54982fbec\n",
      "\u001b[2m\u001b[36m(cut_circuit_wires pid=2203)\u001b[0m CPXPARAM_Read_DataCheck                          1\n",
      "\u001b[2m\u001b[36m(cut_circuit_wires pid=2203)\u001b[0m CPXPARAM_TimeLimit                               300\n",
      "\u001b[2m\u001b[36m(cut_circuit_wires pid=2203)\u001b[0m Warning:  Non-integral bounds for integer variables rounded.\n",
      "\u001b[2m\u001b[36m(cut_circuit_wires pid=2203)\u001b[0m Tried aggregator 3 times.\n",
      "\u001b[2m\u001b[36m(cut_circuit_wires pid=2203)\u001b[0m MIP Presolve eliminated 37 rows and 8 columns.\n",
      "\u001b[2m\u001b[36m(cut_circuit_wires pid=2203)\u001b[0m MIP Presolve modified 7 coefficients.\n",
      "\u001b[2m\u001b[36m(cut_circuit_wires pid=2203)\u001b[0m Aggregator did 103 substitutions.\n",
      "\u001b[2m\u001b[36m(cut_circuit_wires pid=2203)\u001b[0m Reduced MIP has 366 rows, 127 columns, and 1072 nonzeros.\n",
      "\u001b[2m\u001b[36m(cut_circuit_wires pid=2203)\u001b[0m Reduced MIP has 121 binaries, 6 generals, 0 SOSs, and 0 indicators.\n",
      "\u001b[2m\u001b[36m(cut_circuit_wires pid=2203)\u001b[0m Presolve time = 0.00 sec. (2.10 ticks)\n",
      "\u001b[2m\u001b[36m(cut_circuit_wires pid=2203)\u001b[0m Found incumbent of value 2.000000 after 0.01 sec. (3.52 ticks)\n",
      "\u001b[2m\u001b[36m(cut_circuit_wires pid=2203)\u001b[0m Probing fixed 18 vars, tightened 0 bounds.\n",
      "\u001b[2m\u001b[36m(cut_circuit_wires pid=2203)\u001b[0m Probing changed sense of 36 constraints.\n",
      "\u001b[2m\u001b[36m(cut_circuit_wires pid=2203)\u001b[0m Probing time = 0.00 sec. (1.05 ticks)\n",
      "\u001b[2m\u001b[36m(cut_circuit_wires pid=2203)\u001b[0m Cover probing fixed 4 vars, tightened 14 bounds.\n",
      "\u001b[2m\u001b[36m(cut_circuit_wires pid=2203)\u001b[0m Tried aggregator 2 times.\n",
      "\u001b[2m\u001b[36m(cut_circuit_wires pid=2203)\u001b[0m MIP Presolve eliminated 347 rows and 108 columns.\n",
      "\u001b[2m\u001b[36m(cut_circuit_wires pid=2203)\u001b[0m MIP Presolve modified 102 coefficients.\n",
      "\u001b[2m\u001b[36m(cut_circuit_wires pid=2203)\u001b[0m Aggregator did 19 substitutions.\n",
      "\u001b[2m\u001b[36m(cut_circuit_wires pid=2203)\u001b[0m All rows and columns eliminated.\n",
      "\u001b[2m\u001b[36m(cut_circuit_wires pid=2203)\u001b[0m Presolve time = 0.00 sec. (0.90 ticks)\n",
      "\u001b[2m\u001b[36m(cut_circuit_wires pid=2203)\u001b[0m \n",
      "\u001b[2m\u001b[36m(cut_circuit_wires pid=2203)\u001b[0m Root node processing (before b&c):\n",
      "\u001b[2m\u001b[36m(cut_circuit_wires pid=2203)\u001b[0m   Real time             =    0.01 sec. (5.60 ticks)\n",
      "\u001b[2m\u001b[36m(cut_circuit_wires pid=2203)\u001b[0m Parallel b&c, 8 threads:\n",
      "\u001b[2m\u001b[36m(cut_circuit_wires pid=2203)\u001b[0m   Real time             =    0.00 sec. (0.00 ticks)\n",
      "\u001b[2m\u001b[36m(cut_circuit_wires pid=2203)\u001b[0m   Sync time (average)   =    0.00 sec.\n",
      "\u001b[2m\u001b[36m(cut_circuit_wires pid=2203)\u001b[0m   Wait time (average)   =    0.00 sec.\n",
      "\u001b[2m\u001b[36m(cut_circuit_wires pid=2203)\u001b[0m                           ------------\n",
      "\u001b[2m\u001b[36m(cut_circuit_wires pid=2203)\u001b[0m Total (root+branch&cut) =    0.01 sec. (5.60 ticks)\n",
      "\u001b[2m\u001b[36m(cut_circuit_wires pid=2203)\u001b[0m --------------------\n",
      "\u001b[2m\u001b[36m(cut_circuit_wires pid=2203)\u001b[0m subcircuit 0\n",
      "\u001b[2m\u001b[36m(cut_circuit_wires pid=2203)\u001b[0m ρ qubits = 0, O qubits = 2, width = 5, effective = 3, depth = 8, size = 19\n",
      "\u001b[2m\u001b[36m(cut_circuit_wires pid=2203)\u001b[0m       ┌─────────┐      ┌─────────┐                           ┌───────┐   »\n",
      "\u001b[2m\u001b[36m(cut_circuit_wires pid=2203)\u001b[0m q_0: ─┤ Ry(0.0) ├───■──┤ Ry(π/2) ├──────────────────■────────┤ Ry(π) ├───»\n",
      "\u001b[2m\u001b[36m(cut_circuit_wires pid=2203)\u001b[0m       ├─────────┴┐┌─┴─┐└─────────┘┌───────────┐   ┌─┴─┐      └───────┘   »\n",
      "\u001b[2m\u001b[36m(cut_circuit_wires pid=2203)\u001b[0m q_1: ─┤ Ry(π/16) ├┤ X ├─────■─────┤ Ry(9π/16) ├───┤ X ├──────────■───────»\n",
      "\u001b[2m\u001b[36m(cut_circuit_wires pid=2203)\u001b[0m       ├─────────┬┘└───┘   ┌─┴─┐   └───────────┘┌──┴───┴───┐    ┌─┴─┐     »\n",
      "\u001b[2m\u001b[36m(cut_circuit_wires pid=2203)\u001b[0m q_2: ─┤ Ry(π/8) ├─────────┤ X ├─────────■──────┤ Ry(5π/8) ├────┤ X ├─────»\n",
      "\u001b[2m\u001b[36m(cut_circuit_wires pid=2203)\u001b[0m      ┌┴─────────┴┐        └───┘       ┌─┴─┐    └──────────┘┌───┴───┴────┐»\n",
      "\u001b[2m\u001b[36m(cut_circuit_wires pid=2203)\u001b[0m q_3: ┤ Ry(3π/16) ├────────────────────┤ X ├─────────■──────┤ Ry(11π/16) ├»\n",
      "\u001b[2m\u001b[36m(cut_circuit_wires pid=2203)\u001b[0m      └┬─────────┬┘                    └───┘       ┌─┴─┐    └────────────┘»\n",
      "\u001b[2m\u001b[36m(cut_circuit_wires pid=2203)\u001b[0m q_4: ─┤ Ry(π/4) ├─────────────────────────────────┤ X ├──────────────────»\n",
      "\u001b[2m\u001b[36m(cut_circuit_wires pid=2203)\u001b[0m       └─────────┘                                 └───┘                  »\n",
      "\u001b[2m\u001b[36m(cut_circuit_wires pid=2203)\u001b[0m «                                         \n",
      "\u001b[2m\u001b[36m(cut_circuit_wires pid=2203)\u001b[0m «q_0: ────────────────────────────────────\n",
      "\u001b[2m\u001b[36m(cut_circuit_wires pid=2203)\u001b[0m «     ┌──────────────────────┐            \n",
      "\u001b[2m\u001b[36m(cut_circuit_wires pid=2203)\u001b[0m «q_1: ┤ Ry(3.33794219443916) ├────────────\n",
      "\u001b[2m\u001b[36m(cut_circuit_wires pid=2203)\u001b[0m «     └──────────────────────┘┌──────────┐\n",
      "\u001b[2m\u001b[36m(cut_circuit_wires pid=2203)\u001b[0m «q_2: ───────────■────────────┤ Ry(9π/8) ├\n",
      "\u001b[2m\u001b[36m(cut_circuit_wires pid=2203)\u001b[0m «              ┌─┴─┐          └──────────┘\n",
      "\u001b[2m\u001b[36m(cut_circuit_wires pid=2203)\u001b[0m «q_3: ─────────┤ X ├──────────────────────\n",
      "\u001b[2m\u001b[36m(cut_circuit_wires pid=2203)\u001b[0m «              └───┘                      \n",
      "\u001b[2m\u001b[36m(cut_circuit_wires pid=2203)\u001b[0m «q_4: ────────────────────────────────────\n",
      "\u001b[2m\u001b[36m(cut_circuit_wires pid=2203)\u001b[0m «                                         \n",
      "\u001b[2m\u001b[36m(cut_circuit_wires pid=2203)\u001b[0m subcircuit 1\n",
      "\u001b[2m\u001b[36m(cut_circuit_wires pid=2203)\u001b[0m ρ qubits = 2, O qubits = 0, width = 5, effective = 5, depth = 8, size = 19\n",
      "\u001b[2m\u001b[36m(cut_circuit_wires pid=2203)\u001b[0m                                                  ┌──────────────────────┐»\n",
      "\u001b[2m\u001b[36m(cut_circuit_wires pid=2203)\u001b[0m q_0: ────────────────────────────────────■───────┤ Ry(3.73064127613788) ├»\n",
      "\u001b[2m\u001b[36m(cut_circuit_wires pid=2203)\u001b[0m                        ┌──────────┐    ┌─┴─┐     └──────────────────────┘»\n",
      "\u001b[2m\u001b[36m(cut_circuit_wires pid=2203)\u001b[0m q_1: ───────────────■──┤ Ry(3π/4) ├────┤ X ├────────────────■────────────»\n",
      "\u001b[2m\u001b[36m(cut_circuit_wires pid=2203)\u001b[0m      ┌───────────┐┌─┴─┐└──────────┘┌───┴───┴────┐         ┌─┴─┐          »\n",
      "\u001b[2m\u001b[36m(cut_circuit_wires pid=2203)\u001b[0m q_2: ┤ Ry(5π/16) ├┤ X ├─────■──────┤ Ry(13π/16) ├─────────┤ X ├──────────»\n",
      "\u001b[2m\u001b[36m(cut_circuit_wires pid=2203)\u001b[0m      └┬──────────┤└───┘   ┌─┴─┐    └────────────┘      ┌──┴───┴───┐      »\n",
      "\u001b[2m\u001b[36m(cut_circuit_wires pid=2203)\u001b[0m q_3: ─┤ Ry(3π/8) ├────────┤ X ├──────────■─────────────┤ Ry(7π/8) ├──────»\n",
      "\u001b[2m\u001b[36m(cut_circuit_wires pid=2203)\u001b[0m      ┌┴──────────┤        └───┘        ┌─┴─┐          ┌┴──────────┴┐     »\n",
      "\u001b[2m\u001b[36m(cut_circuit_wires pid=2203)\u001b[0m q_4: ┤ Ry(7π/16) ├─────────────────────┤ X ├──────────┤ Ry(15π/16) ├─────»\n",
      "\u001b[2m\u001b[36m(cut_circuit_wires pid=2203)\u001b[0m      └───────────┘                     └───┘          └────────────┘     »\n",
      "\u001b[2m\u001b[36m(cut_circuit_wires pid=2203)\u001b[0m «                                                                \n",
      "\u001b[2m\u001b[36m(cut_circuit_wires pid=2203)\u001b[0m «q_0: ───────────────────────────────────────────────────────────\n",
      "\u001b[2m\u001b[36m(cut_circuit_wires pid=2203)\u001b[0m «     ┌──────────┐                                               \n",
      "\u001b[2m\u001b[36m(cut_circuit_wires pid=2203)\u001b[0m «q_1: ┤ Ry(5π/4) ├───────────────────────────────────────────────\n",
      "\u001b[2m\u001b[36m(cut_circuit_wires pid=2203)\u001b[0m «     └──────────┘┌─────────────────────┐                        \n",
      "\u001b[2m\u001b[36m(cut_circuit_wires pid=2203)\u001b[0m «q_2: ─────■──────┤ Ry(4.1233403578366) ├────────────────────────\n",
      "\u001b[2m\u001b[36m(cut_circuit_wires pid=2203)\u001b[0m «        ┌─┴─┐    └─────────────────────┘     ┌───────────┐      \n",
      "\u001b[2m\u001b[36m(cut_circuit_wires pid=2203)\u001b[0m «q_3: ───┤ X ├───────────────■────────────────┤ Ry(11π/8) ├──────\n",
      "\u001b[2m\u001b[36m(cut_circuit_wires pid=2203)\u001b[0m «        └───┘             ┌─┴─┐         ┌────┴───────────┴─────┐\n",
      "\u001b[2m\u001b[36m(cut_circuit_wires pid=2203)\u001b[0m «q_4: ─────────────────────┤ X ├─────────┤ Ry(4.51603943953533) ├\n",
      "\u001b[2m\u001b[36m(cut_circuit_wires pid=2203)\u001b[0m «                          └───┘         └──────────────────────┘\n",
      "\u001b[2m\u001b[36m(cut_circuit_wires pid=2203)\u001b[0m Estimated cost = 4.096e+03\n",
      "\u001b[2m\u001b[36m(cut_circuit_wires pid=2203)\u001b[0m Model objective value = 2.00e+00\n",
      "\u001b[2m\u001b[36m(cut_circuit_wires pid=2203)\u001b[0m MIP runtime: 0.009521007537841797\n",
      "\u001b[2m\u001b[36m(cut_circuit_wires pid=2203)\u001b[0m NOT OPTIMAL, MIP gap = 0.0\n",
      "\u001b[2m\u001b[36m(cut_circuit_wires pid=2203)\u001b[0m --------------------\n"
     ]
    }
   ],
   "source": [
    "cuts = cutter.decompose(\n",
    "    method=\"automatic\",\n",
    "    max_subcircuit_width=5,\n",
    "    max_cuts=2,\n",
    "    num_subcircuits=[2],\n",
    ")"
   ]
  },
  {
   "cell_type": "markdown",
   "id": "fb52c53e",
   "metadata": {},
   "source": [
    "**The results from decompose includes information about the wire cutting process, e.g.,**\n",
    "\n",
    "- `subcircuits`: list of QuantumCircuit objects for the subcircuits\n",
    "- `complete_path_map`: a dictionary mapping indices of qubits in original circuit to their indices in the subcircuits\n",
    "- `num_cuts`: the number of times the circuit was cut\n",
    "- `classical_cost`: the final value of the cost function used to find optimal cut(s)"
   ]
  },
  {
   "cell_type": "code",
   "execution_count": 6,
   "id": "465733e2",
   "metadata": {},
   "outputs": [
    {
     "name": "stdout",
     "output_type": "stream",
     "text": [
      "dict_keys(['max_subcircuit_width', 'subcircuits', 'complete_path_map', 'num_cuts', 'counter', 'classical_cost'])\n"
     ]
    }
   ],
   "source": [
    "print(cuts.keys())"
   ]
  },
  {
   "cell_type": "markdown",
   "id": "2bd643fc",
   "metadata": {},
   "source": [
    "**The two subcircuits produced:**"
   ]
  },
  {
   "cell_type": "code",
   "execution_count": 7,
   "id": "938f7733",
   "metadata": {},
   "outputs": [
    {
     "data": {
      "image/png": "[encoded data removed]",
      "text/plain": [
       "<Figure size 436.387x225.75 with 1 Axes>"
      ]
     },
     "execution_count": 7,
     "metadata": {},
     "output_type": "execute_result"
    }
   ],
   "source": [
    "# visualize the first subcircuit\n",
    "cuts['subcircuits'][0].draw('mpl', fold=-1, scale=0.5)"
   ]
  },
  {
   "cell_type": "code",
   "execution_count": 8,
   "id": "1c3a5712",
   "metadata": {},
   "outputs": [
    {
     "data": {
      "image/png": "[encoded data removed]",
      "text/plain": [
       "<Figure size 519.998x225.75 with 1 Axes>"
      ]
     },
     "execution_count": 8,
     "metadata": {},
     "output_type": "execute_result"
    }
   ],
   "source": [
    "# visualize the second subcircuit\n",
    "cuts['subcircuits'][1].draw('mpl', fold=-1, scale=0.5)"
   ]
  },
  {
   "cell_type": "markdown",
   "id": "742ec1e1",
   "metadata": {},
   "source": [
    "## Evaluate the subcircuits with Qiskit Runtime\n",
    "\n",
    "\n",
    "Note that two local cores will be used to support each of the parallel backend threads we specified earlier."
   ]
  },
  {
   "cell_type": "code",
   "execution_count": 9,
   "id": "2ae5160c",
   "metadata": {},
   "outputs": [],
   "source": [
    "subcircuit_instance_probabilities = cutter.evaluate(cuts)"
   ]
  },
  {
   "cell_type": "markdown",
   "id": "66997ed4",
   "metadata": {},
   "source": [
    "**Inspecting the subcircuit results**\n",
    "\n",
    "In this case, the original circuit was cut 2 times (we can also get this info from `cuts['num_cuts']`):"
   ]
  },
  {
   "cell_type": "code",
   "execution_count": 10,
   "id": "fa22661e",
   "metadata": {},
   "outputs": [
    {
     "name": "stdout",
     "output_type": "stream",
     "text": [
      "Number of subcircuits:  2\n"
     ]
    }
   ],
   "source": [
    "print('Number of subcircuits: ', len(subcircuit_instance_probabilities))"
   ]
  },
  {
   "cell_type": "markdown",
   "id": "2ee40d04",
   "metadata": {},
   "source": [
    "From these two wire cuts, there are $4^2=16$ variants of the first subcircuit corresponding to the combination of measurement bases: $P_i\\otimes P_j$, for the Paulis $P_i \\in \\{I, X, Y, Z \\}$. And there are $4^2=16$ variants of the second subcircuit corresponding to the combination of initialization states: $|s_i\\rangle\\otimes|s_j\\rangle$, where $|s_i\\rangle \\in \\{ |0\\rangle, |1\\rangle, |+\\rangle |+i\\rangle\\}$. \n",
    "\n",
    "\n",
    "Note that some subcircuit probabilities can be negative (and not sum to unity). This is because the raw probabilities from subcircuits must be modified to account for the measurement bases of ancillary qubits. See Section 3 of [CutQC](https://doi.org/10.1145/3445814.3446758) for more details."
   ]
  },
  {
   "cell_type": "code",
   "execution_count": 11,
   "id": "7e57f303",
   "metadata": {},
   "outputs": [
    {
     "name": "stdout",
     "output_type": "stream",
     "text": [
      "Number of variants of 1st subcircuit:  16\n",
      "Number of variants of 2nd subcircuit:  16\n"
     ]
    }
   ],
   "source": [
    "print('Number of variants of 1st subcircuit: ', len(subcircuit_instance_probabilities[0]))\n",
    "print('Number of variants of 2nd subcircuit: ', len(subcircuit_instance_probabilities[1]))"
   ]
  },
  {
   "cell_type": "markdown",
   "id": "dfdf82a5",
   "metadata": {},
   "source": [
    "The first subcircuit has two ancillary qubits (induced by the two wire cuts) that do not appear in the original circuit. This means that the first subcircuit has $5-2=3$ qubits from the original circuit and a probability distribution of size $2^3=8$. The second subcircuit has 5 qubits, all from the original circuit, and so its probability distribution is size $2^5=32$."
   ]
  },
  {
   "cell_type": "code",
   "execution_count": 12,
   "id": "3ec4d42c",
   "metadata": {},
   "outputs": [
    {
     "name": "stdout",
     "output_type": "stream",
     "text": [
      "Size of 1st subcircuit probability distribution:  8\n",
      "Size of 2nd subcircuit probability distribution:  32\n"
     ]
    }
   ],
   "source": [
    "print('Size of 1st subcircuit probability distribution: ', len(subcircuit_instance_probabilities[0][0]))\n",
    "print('Size of 2nd subcircuit probability distribution: ', len(subcircuit_instance_probabilities[1][0]))"
   ]
  },
  {
   "cell_type": "markdown",
   "id": "17e8511c",
   "metadata": {},
   "source": [
    "## Reconstruct the full circuit output\n",
    "\n",
    "Next, the results of the subcircuit experiments are classical postprocessed to reconstruct an estimate of the original circuit's full probability distribution."
   ]
  },
  {
   "cell_type": "code",
   "execution_count": 13,
   "id": "5aceecc0",
   "metadata": {},
   "outputs": [],
   "source": [
    "%%capture\n",
    "\n",
    "reconstructed_probabilities = cutter.reconstruct(\n",
    "    subcircuit_instance_probabilities, cuts\n",
    ")"
   ]
  },
  {
   "cell_type": "markdown",
   "id": "3dbae8e0",
   "metadata": {},
   "source": [
    "Here are the reconstructed probabilities for the original 8-qubit circuit:"
   ]
  },
  {
   "cell_type": "code",
   "execution_count": 14,
   "id": "919958cb",
   "metadata": {},
   "outputs": [
    {
     "name": "stdout",
     "output_type": "stream",
     "text": [
      "Size of reconstructed probability distribution:  256\n"
     ]
    }
   ],
   "source": [
    "print('Size of reconstructed probability distribution: ', len(reconstructed_probabilities))"
   ]
  },
  {
   "cell_type": "markdown",
   "id": "7f86fe4c",
   "metadata": {},
   "source": [
    "## Verify the results\n",
    "\n",
    "If the original circuit is small enough, we can use a statevector simulator to check the results of cutting against the original circuit's exact probability distribution (ground truth)."
   ]
  },
  {
   "cell_type": "code",
   "execution_count": 15,
   "id": "5353b0c8",
   "metadata": {},
   "outputs": [],
   "source": [
    "metrics, exact_probabilities = cutter.verify(reconstructed_probabilities)"
   ]
  },
  {
   "cell_type": "markdown",
   "id": "03f63d3b",
   "metadata": {},
   "source": [
    "The verify step includes several metrics, including the chi square loss. More info about each metric can be found in the [utils metrics file](https://github.com/Qiskit-Extensions/circuit-knitting-toolbox/blob/main/circuit_knitting_toolbox/utils/metrics.py)."
   ]
  },
  {
   "cell_type": "code",
   "execution_count": 16,
   "id": "673d3cb3",
   "metadata": {},
   "outputs": [
    {
     "data": {
      "text/plain": [
       "{'nearest': {'chi2': 0.009880733766218005,\n",
       "  'Mean Squared Error': 2.437506505334499e-07,\n",
       "  'Mean Absolute Percentage Error': 1411.657586761267,\n",
       "  'Cross Entropy': 3.6914963683488704,\n",
       "  'HOP': 0.9966810699552298},\n",
       " 'naive': {'chi2': 0.009149488722012485,\n",
       "  'Mean Squared Error': 2.381343249240529e-07,\n",
       "  'Mean Absolute Percentage Error': 3693.630004327715,\n",
       "  'Cross Entropy': 3.665985412161219,\n",
       "  'HOP': 0.9939817621707712}}"
      ]
     },
     "execution_count": 16,
     "metadata": {},
     "output_type": "execute_result"
    }
   ],
   "source": [
    "metrics"
   ]
  },
  {
   "cell_type": "markdown",
   "id": "ec8c120e",
   "metadata": {},
   "source": [
    "If we calculated the ground truth above, we can visualize a comparison to the reconstructed probabilities"
   ]
  },
  {
   "cell_type": "code",
   "execution_count": 17,
   "id": "c8cc97e9",
   "metadata": {
    "scrolled": false
   },
   "outputs": [
    {
     "data": {
      "image/png": "[encoded data removed]",
      "text/plain": [
       "<Figure size 1600x600 with 1 Axes>"
      ]
     },
     "execution_count": 17,
     "metadata": {},
     "output_type": "execute_result"
    }
   ],
   "source": [
    "from qiskit.visualization import plot_histogram\n",
    "from qiskit.result import ProbDistribution\n",
    "\n",
    "# Create a dict for the reconstructed distribution\n",
    "reconstructed_distribution = {\n",
    "    i: prob for i, prob in enumerate(reconstructed_probabilities)\n",
    "}\n",
    "\n",
    "# Represent states as bitstrings (instead of ints)\n",
    "reconstructed_dict_bitstring = ProbDistribution(\n",
    "    data=reconstructed_distribution\n",
    ").binary_probabilities(num_bits=num_qubits)\n",
    "\n",
    "\n",
    "# Create the ground truth distribution dict\n",
    "exact_distribution = {\n",
    "    i: prob for i, prob in enumerate(exact_probabilities)\n",
    "}\n",
    "\n",
    "# Represent states as bitstrings (instead of ints)\n",
    "exact_dict_bitstring = ProbDistribution(\n",
    "    data=exact_distribution\n",
    ").binary_probabilities(num_bits=num_qubits)\n",
    "\n",
    "# plot a histogram of the distributions\n",
    "plot_histogram(\n",
    "    [exact_dict_bitstring, reconstructed_dict_bitstring],\n",
    "    number_to_keep=8,\n",
    "    figsize=(16, 6),\n",
    "    sort=\"asc\",\n",
    "    legend=[\"Exact\", \"Reconstructed\"],\n",
    ")"
   ]
  },
  {
   "cell_type": "code",
   "execution_count": 18,
   "id": "5e6e41aa",
   "metadata": {},
   "outputs": [
    {
     "data": {
      "text/html": [
       "<h3>Version Information</h3><table><tr><th>Qiskit Software</th><th>Version</th></tr><tr><td><code>qiskit-terra</code></td><td>0.22.0</td></tr><tr><td><code>qiskit-aer</code></td><td>0.11.0</td></tr><tr><td><code>qiskit-ibmq-provider</code></td><td>0.19.2</td></tr><tr><td><code>qiskit-nature</code></td><td>0.4.5</td></tr><tr><th>System information</th></tr><tr><td>Python version</td><td>3.9.13</td></tr><tr><td>Python compiler</td><td>Clang 12.0.0 </td></tr><tr><td>Python build</td><td>main, Oct 13 2022 16:12:30</td></tr><tr><td>OS</td><td>Darwin</td></tr><tr><td>CPUs</td><td>4</td></tr><tr><td>Memory (Gb)</td><td>32.0</td></tr><tr><td colspan='2'>Fri Oct 21 16:22:36 2022 MDT</td></tr></table>"
      ],
      "text/plain": [
       "<IPython.core.display.HTML object>"
      ]
     },
     "metadata": {},
     "output_type": "display_data"
    }
   ],
   "source": [
    "import qiskit.tools.jupyter  # pylint: disable=unused-import,wrong-import-order\n",
    "%qiskit_version_table"
   ]
  },
  {
   "cell_type": "markdown",
   "id": "efab631d",
   "metadata": {},
   "source": [
    "This code is a Qiskit project.\n",
    "© Copyright IBM 2022.\n",
    "\n",
    "This code is licensed under the Apache License, Version 2.0. You may\n",
    "obtain a copy of this license in the LICENSE.txt file in the root directory\n",
    "of this source tree or at http://www.apache.org/licenses/LICENSE-2.0.\n",
    "\n",
    "Any modifications or derivative works of this code must retain this\n",
    "copyright notice, and modified files need to carry a notice indicating\n",
    "that they have been altered from the originals."
   ]
  }
 ],
 "metadata": {
  "kernelspec": {
   "display_name": "Python 3 (ipykernel)",
   "language": "python",
   "name": "python3"
  },
  "language_info": {
   "codemirror_mode": {
    "name": "ipython",
    "version": 3
   },
   "file_extension": ".py",
   "mimetype": "text/x-python",
   "name": "python",
   "nbconvert_exporter": "python",
   "pygments_lexer": "ipython3",
   "version": "3.9.13"
  }
 },
 "nbformat": 4,
 "nbformat_minor": 5
}
