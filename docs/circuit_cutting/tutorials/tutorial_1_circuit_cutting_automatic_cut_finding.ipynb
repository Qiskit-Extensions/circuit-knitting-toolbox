{
 "cells": [
  {
   "cell_type": "markdown",
   "id": "c6cd641f",
   "metadata": {},
   "source": [
    "## Circuit cutting with automatic cut finding using the Circuit Knitting Toolbox"
   ]
  },
  {
   "cell_type": "markdown",
   "id": "e7043390",
   "metadata": {},
   "source": [
    "### Import relevant modules"
   ]
  },
  {
   "cell_type": "code",
   "execution_count": 1,
   "id": "31fe2cf1",
   "metadata": {},
   "outputs": [],
   "source": [
    "from random import random\n",
    "\n",
    "import numpy as np\n",
    "from qiskit import QuantumCircuit\n",
    "from qiskit.circuit.library import EfficientSU2\n",
    "from qiskit_ibm_runtime import (\n",
    "    QiskitRuntimeService,\n",
    "    Options,\n",
    "    Session,\n",
    "    Sampler,\n",
    "    RuntimeOptions,\n",
    ")\n",
    "\n",
    "from circuit_knitting_toolbox.circuit_cutting import WireCutter"
   ]
  },
  {
   "cell_type": "markdown",
   "id": "3c17f515",
   "metadata": {},
   "source": [
    "### Create a circuit to cut"
   ]
  },
  {
   "cell_type": "code",
   "execution_count": 2,
   "id": "eb859bde",
   "metadata": {},
   "outputs": [
    {
     "data": {
      "text/html": [
       "<pre style=\"word-wrap: normal;white-space: pre;background: #fff0;line-height: 1.1;font-family: &quot;Courier New&quot;,Courier,monospace\">      ┌──────────────────────┐     ┌───────────────────────┐                                                   ┌───────────────────────┐                                                                                                                                                        \n",
       "q_0: ─┤ Ry(0.65198909000809) ├──■──┤ Ry(0.988234695503339) ├──────────────────────────────────────■────────────┤ Ry(0.700210056630551) ├────────────────────────────────────────────────────────────────────────────────────────────────────────────────────────────────────────────────────────\n",
       "     ┌┴──────────────────────┤┌─┴─┐└───────────────────────┘┌────────────────────────┐          ┌─┴─┐          └───────────────────────┘ ┌───────────────────────┐                                                                                                                              \n",
       "q_1: ┤ Ry(0.369564357699531) ├┤ X ├────────────■────────────┤ Ry(0.0134183442989021) ├──────────┤ X ├──────────────────────■─────────────┤ Ry(0.778842281176651) ├──────────────────────────────────────────────────────────────────────────────────────────────────────────────────────────────\n",
       "     ├───────────────────────┤└───┘          ┌─┴─┐          └────────────────────────┘┌─────────┴───┴─────────┐          ┌─┴─┐           └───────────────────────┘┌───────────────────────┐                                                                                                     \n",
       "q_2: ┤ Ry(0.714416341793536) ├───────────────┤ X ├──────────────────────■─────────────┤ Ry(0.431518905868251) ├──────────┤ X ├───────────────────────■────────────┤ Ry(0.351554156328087) ├─────────────────────────────────────────────────────────────────────────────────────────────────────\n",
       "     ├───────────────────────┤               └───┘                    ┌─┴─┐           └───────────────────────┘┌─────────┴───┴──────────┐          ┌─┴─┐          └───────────────────────┘┌───────────────────────┐                                                                            \n",
       "q_3: ┤ Ry(0.256619154075708) ├────────────────────────────────────────┤ X ├───────────────────────■────────────┤ Ry(0.0652281641222194) ├──────────┤ X ├──────────────────────■────────────┤ Ry(0.803713264696147) ├────────────────────────────────────────────────────────────────────────────\n",
       "     ├───────────────────────┤                                        └───┘                     ┌─┴─┐          └────────────────────────┘┌─────────┴───┴─────────┐          ┌─┴─┐          └───────────────────────┘┌────────────────────────┐                                                  \n",
       "q_4: ┤ Ry(0.844212543172973) ├──────────────────────────────────────────────────────────────────┤ X ├──────────────────────■─────────────┤ Ry(0.997429147686717) ├──────────┤ X ├──────────────────────■────────────┤ Ry(0.0702973807985325) ├──────────────────────────────────────────────────\n",
       "     ├───────────────────────┤                                                                  └───┘                    ┌─┴─┐           └───────────────────────┘ ┌────────┴───┴─────────┐          ┌─┴─┐          └────────────────────────┘┌───────────────────────┐                         \n",
       "q_5: ┤ Ry(0.856460349529891) ├───────────────────────────────────────────────────────────────────────────────────────────┤ X ├───────────────────────■─────────────┤ Ry(0.66261244230681) ├──────────┤ X ├──────────────────────■─────────────┤ Ry(0.894280783588127) ├─────────────────────────\n",
       "     ├───────────────────────┤                                                                                           └───┘                     ┌─┴─┐           └──────────────────────┘┌─────────┴───┴─────────┐          ┌─┴─┐           └───────────────────────┘┌───────────────────────┐\n",
       "q_6: ┤ Ry(0.579804569917784) ├─────────────────────────────────────────────────────────────────────────────────────────────────────────────────────┤ X ├──────────────────────■────────────┤ Ry(0.081262581407529) ├──────────┤ X ├───────────────────────■────────────┤ Ry(0.945997635370842) ├\n",
       "     └┬──────────────────────┤                                                                                                                     └───┘                    ┌─┴─┐          ├───────────────────────┤          └───┘                     ┌─┴─┐          └┬──────────────────────┤\n",
       "q_7: ─┤ Ry(0.32705785608693) ├──────────────────────────────────────────────────────────────────────────────────────────────────────────────────────────────────────────────┤ X ├──────────┤ Ry(0.967161621001935) ├────────────────────────────────────┤ X ├───────────┤ Ry(0.48980515167601) ├\n",
       "      └──────────────────────┘                                                                                                                                              └───┘          └───────────────────────┘                                    └───┘           └──────────────────────┘</pre>"
      ],
      "text/plain": [
       "      ┌──────────────────────┐     ┌───────────────────────┐                                                   ┌───────────────────────┐                                                                                                                                                        \n",
       "q_0: ─┤ Ry(0.65198909000809) ├──■──┤ Ry(0.988234695503339) ├──────────────────────────────────────■────────────┤ Ry(0.700210056630551) ├────────────────────────────────────────────────────────────────────────────────────────────────────────────────────────────────────────────────────────\n",
       "     ┌┴──────────────────────┤┌─┴─┐└───────────────────────┘┌────────────────────────┐          ┌─┴─┐          └───────────────────────┘ ┌───────────────────────┐                                                                                                                              \n",
       "q_1: ┤ Ry(0.369564357699531) ├┤ X ├────────────■────────────┤ Ry(0.0134183442989021) ├──────────┤ X ├──────────────────────■─────────────┤ Ry(0.778842281176651) ├──────────────────────────────────────────────────────────────────────────────────────────────────────────────────────────────\n",
       "     ├───────────────────────┤└───┘          ┌─┴─┐          └────────────────────────┘┌─────────┴───┴─────────┐          ┌─┴─┐           └───────────────────────┘┌───────────────────────┐                                                                                                     \n",
       "q_2: ┤ Ry(0.714416341793536) ├───────────────┤ X ├──────────────────────■─────────────┤ Ry(0.431518905868251) ├──────────┤ X ├───────────────────────■────────────┤ Ry(0.351554156328087) ├─────────────────────────────────────────────────────────────────────────────────────────────────────\n",
       "     ├───────────────────────┤               └───┘                    ┌─┴─┐           └───────────────────────┘┌─────────┴───┴──────────┐          ┌─┴─┐          └───────────────────────┘┌───────────────────────┐                                                                            \n",
       "q_3: ┤ Ry(0.256619154075708) ├────────────────────────────────────────┤ X ├───────────────────────■────────────┤ Ry(0.0652281641222194) ├──────────┤ X ├──────────────────────■────────────┤ Ry(0.803713264696147) ├────────────────────────────────────────────────────────────────────────────\n",
       "     ├───────────────────────┤                                        └───┘                     ┌─┴─┐          └────────────────────────┘┌─────────┴───┴─────────┐          ┌─┴─┐          └───────────────────────┘┌────────────────────────┐                                                  \n",
       "q_4: ┤ Ry(0.844212543172973) ├──────────────────────────────────────────────────────────────────┤ X ├──────────────────────■─────────────┤ Ry(0.997429147686717) ├──────────┤ X ├──────────────────────■────────────┤ Ry(0.0702973807985325) ├──────────────────────────────────────────────────\n",
       "     ├───────────────────────┤                                                                  └───┘                    ┌─┴─┐           └───────────────────────┘ ┌────────┴───┴─────────┐          ┌─┴─┐          └────────────────────────┘┌───────────────────────┐                         \n",
       "q_5: ┤ Ry(0.856460349529891) ├───────────────────────────────────────────────────────────────────────────────────────────┤ X ├───────────────────────■─────────────┤ Ry(0.66261244230681) ├──────────┤ X ├──────────────────────■─────────────┤ Ry(0.894280783588127) ├─────────────────────────\n",
       "     ├───────────────────────┤                                                                                           └───┘                     ┌─┴─┐           └──────────────────────┘┌─────────┴───┴─────────┐          ┌─┴─┐           └───────────────────────┘┌───────────────────────┐\n",
       "q_6: ┤ Ry(0.579804569917784) ├─────────────────────────────────────────────────────────────────────────────────────────────────────────────────────┤ X ├──────────────────────■────────────┤ Ry(0.081262581407529) ├──────────┤ X ├───────────────────────■────────────┤ Ry(0.945997635370842) ├\n",
       "     └┬──────────────────────┤                                                                                                                     └───┘                    ┌─┴─┐          ├───────────────────────┤          └───┘                     ┌─┴─┐          └┬──────────────────────┤\n",
       "q_7: ─┤ Ry(0.32705785608693) ├──────────────────────────────────────────────────────────────────────────────────────────────────────────────────────────────────────────────┤ X ├──────────┤ Ry(0.967161621001935) ├────────────────────────────────────┤ X ├───────────┤ Ry(0.48980515167601) ├\n",
       "      └──────────────────────┘                                                                                                                                              └───┘          └───────────────────────┘                                    └───┘           └──────────────────────┘"
      ]
     },
     "execution_count": 2,
     "metadata": {},
     "output_type": "execute_result"
    }
   ],
   "source": [
    "num_qubits = 8\n",
    "circuit = EfficientSU2(\n",
    "    num_qubits=num_qubits,\n",
    "    reps=2,\n",
    "    entanglement=\"linear\",\n",
    "    su2_gates=['ry'],\n",
    "    insert_barriers=False,\n",
    ")\n",
    "\n",
    "circuit = circuit.decompose()\n",
    "\n",
    "params = [random() for _ in range(len(circuit.parameters))] # define list of parameter values\n",
    "circuit = circuit.bind_parameters(params) # bind those values\n",
    "circuit.draw(fold=300)"
   ]
  },
  {
   "cell_type": "markdown",
   "id": "461e57e3",
   "metadata": {},
   "source": [
    "### Set up the Qiskit runtime service"
   ]
  },
  {
   "cell_type": "code",
   "execution_count": 3,
   "id": "5d1fb2ca",
   "metadata": {},
   "outputs": [],
   "source": [
    "service = QiskitRuntimeService(\n",
    "    channel=\"ibm_quantum\",\n",
    "    token=\"<YOUR_API_KEY>\",\n",
    ")"
   ]
  },
  {
   "cell_type": "markdown",
   "id": "61d2944a",
   "metadata": {},
   "source": [
    "### Find cuts that match our criteria"
   ]
  },
  {
   "cell_type": "code",
   "execution_count": 4,
   "id": "57c8dccb",
   "metadata": {},
   "outputs": [
    {
     "name": "stderr",
     "output_type": "stream",
     "text": [
      "2022-10-11 17:57:16,107\tINFO worker.py:1518 -- Started a local Ray instance.\n"
     ]
    },
    {
     "name": "stdout",
     "output_type": "stream",
     "text": [
      "\u001b[2m\u001b[36m(_cut_automatic pid=15944)\u001b[0m Exporting as a LP file to let you check the model that will be solved :  inf <class 'float'>\n",
      "\u001b[2m\u001b[36m(_cut_automatic pid=15944)\u001b[0m Version identifier: 12.10.0.0 | 2019-11-26 | 843d4de\n",
      "\u001b[2m\u001b[36m(_cut_automatic pid=15944)\u001b[0m CPXPARAM_Read_DataCheck                          1\n",
      "\u001b[2m\u001b[36m(_cut_automatic pid=15944)\u001b[0m CPXPARAM_TimeLimit                               300\n",
      "\u001b[2m\u001b[36m(_cut_automatic pid=15944)\u001b[0m Warning:  Non-integral bounds for integer variables rounded.\n",
      "\u001b[2m\u001b[36m(_cut_automatic pid=15944)\u001b[0m Tried aggregator 3 times.\n",
      "\u001b[2m\u001b[36m(_cut_automatic pid=15944)\u001b[0m MIP Presolve eliminated 37 rows and 8 columns.\n",
      "\u001b[2m\u001b[36m(_cut_automatic pid=15944)\u001b[0m MIP Presolve modified 7 coefficients.\n",
      "\u001b[2m\u001b[36m(_cut_automatic pid=15944)\u001b[0m Aggregator did 103 substitutions.\n",
      "\u001b[2m\u001b[36m(_cut_automatic pid=15944)\u001b[0m Reduced MIP has 366 rows, 127 columns, and 1072 nonzeros.\n",
      "\u001b[2m\u001b[36m(_cut_automatic pid=15944)\u001b[0m Reduced MIP has 121 binaries, 6 generals, 0 SOSs, and 0 indicators.\n",
      "\u001b[2m\u001b[36m(_cut_automatic pid=15944)\u001b[0m Presolve time = 0.00 sec. (2.11 ticks)\n",
      "\u001b[2m\u001b[36m(_cut_automatic pid=15944)\u001b[0m Found incumbent of value 2.000000 after 0.00 sec. (3.25 ticks)\n",
      "\u001b[2m\u001b[36m(_cut_automatic pid=15944)\u001b[0m Probing fixed 8 vars, tightened 0 bounds.\n",
      "\u001b[2m\u001b[36m(_cut_automatic pid=15944)\u001b[0m Probing changed sense of 18 constraints.\n",
      "\u001b[2m\u001b[36m(_cut_automatic pid=15944)\u001b[0m Probing time = 0.00 sec. (0.91 ticks)\n",
      "\u001b[2m\u001b[36m(_cut_automatic pid=15944)\u001b[0m Cover probing fixed 2 vars, tightened 9 bounds.\n",
      "\u001b[2m\u001b[36m(_cut_automatic pid=15944)\u001b[0m Tried aggregator 2 times.\n",
      "\u001b[2m\u001b[36m(_cut_automatic pid=15944)\u001b[0m MIP Presolve eliminated 105 rows and 52 columns.\n",
      "\u001b[2m\u001b[36m(_cut_automatic pid=15944)\u001b[0m MIP Presolve modified 27 coefficients.\n",
      "\u001b[2m\u001b[36m(_cut_automatic pid=15944)\u001b[0m Aggregator did 7 substitutions.\n",
      "\u001b[2m\u001b[36m(_cut_automatic pid=15944)\u001b[0m Reduced MIP has 254 rows, 68 columns, and 746 nonzeros.\n",
      "\u001b[2m\u001b[36m(_cut_automatic pid=15944)\u001b[0m Reduced MIP has 62 binaries, 6 generals, 0 SOSs, and 0 indicators.\n",
      "\u001b[2m\u001b[36m(_cut_automatic pid=15944)\u001b[0m Presolve time = 0.00 sec. (2.01 ticks)\n",
      "\u001b[2m\u001b[36m(_cut_automatic pid=15944)\u001b[0m Probing fixed 30 vars, tightened 4 bounds.\n",
      "\u001b[2m\u001b[36m(_cut_automatic pid=15944)\u001b[0m Probing changed sense of 32 constraints.\n",
      "\u001b[2m\u001b[36m(_cut_automatic pid=15944)\u001b[0m Probing time = 0.00 sec. (0.76 ticks)\n",
      "\u001b[2m\u001b[36m(_cut_automatic pid=15944)\u001b[0m Cover probing fixed 3 vars, tightened 14 bounds.\n",
      "\u001b[2m\u001b[36m(_cut_automatic pid=15944)\u001b[0m Tried aggregator 4 times.\n",
      "\u001b[2m\u001b[36m(_cut_automatic pid=15944)\u001b[0m MIP Presolve eliminated 244 rows and 56 columns.\n",
      "\u001b[2m\u001b[36m(_cut_automatic pid=15944)\u001b[0m MIP Presolve added 1 rows and 1 columns.\n",
      "\u001b[2m\u001b[36m(_cut_automatic pid=15944)\u001b[0m MIP Presolve modified 18 coefficients.\n",
      "\u001b[2m\u001b[36m(_cut_automatic pid=15944)\u001b[0m Aggregator did 11 substitutions.\n",
      "\u001b[2m\u001b[36m(_cut_automatic pid=15944)\u001b[0m All rows and columns eliminated.\n",
      "\u001b[2m\u001b[36m(_cut_automatic pid=15944)\u001b[0m Presolve time = 0.00 sec. (0.33 ticks)\n",
      "\u001b[2m\u001b[36m(_cut_automatic pid=15944)\u001b[0m \n",
      "\u001b[2m\u001b[36m(_cut_automatic pid=15944)\u001b[0m Root node processing (before b&c):\n",
      "\u001b[2m\u001b[36m(_cut_automatic pid=15944)\u001b[0m   Real time             =    0.01 sec. (7.56 ticks)\n",
      "\u001b[2m\u001b[36m(_cut_automatic pid=15944)\u001b[0m Parallel b&c, 16 threads:\n",
      "\u001b[2m\u001b[36m(_cut_automatic pid=15944)\u001b[0m   Real time             =    0.00 sec. (0.00 ticks)\n",
      "\u001b[2m\u001b[36m(_cut_automatic pid=15944)\u001b[0m   Sync time (average)   =    0.00 sec.\n",
      "\u001b[2m\u001b[36m(_cut_automatic pid=15944)\u001b[0m   Wait time (average)   =    0.00 sec.\n",
      "\u001b[2m\u001b[36m(_cut_automatic pid=15944)\u001b[0m                           ------------\n",
      "\u001b[2m\u001b[36m(_cut_automatic pid=15944)\u001b[0m Total (root+branch&cut) =    0.01 sec. (7.56 ticks)\n",
      "\u001b[2m\u001b[36m(_cut_automatic pid=15944)\u001b[0m --------------------\n",
      "\u001b[2m\u001b[36m(_cut_automatic pid=15944)\u001b[0m subcircuit 0\n",
      "\u001b[2m\u001b[36m(_cut_automatic pid=15944)\u001b[0m ρ qubits = 0, O qubits = 2, width = 4, effective = 2, depth = 7, size = 14\n",
      "\u001b[2m\u001b[36m(_cut_automatic pid=15944)\u001b[0m       ┌──────────────────────┐     ┌───────────────────────┐»\n",
      "\u001b[2m\u001b[36m(_cut_automatic pid=15944)\u001b[0m q_0: ─┤ Ry(0.65198909000809) ├──■──┤ Ry(0.988234695503339) ├»\n",
      "\u001b[2m\u001b[36m(_cut_automatic pid=15944)\u001b[0m      ┌┴──────────────────────┤┌─┴─┐└───────────────────────┘»\n",
      "\u001b[2m\u001b[36m(_cut_automatic pid=15944)\u001b[0m q_1: ┤ Ry(0.369564357699531) ├┤ X ├────────────■────────────»\n",
      "\u001b[2m\u001b[36m(_cut_automatic pid=15944)\u001b[0m      ├───────────────────────┤└───┘          ┌─┴─┐          »\n",
      "\u001b[2m\u001b[36m(_cut_automatic pid=15944)\u001b[0m q_2: ┤ Ry(0.714416341793536) ├───────────────┤ X ├──────────»\n",
      "\u001b[2m\u001b[36m(_cut_automatic pid=15944)\u001b[0m      ├───────────────────────┤               └───┘          »\n",
      "\u001b[2m\u001b[36m(_cut_automatic pid=15944)\u001b[0m q_3: ┤ Ry(0.256619154075708) ├──────────────────────────────»\n",
      "\u001b[2m\u001b[36m(_cut_automatic pid=15944)\u001b[0m      └───────────────────────┘                              »\n",
      "\u001b[2m\u001b[36m(_cut_automatic pid=15944)\u001b[0m «                                                        »\n",
      "\u001b[2m\u001b[36m(_cut_automatic pid=15944)\u001b[0m «q_0: ──────────────────────────────────────■────────────»\n",
      "\u001b[2m\u001b[36m(_cut_automatic pid=15944)\u001b[0m «     ┌────────────────────────┐          ┌─┴─┐          »\n",
      "\u001b[2m\u001b[36m(_cut_automatic pid=15944)\u001b[0m «q_1: ┤ Ry(0.0134183442989021) ├──────────┤ X ├──────────»\n",
      "\u001b[2m\u001b[36m(_cut_automatic pid=15944)\u001b[0m «     └────────────────────────┘┌─────────┴───┴─────────┐»\n",
      "\u001b[2m\u001b[36m(_cut_automatic pid=15944)\u001b[0m «q_2: ────────────■─────────────┤ Ry(0.431518905868251) ├»\n",
      "\u001b[2m\u001b[36m(_cut_automatic pid=15944)\u001b[0m «               ┌─┴─┐           └───────────────────────┘»\n",
      "\u001b[2m\u001b[36m(_cut_automatic pid=15944)\u001b[0m «q_3: ──────────┤ X ├────────────────────────────────────»\n",
      "\u001b[2m\u001b[36m(_cut_automatic pid=15944)\u001b[0m «               └───┘                                    »\n",
      "\u001b[2m\u001b[36m(_cut_automatic pid=15944)\u001b[0m «     ┌───────────────────────┐                         \n",
      "\u001b[2m\u001b[36m(_cut_automatic pid=15944)\u001b[0m «q_0: ┤ Ry(0.700210056630551) ├─────────────────────────\n",
      "\u001b[2m\u001b[36m(_cut_automatic pid=15944)\u001b[0m «     └───────────────────────┘┌───────────────────────┐\n",
      "\u001b[2m\u001b[36m(_cut_automatic pid=15944)\u001b[0m «q_1: ────────────■────────────┤ Ry(0.778842281176651) ├\n",
      "\u001b[2m\u001b[36m(_cut_automatic pid=15944)\u001b[0m «               ┌─┴─┐          └───────────────────────┘\n",
      "\u001b[2m\u001b[36m(_cut_automatic pid=15944)\u001b[0m «q_2: ──────────┤ X ├───────────────────────────────────\n",
      "\u001b[2m\u001b[36m(_cut_automatic pid=15944)\u001b[0m «               └───┘                                   \n",
      "\u001b[2m\u001b[36m(_cut_automatic pid=15944)\u001b[0m «q_3: ──────────────────────────────────────────────────\n",
      "\u001b[2m\u001b[36m(_cut_automatic pid=15944)\u001b[0m «                                                       \n",
      "\u001b[2m\u001b[36m(_cut_automatic pid=15944)\u001b[0m subcircuit 1\n",
      "\u001b[2m\u001b[36m(_cut_automatic pid=15944)\u001b[0m ρ qubits = 2, O qubits = 0, width = 6, effective = 6, depth = 9, size = 24\n",
      "\u001b[2m\u001b[36m(_cut_automatic pid=15944)\u001b[0m                                                              »\n",
      "\u001b[2m\u001b[36m(_cut_automatic pid=15944)\u001b[0m q_0: ────────────────────────────────────────────────────────»\n",
      "\u001b[2m\u001b[36m(_cut_automatic pid=15944)\u001b[0m                                    ┌────────────────────────┐»\n",
      "\u001b[2m\u001b[36m(_cut_automatic pid=15944)\u001b[0m q_1: ───────────────────────────■──┤ Ry(0.0652281641222194) ├»\n",
      "\u001b[2m\u001b[36m(_cut_automatic pid=15944)\u001b[0m      ┌───────────────────────┐┌─┴─┐└────────────────────────┘»\n",
      "\u001b[2m\u001b[36m(_cut_automatic pid=15944)\u001b[0m q_2: ┤ Ry(0.844212543172973) ├┤ X ├────────────■─────────────»\n",
      "\u001b[2m\u001b[36m(_cut_automatic pid=15944)\u001b[0m      ├───────────────────────┤└───┘          ┌─┴─┐           »\n",
      "\u001b[2m\u001b[36m(_cut_automatic pid=15944)\u001b[0m q_3: ┤ Ry(0.856460349529891) ├───────────────┤ X ├───────────»\n",
      "\u001b[2m\u001b[36m(_cut_automatic pid=15944)\u001b[0m      ├───────────────────────┤               └───┘           »\n",
      "\u001b[2m\u001b[36m(_cut_automatic pid=15944)\u001b[0m q_4: ┤ Ry(0.579804569917784) ├───────────────────────────────»\n",
      "\u001b[2m\u001b[36m(_cut_automatic pid=15944)\u001b[0m      └┬──────────────────────┤                               »\n",
      "\u001b[2m\u001b[36m(_cut_automatic pid=15944)\u001b[0m q_5: ─┤ Ry(0.32705785608693) ├───────────────────────────────»\n",
      "\u001b[2m\u001b[36m(_cut_automatic pid=15944)\u001b[0m       └──────────────────────┘                               »\n",
      "\u001b[2m\u001b[36m(_cut_automatic pid=15944)\u001b[0m «                              ┌───────────────────────┐»\n",
      "\u001b[2m\u001b[36m(_cut_automatic pid=15944)\u001b[0m «q_0: ────────────■────────────┤ Ry(0.351554156328087) ├»\n",
      "\u001b[2m\u001b[36m(_cut_automatic pid=15944)\u001b[0m «               ┌─┴─┐          └───────────────────────┘»\n",
      "\u001b[2m\u001b[36m(_cut_automatic pid=15944)\u001b[0m «q_1: ──────────┤ X ├──────────────────────■────────────»\n",
      "\u001b[2m\u001b[36m(_cut_automatic pid=15944)\u001b[0m «     ┌─────────┴───┴─────────┐          ┌─┴─┐          »\n",
      "\u001b[2m\u001b[36m(_cut_automatic pid=15944)\u001b[0m «q_2: ┤ Ry(0.997429147686717) ├──────────┤ X ├──────────»\n",
      "\u001b[2m\u001b[36m(_cut_automatic pid=15944)\u001b[0m «     └───────────────────────┘ ┌────────┴───┴─────────┐»\n",
      "\u001b[2m\u001b[36m(_cut_automatic pid=15944)\u001b[0m «q_3: ────────────■─────────────┤ Ry(0.66261244230681) ├»\n",
      "\u001b[2m\u001b[36m(_cut_automatic pid=15944)\u001b[0m «               ┌─┴─┐           └──────────────────────┘»\n",
      "\u001b[2m\u001b[36m(_cut_automatic pid=15944)\u001b[0m «q_4: ──────────┤ X ├──────────────────────■────────────»\n",
      "\u001b[2m\u001b[36m(_cut_automatic pid=15944)\u001b[0m «               └───┘                    ┌─┴─┐          »\n",
      "\u001b[2m\u001b[36m(_cut_automatic pid=15944)\u001b[0m «q_5: ───────────────────────────────────┤ X ├──────────»\n",
      "\u001b[2m\u001b[36m(_cut_automatic pid=15944)\u001b[0m «                                        └───┘          »\n",
      "\u001b[2m\u001b[36m(_cut_automatic pid=15944)\u001b[0m «                                                        »\n",
      "\u001b[2m\u001b[36m(_cut_automatic pid=15944)\u001b[0m «q_0: ───────────────────────────────────────────────────»\n",
      "\u001b[2m\u001b[36m(_cut_automatic pid=15944)\u001b[0m «     ┌───────────────────────┐                          »\n",
      "\u001b[2m\u001b[36m(_cut_automatic pid=15944)\u001b[0m «q_1: ┤ Ry(0.803713264696147) ├──────────────────────────»\n",
      "\u001b[2m\u001b[36m(_cut_automatic pid=15944)\u001b[0m «     └───────────────────────┘┌────────────────────────┐»\n",
      "\u001b[2m\u001b[36m(_cut_automatic pid=15944)\u001b[0m «q_2: ────────────■────────────┤ Ry(0.0702973807985325) ├»\n",
      "\u001b[2m\u001b[36m(_cut_automatic pid=15944)\u001b[0m «               ┌─┴─┐          └────────────────────────┘»\n",
      "\u001b[2m\u001b[36m(_cut_automatic pid=15944)\u001b[0m «q_3: ──────────┤ X ├──────────────────────■─────────────»\n",
      "\u001b[2m\u001b[36m(_cut_automatic pid=15944)\u001b[0m «     ┌─────────┴───┴─────────┐          ┌─┴─┐           »\n",
      "\u001b[2m\u001b[36m(_cut_automatic pid=15944)\u001b[0m «q_4: ┤ Ry(0.081262581407529) ├──────────┤ X ├───────────»\n",
      "\u001b[2m\u001b[36m(_cut_automatic pid=15944)\u001b[0m «     ├───────────────────────┤          └───┘           »\n",
      "\u001b[2m\u001b[36m(_cut_automatic pid=15944)\u001b[0m «q_5: ┤ Ry(0.967161621001935) ├──────────────────────────»\n",
      "\u001b[2m\u001b[36m(_cut_automatic pid=15944)\u001b[0m «     └───────────────────────┘                          »\n",
      "\u001b[2m\u001b[36m(_cut_automatic pid=15944)\u001b[0m «                                                       \n",
      "\u001b[2m\u001b[36m(_cut_automatic pid=15944)\u001b[0m «q_0: ──────────────────────────────────────────────────\n",
      "\u001b[2m\u001b[36m(_cut_automatic pid=15944)\u001b[0m «                                                       \n",
      "\u001b[2m\u001b[36m(_cut_automatic pid=15944)\u001b[0m «q_1: ──────────────────────────────────────────────────\n",
      "\u001b[2m\u001b[36m(_cut_automatic pid=15944)\u001b[0m «                                                       \n",
      "\u001b[2m\u001b[36m(_cut_automatic pid=15944)\u001b[0m «q_2: ──────────────────────────────────────────────────\n",
      "\u001b[2m\u001b[36m(_cut_automatic pid=15944)\u001b[0m «     ┌───────────────────────┐                         \n",
      "\u001b[2m\u001b[36m(_cut_automatic pid=15944)\u001b[0m «q_3: ┤ Ry(0.894280783588127) ├─────────────────────────\n",
      "\u001b[2m\u001b[36m(_cut_automatic pid=15944)\u001b[0m «     └───────────────────────┘┌───────────────────────┐\n",
      "\u001b[2m\u001b[36m(_cut_automatic pid=15944)\u001b[0m «q_4: ────────────■────────────┤ Ry(0.945997635370842) ├\n",
      "\u001b[2m\u001b[36m(_cut_automatic pid=15944)\u001b[0m «               ┌─┴─┐          └┬──────────────────────┤\n",
      "\u001b[2m\u001b[36m(_cut_automatic pid=15944)\u001b[0m «q_5: ──────────┤ X ├───────────┤ Ry(0.48980515167601) ├\n",
      "\u001b[2m\u001b[36m(_cut_automatic pid=15944)\u001b[0m «               └───┘           └──────────────────────┘\n",
      "\u001b[2m\u001b[36m(_cut_automatic pid=15944)\u001b[0m Estimated cost = 4.096e+03\n",
      "\u001b[2m\u001b[36m(_cut_automatic pid=15944)\u001b[0m Model objective value = 2.00e+00\n",
      "\u001b[2m\u001b[36m(_cut_automatic pid=15944)\u001b[0m MIP runtime: 0.011768102645874023\n",
      "\u001b[2m\u001b[36m(_cut_automatic pid=15944)\u001b[0m NOT OPTIMAL, MIP gap = 0.0\n",
      "\u001b[2m\u001b[36m(_cut_automatic pid=15944)\u001b[0m --------------------\n"
     ]
    }
   ],
   "source": [
    "# Set the Sampler and runtime options\n",
    "options = Options(resilience_level=1, optimization_level=3, execution={\"shots\": 8192})\n",
    "\n",
    "# Run 2 parallel qasm simulator threads\n",
    "backend_names = [\"ibmq_qasm_simulator\"] * 2\n",
    "\n",
    "# Instantiate a WireCutter and decompose the circuit\n",
    "cutter = WireCutter(\n",
    "    circuit, service=service, backend_names=backend_names, options=options\n",
    ")\n",
    "# cutter = WireCutter(circuit) # local Estimator\n",
    "\n",
    "cuts = cutter.decompose(\n",
    "    method=\"automatic\",\n",
    "    max_subcircuit_width=6,\n",
    "    max_cuts=2,\n",
    "    num_subcircuits=[2],\n",
    ")"
   ]
  },
  {
   "cell_type": "markdown",
   "id": "00789cc4",
   "metadata": {},
   "source": [
    "### Evaluate the subcircuits, then recompose the circuit and verify the error between the full and cut circuit distributions is within tolerance"
   ]
  },
  {
   "cell_type": "code",
   "execution_count": 5,
   "id": "bb70ef8e",
   "metadata": {},
   "outputs": [
    {
     "name": "stdout",
     "output_type": "stream",
     "text": [
      "{'nearest': {'chi2': 0.016066288906780395, 'Mean Squared Error': 2.62806537740421e-07, 'Mean Absolute Percentage Error': 3868.8107416484286, 'Cross Entropy': 4.4287363434327744, 'HOP': 0.9734068302603233}, 'naive': {'chi2': 0.015953589469409044, 'Mean Squared Error': 2.5964347386122023e-07, 'Mean Absolute Percentage Error': 4145.918916629806, 'Cross Entropy': 4.415785860637712, 'HOP': 0.9706102949223668}}\n"
     ]
    }
   ],
   "source": [
    "# Evaluate the subcircuits on backend\n",
    "subcircuit_instance_probabilities = cutter.evaluate(cuts)\n",
    "\n",
    "# Recompose the circuit and generate the cut circuit's probability distribution\n",
    "reconstructed_probabilities = cutter.recompose(\n",
    "    subcircuit_instance_probabilities, cuts, num_threads=4\n",
    ")\n",
    "\n",
    "# Use a statevector simulator to calculate the error between the inferred and actual distributions\n",
    "metrics = cutter.verify(reconstructed_probabilities)\n",
    "print(metrics)"
   ]
  }
 ],
 "metadata": {
  "kernelspec": {
   "display_name": "Python 3 (ipykernel)",
   "language": "python",
   "name": "python3"
  },
  "language_info": {
   "codemirror_mode": {
    "name": "ipython",
    "version": 3
   },
   "file_extension": ".py",
   "mimetype": "text/x-python",
   "name": "python",
   "nbconvert_exporter": "python",
   "pygments_lexer": "ipython3",
   "version": "3.7.13"
  }
 },
 "nbformat": 4,
 "nbformat_minor": 5
}
