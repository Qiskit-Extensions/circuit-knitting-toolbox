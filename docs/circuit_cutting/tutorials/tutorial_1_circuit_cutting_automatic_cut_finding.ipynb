{
 "cells": [
  {
   "cell_type": "markdown",
   "id": "c6cd641f",
   "metadata": {},
   "source": [
    "## Circuit cutting with automatic cut finding using the Circuit Knitting Toolbox"
   ]
  },
  {
   "cell_type": "markdown",
   "id": "e7043390",
   "metadata": {},
   "source": [
    "### Import relevant modules"
   ]
  },
  {
   "cell_type": "code",
   "execution_count": 1,
   "id": "31fe2cf1",
   "metadata": {},
   "outputs": [],
   "source": [
    "import numpy as np\n",
    "from qiskit import QuantumCircuit\n",
    "from qiskit_ibm_runtime import QiskitRuntimeService, Options, Session, Sampler\n",
    "\n",
    "from circuit_knitting_toolbox.circuit_cutting import WireCutter"
   ]
  },
  {
   "cell_type": "markdown",
   "id": "3c17f515",
   "metadata": {},
   "source": [
    "### Create a circuit to cut"
   ]
  },
  {
   "cell_type": "code",
   "execution_count": 2,
   "id": "eb859bde",
   "metadata": {},
   "outputs": [
    {
     "data": {
      "text/html": [
       "<pre style=\"word-wrap: normal;white-space: pre;background: #fff0;line-height: 1.1;font-family: &quot;Courier New&quot;,Courier,monospace\">     ┌───┐                ┌─────────┐   ┌───┐   ┌───┐\n",
       "q_0: ┤ H ├──■───────■─────┤ Rx(π/2) ├───┤ T ├───┤ H ├\n",
       "     ├───┤┌─┴─┐     │     ├─────────┤   ├───┤   ├───┤\n",
       "q_1: ┤ H ├┤ X ├─────┼─────┤ Rx(π/2) ├───┤ T ├───┤ H ├\n",
       "     ├───┤├───┤   ┌─┴─┐   └─────────┘   └───┘   ├───┤\n",
       "q_2: ┤ H ├┤ T ├───┤ X ├────────■──────────■─────┤ H ├\n",
       "     ├───┤├───┤   └───┘        │        ┌─┴─┐   ├───┤\n",
       "q_3: ┤ H ├┤ T ├────────────────┼────────┤ X ├───┤ H ├\n",
       "     ├───┤├───┤┌─────────┐   ┌─┴─┐   ┌──┴───┴──┐├───┤\n",
       "q_4: ┤ H ├┤ T ├┤ Rx(π/2) ├───┤ X ├───┤ Ry(π/2) ├┤ H ├\n",
       "     └───┘└───┘└─────────┘   └───┘   └─────────┘└───┘</pre>"
      ],
      "text/plain": [
       "     ┌───┐                ┌─────────┐   ┌───┐   ┌───┐\n",
       "q_0: ┤ H ├──■───────■─────┤ Rx(π/2) ├───┤ T ├───┤ H ├\n",
       "     ├───┤┌─┴─┐     │     ├─────────┤   ├───┤   ├───┤\n",
       "q_1: ┤ H ├┤ X ├─────┼─────┤ Rx(π/2) ├───┤ T ├───┤ H ├\n",
       "     ├───┤├───┤   ┌─┴─┐   └─────────┘   └───┘   ├───┤\n",
       "q_2: ┤ H ├┤ T ├───┤ X ├────────■──────────■─────┤ H ├\n",
       "     ├───┤├───┤   └───┘        │        ┌─┴─┐   ├───┤\n",
       "q_3: ┤ H ├┤ T ├────────────────┼────────┤ X ├───┤ H ├\n",
       "     ├───┤├───┤┌─────────┐   ┌─┴─┐   ┌──┴───┴──┐├───┤\n",
       "q_4: ┤ H ├┤ T ├┤ Rx(π/2) ├───┤ X ├───┤ Ry(π/2) ├┤ H ├\n",
       "     └───┘└───┘└─────────┘   └───┘   └─────────┘└───┘"
      ]
     },
     "execution_count": 2,
     "metadata": {},
     "output_type": "execute_result"
    }
   ],
   "source": [
    "qc = QuantumCircuit(5)\n",
    "for i in range(5):\n",
    "    qc.h(i)\n",
    "qc.cx(0, 1)\n",
    "for i in range(2, 5):\n",
    "    qc.t(i)\n",
    "qc.cx(0, 2)\n",
    "qc.rx(np.pi / 2, 4)\n",
    "qc.rx(np.pi / 2, 0)\n",
    "qc.rx(np.pi / 2, 1)\n",
    "qc.cx(2, 4)\n",
    "qc.t(0)\n",
    "qc.t(1)\n",
    "qc.cx(2, 3)\n",
    "qc.ry(np.pi / 2, 4)\n",
    "for i in range(5):\n",
    "    qc.h(i)\n",
    "\n",
    "qc.draw()"
   ]
  },
  {
   "cell_type": "markdown",
   "id": "461e57e3",
   "metadata": {},
   "source": [
    "## Set up the Qiskit runtime session"
   ]
  },
  {
   "cell_type": "code",
   "execution_count": 3,
   "id": "5d1fb2ca",
   "metadata": {},
   "outputs": [],
   "source": [
    "service = QiskitRuntimeService(\n",
    "    channel='ibm_quantum',\n",
    "    instance='<YOUR_INSTANCE>',\n",
    "    token=\"<YOUR_API_TOKEN>\",\n",
    ")\n",
    "session = Session(service=service, backend='backend_name')"
   ]
  },
  {
   "cell_type": "markdown",
   "id": "61d2944a",
   "metadata": {},
   "source": [
    "### Find cuts that match our criteria and evaluate the subcircuits within a Qiskit Session context"
   ]
  },
  {
   "cell_type": "code",
   "execution_count": 5,
   "id": "57c8dccb",
   "metadata": {},
   "outputs": [
    {
     "name": "stderr",
     "output_type": "stream",
     "text": [
      "/Users/caleb/opt/anaconda3/envs/ckt/lib/python3.7/site-packages/ipykernel_launcher.py:2: DeprecationWarning: The BaseSampler.__enter__ method is deprecated as of Qiskit Terra 0.22.0 and will be removed no sooner than 3 months after the releasedate. BaseSampler should be initialized directly.\n",
      "  \n"
     ]
    },
    {
     "name": "stdout",
     "output_type": "stream",
     "text": [
      "Exporting as a LP file to let you check the model that will be solved :  inf <class 'float'>\n",
      "Version identifier: 12.10.0.0 | 2019-11-26 | 843d4de\n",
      "CPXPARAM_Read_DataCheck                          1\n",
      "CPXPARAM_TimeLimit                               300\n",
      "Warning:  Non-integral bounds for integer variables rounded.\n",
      "Tried aggregator 3 times.\n",
      "MIP Presolve eliminated 23 rows and 5 columns.\n",
      "MIP Presolve modified 4 coefficients.\n",
      "Aggregator did 22 substitutions.\n",
      "Reduced MIP has 47 rows, 24 columns, and 142 nonzeros.\n",
      "Reduced MIP has 15 binaries, 9 generals, 0 SOSs, and 0 indicators.\n",
      "Presolve time = 0.01 sec. (0.36 ticks)\n",
      "Found incumbent of value 1.000000 after 0.01 sec. (0.51 ticks)\n",
      "Probing fixed 15 vars, tightened 22 bounds.\n",
      "Probing time = 0.00 sec. (0.03 ticks)\n",
      "Tried aggregator 1 time.\n",
      "MIP Presolve eliminated 47 rows and 24 columns.\n",
      "All rows and columns eliminated.\n",
      "Presolve time = 0.00 sec. (0.02 ticks)\n",
      "\n",
      "Root node processing (before b&c):\n",
      "  Real time             =    0.01 sec. (0.56 ticks)\n",
      "Parallel b&c, 16 threads:\n",
      "  Real time             =    0.00 sec. (0.00 ticks)\n",
      "  Sync time (average)   =    0.00 sec.\n",
      "  Wait time (average)   =    0.00 sec.\n",
      "                          ------------\n",
      "Total (root+branch&cut) =    0.01 sec. (0.56 ticks)\n",
      "--------------------\n",
      "subcircuit 0\n",
      "ρ qubits = 0, O qubits = 1, width = 3, effective = 2, depth = 6, size = 12\n",
      "     ┌───┐                     ┌─────────┐┌───┐┌───┐\n",
      "q_0: ┤ H ├──■───────────────■──┤ Rx(π/2) ├┤ T ├┤ H ├\n",
      "     ├───┤┌─┴─┐┌─────────┐  │  └──┬───┬──┘├───┤└───┘\n",
      "q_1: ┤ H ├┤ X ├┤ Rx(π/2) ├──┼─────┤ T ├───┤ H ├─────\n",
      "     ├───┤├───┤└─────────┘┌─┴─┐   └───┘   └───┘     \n",
      "q_2: ┤ H ├┤ T ├───────────┤ X ├─────────────────────\n",
      "     └───┘└───┘           └───┘                     \n",
      "subcircuit 1\n",
      "ρ qubits = 1, O qubits = 0, width = 3, effective = 3, depth = 6, size = 11\n",
      "                                          ┌───┐\n",
      "q_0: ───────────────────────■───────■─────┤ H ├\n",
      "     ┌───┐┌───┐             │     ┌─┴─┐   ├───┤\n",
      "q_1: ┤ H ├┤ T ├─────────────┼─────┤ X ├───┤ H ├\n",
      "     ├───┤├───┤┌─────────┐┌─┴─┐┌──┴───┴──┐├───┤\n",
      "q_2: ┤ H ├┤ T ├┤ Rx(π/2) ├┤ X ├┤ Ry(π/2) ├┤ H ├\n",
      "     └───┘└───┘└─────────┘└───┘└─────────┘└───┘\n",
      "Estimated cost = 1.280e+02\n",
      "Model objective value = 1.00e+00\n",
      "MIP runtime: 0.01914691925048828\n",
      "NOT OPTIMAL, MIP gap = 0.0\n",
      "--------------------\n"
     ]
    },
    {
     "name": "stderr",
     "output_type": "stream",
     "text": [
      "/Users/caleb/opt/anaconda3/envs/ckt/lib/python3.7/site-packages/ipykernel_launcher.py:11: DeprecationWarning: The BaseSampler.__exit__ method is deprecated as of Qiskit Terra 0.22.0 and will be removed no sooner than 3 months after the releasedate. BaseSampler should be initialized directly.\n",
      "  # This is added back by InteractiveShellApp.init_path()\n"
     ]
    }
   ],
   "source": [
    "options = Options(resilience_level=1, optimization_level=3, execution={'shots': 8192})\n",
    "with Sampler(session=session, options=options) as sampler:\n",
    "    cutter = WireCutter(qc, sampler)\n",
    "    cuts = cutter.cut_automatic(\n",
    "        max_subcircuit_width=3,\n",
    "        max_subcircuit_cuts=10,\n",
    "        max_subcircuit_size=12,\n",
    "        max_cuts=10,\n",
    "        num_subcircuits=[2],\n",
    "    )\n",
    "    subcircuit_instance_probabilities = cutter.evaluate(cuts)"
   ]
  },
  {
   "cell_type": "markdown",
   "id": "00789cc4",
   "metadata": {},
   "source": [
    "## Recompose the circuit and verify the error between the full and cut circuit distributions is within tolerance"
   ]
  },
  {
   "cell_type": "code",
   "execution_count": 6,
   "id": "bb70ef8e",
   "metadata": {},
   "outputs": [
    {
     "name": "stdout",
     "output_type": "stream",
     "text": [
      "{'nearest': {'chi2': 0.0011186143314989884, 'Mean Squared Error': 4.545574109408901e-06, 'Mean Absolute Percentage Error': 6.266595462888194, 'Cross Entropy': 2.6008050249835195, 'HOP': 0.8979776188036324}, 'naive': {'chi2': 0.0011186143314989886, 'Mean Squared Error': 4.5455741094088934e-06, 'Mean Absolute Percentage Error': 6.266595462888201, 'Cross Entropy': 2.6008050249835195, 'HOP': 0.8979776188036325}}\n"
     ]
    }
   ],
   "source": [
    "ordered_probabilities = cutter.recompose(subcircuit_instance_probabilities, cuts, num_threads=4)\n",
    "metrics = cutter.verify(ordered_probabilities)\n",
    "print(metrics)"
   ]
  }
 ],
 "metadata": {
  "kernelspec": {
   "display_name": "Python 3 (ipykernel)",
   "language": "python",
   "name": "python3"
  },
  "language_info": {
   "codemirror_mode": {
    "name": "ipython",
    "version": 3
   },
   "file_extension": ".py",
   "mimetype": "text/x-python",
   "name": "python",
   "nbconvert_exporter": "python",
   "pygments_lexer": "ipython3",
   "version": "3.7.13"
  }
 },
 "nbformat": 4,
 "nbformat_minor": 5
}
