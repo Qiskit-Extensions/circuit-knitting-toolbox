{
 "cells": [
  {
   "cell_type": "markdown",
   "id": "a7893ce2",
   "metadata": {},
   "source": [
    "## Demo of running entanglement forging via the circuit knitting toolbox."
   ]
  },
  {
   "cell_type": "markdown",
   "id": "7bacbee3",
   "metadata": {},
   "source": [
    "### Import relevant modules"
   ]
  },
  {
   "cell_type": "code",
   "execution_count": 1,
   "id": "485590ac",
   "metadata": {},
   "outputs": [],
   "source": [
    "from pathlib import Path\n",
    "\n",
    "import numpy as np\n",
    "from matplotlib import pyplot as plt\n",
    "\n",
    "# A package for distributing quantum and classical compute\n",
    "from quantum_serverless import QuantumServerless\n",
    "\n",
    "from qiskit.circuit import QuantumCircuit, Parameter\n",
    "from qiskit.circuit.library import TwoLocal\n",
    "from qiskit.algorithms.optimizers import COBYLA\n",
    "from qiskit_nature.drivers import Molecule\n",
    "from qiskit_nature.drivers.second_quantization import PySCFDriver\n",
    "from qiskit_nature.problems.second_quantization import ElectronicStructureProblem\n",
    "from qiskit_ibm_runtime import QiskitRuntimeService\n",
    "\n",
    "from circuit_knitting_toolbox.entanglement_forging import (\n",
    "    EntanglementForgingAnsatz,\n",
    "    EntanglementForgingGroundStateSolver,\n",
    ")\n",
    "from circuit_knitting_toolbox.utils import IntegralDriver"
   ]
  },
  {
   "cell_type": "markdown",
   "id": "6dc1f14a",
   "metadata": {},
   "source": [
    "### Introduction to the chemistry problem\n",
    "\n",
    "Reaction for splitting of $\\mathrm{H}_2\\mathrm{O}$ on a magnesium surface, as described in Fig. 1(a) from [arXiv:2203.07536](https://arxiv.org/abs/2203.07536):\n",
    "\n",
    "$$ \\mathrm{Mg} + \\mathrm{H}_2\\mathrm{O} \\longrightarrow \\mathrm{Mg}(\\mathrm{OH}_\\mathrm{ads})(\\mathrm{H}_\\mathrm{ads}),$$\n",
    "\n",
    "![Splitting of water molecular on a magnesium surface](Mg-structure.png)\n",
    "\n",
    "$$ \\Delta E = E_\\mathrm{product} - E_\\mathrm{reactant}$$"
   ]
  },
  {
   "cell_type": "markdown",
   "id": "ff1ab86b",
   "metadata": {},
   "source": [
    "### Set parameters for this notebook run\n",
    "\n",
    "The following parameters govern the execution of the remainder of this notebook.  They can be overriden in a script by using [papermill](https://papermill.readthedocs.io)."
   ]
  },
  {
   "cell_type": "code",
   "execution_count": 2,
   "id": "be29a19e",
   "metadata": {
    "tags": [
     "parameters"
    ]
   },
   "outputs": [],
   "source": [
    "structure: str = \"reactant\"  # either \"reactant\" or \"product\"\n",
    "n_molecular_orbitals: int = 2  # can be 2, 4, 6, 8, or 10\n",
    "use_parallel: bool = False"
   ]
  },
  {
   "cell_type": "markdown",
   "id": "7db01980",
   "metadata": {},
   "source": [
    "### Read in the file holding the molecule information\n",
    "\n",
    "Each file was pre-generated following the procedure in [arXiv:2203.07536](https://arxiv.org/abs/2203.07536)."
   ]
  },
  {
   "cell_type": "code",
   "execution_count": 3,
   "id": "125095a7",
   "metadata": {},
   "outputs": [],
   "source": [
    "filename = f\"{structure}_{n_molecular_orbitals}mo.npz\"\n",
    "\n",
    "system_data = np.load(Path(\"input-data\") / filename)\n",
    "\n",
    "nuclear_repulsion_energy = system_data[\"h0\"]"
   ]
  },
  {
   "cell_type": "markdown",
   "id": "74cc3659",
   "metadata": {},
   "source": [
    "### Pass the molecule information to the `IntegralDriver` class and set up our `ElectronicStructureProblem`"
   ]
  },
  {
   "cell_type": "code",
   "execution_count": 4,
   "id": "de0c8141",
   "metadata": {},
   "outputs": [],
   "source": [
    "driver = IntegralDriver(\n",
    "    hcore=system_data[\"h1\"],\n",
    "    mo_coeff=system_data[\"HF_mo_coeff\"],\n",
    "    eri=system_data[\"Gamma_eri\"],  # gamma point\n",
    "    num_alpha=system_data[\"na\"],\n",
    "    num_beta=system_data[\"nb\"],\n",
    "    nuclear_repulsion_energy=nuclear_repulsion_energy,\n",
    ")\n",
    "\n",
    "problem = ElectronicStructureProblem(driver)"
   ]
  },
  {
   "cell_type": "markdown",
   "id": "750f7706",
   "metadata": {},
   "source": [
    "### Construct bitstrings and ansatz"
   ]
  },
  {
   "cell_type": "markdown",
   "id": "75aee824",
   "metadata": {},
   "source": [
    "#### Define a \"hop gate\", which will be used within the `TwoLocal` ansatz circuit"
   ]
  },
  {
   "cell_type": "code",
   "execution_count": 5,
   "id": "d7c05d9d",
   "metadata": {},
   "outputs": [
    {
     "name": "stdout",
     "output_type": "stream",
     "text": [
      "Hop gate:\n",
      "     ┌───┐┌───┐     ┌────────────┐     ┌───┐\n",
      "q_0: ┤ H ├┤ X ├──■──┤ Ry(-1.0*θ) ├──■──┤ H ├\n",
      "     └───┘└─┬─┘┌─┴─┐├────────────┤┌─┴─┐└───┘\n",
      "q_1: ───────■──┤ X ├┤ Ry(-1.0*θ) ├┤ X ├─────\n",
      "               └───┘└────────────┘└───┘     \n"
     ]
    }
   ],
   "source": [
    "theta = Parameter(\"θ\")\n",
    "\n",
    "hop_gate = QuantumCircuit(2, name=\"hop_gate\")\n",
    "hop_gate.h(0)\n",
    "hop_gate.cx(1, 0)\n",
    "hop_gate.cx(0, 1)\n",
    "hop_gate.ry(-theta, 0)\n",
    "hop_gate.ry(-theta, 1)\n",
    "hop_gate.cx(0, 1)\n",
    "hop_gate.h(0)\n",
    "\n",
    "print(f\"Hop gate:\\n{hop_gate.draw()}\")"
   ]
  },
  {
   "cell_type": "markdown",
   "id": "b3cba777",
   "metadata": {},
   "source": [
    "#### Declare bitstrings and entangler maps (used for each ansatz) for each structure and number of molecular orbitals.\n",
    "\n",
    "In previous work, several different ansatze were tested for each geometry and active space size.  The one with the lowest energy in each case is specified below."
   ]
  },
  {
   "cell_type": "code",
   "execution_count": 6,
   "id": "48174065",
   "metadata": {},
   "outputs": [],
   "source": [
    "_bitstrings = {\n",
    "    \"reactant\": {\n",
    "        2: [(1, 0), (0, 1)],\n",
    "        4: [(1, 1, 0, 0), (0, 1, 1, 0), (0, 1, 0, 1), (1, 0, 1, 0)],\n",
    "        6: [\n",
    "            (1, 1, 1, 0, 0, 0),\n",
    "            (0, 1, 1, 0, 1, 0),\n",
    "            (0, 1, 1, 1, 0, 0),\n",
    "            (1, 0, 1, 1, 0, 0),\n",
    "        ],\n",
    "        8: [\n",
    "            (1, 1, 1, 1, 0, 0, 0, 0),\n",
    "            (0, 1, 1, 1, 0, 1, 0, 0),\n",
    "            (1, 1, 0, 1, 0, 0, 1, 0),\n",
    "            (1, 0, 1, 1, 1, 0, 0, 0),\n",
    "        ],\n",
    "        10: [\n",
    "            (1, 1, 1, 1, 1, 0, 0, 0, 0, 0),\n",
    "            (1, 1, 1, 1, 0, 1, 0, 0, 0, 0),\n",
    "            (1, 0, 1, 1, 1, 0, 0, 1, 0, 0),\n",
    "            (1, 1, 1, 0, 1, 0, 0, 0, 0, 1),\n",
    "        ],\n",
    "    },\n",
    "    \"product\": {\n",
    "        2: [(1, 0), (0, 1)],\n",
    "        4: [(1, 1, 0, 0), (0, 1, 1, 0), (0, 1, 0, 1), (1, 0, 0, 1)],\n",
    "        6: [\n",
    "            (1, 1, 1, 0, 0, 0),\n",
    "            (0, 1, 1, 0, 1, 0),\n",
    "            (0, 1, 1, 1, 0, 0),\n",
    "            (1, 0, 1, 0, 0, 1),\n",
    "        ],\n",
    "        8: [\n",
    "            (1, 1, 1, 1, 0, 0, 0, 0),\n",
    "            (0, 1, 1, 1, 0, 1, 0, 0),\n",
    "            (1, 1, 0, 1, 0, 0, 1, 0),\n",
    "            (1, 1, 1, 0, 1, 0, 0),\n",
    "        ],\n",
    "        10: [\n",
    "            (1, 1, 1, 1, 1, 0, 0, 0, 0, 0),\n",
    "            (1, 1, 1, 1, 0, 1, 0, 0, 0, 0),\n",
    "            (1, 0, 1, 1, 1, 0, 1, 0, 0, 0),\n",
    "            (1, 1, 1, 0, 1, 0, 0, 1, 0, 0),\n",
    "        ],\n",
    "    },\n",
    "}\n",
    "\n",
    "\n",
    "_entangler_map = {\n",
    "    \"reactant\": {\n",
    "        2: [[0, 1]],\n",
    "        4: [[0, 1], [2, 3]],\n",
    "        6: [[0, 1], [1, 2], [2, 0], [3, 4], [4, 5], [5, 3]],\n",
    "        8: [[3, 4], [2, 3], [4, 5], [1, 2], [5, 6], [0, 1], [6, 7]],\n",
    "        10: [\n",
    "            [0, 1],\n",
    "            [0, 2],\n",
    "            [1, 2],\n",
    "            [1, 3],\n",
    "            [2, 3],\n",
    "            [2, 4],\n",
    "            [3, 4],\n",
    "            [5, 6],\n",
    "            [5, 7],\n",
    "            [6, 7],\n",
    "            [6, 8],\n",
    "            [7, 8],\n",
    "            [7, 9],\n",
    "            [8, 9],\n",
    "        ],\n",
    "    },\n",
    "    \"product\": {\n",
    "        2: [[0, 1]],\n",
    "        4: [[0, 1], [2, 3]],\n",
    "        6: [[0, 1], [1, 2], [2, 0], [3, 4], [4, 5], [5, 3], [2, 3]],\n",
    "        8: [[0, 1], [2, 3], [4, 5], [6, 7]],\n",
    "        10: [\n",
    "            [0, 1],\n",
    "            [0, 2],\n",
    "            [1, 2],\n",
    "            [1, 3],\n",
    "            [2, 3],\n",
    "            [2, 4],\n",
    "            [3, 4],\n",
    "            [5, 6],\n",
    "            [5, 7],\n",
    "            [6, 7],\n",
    "            [6, 8],\n",
    "            [7, 8],\n",
    "            [7, 9],\n",
    "            [8, 9],\n",
    "        ],\n",
    "    },\n",
    "}"
   ]
  },
  {
   "cell_type": "markdown",
   "id": "768dfa3a",
   "metadata": {},
   "source": [
    "#### Put together and form ansatz\n",
    "\n",
    "In this example, `bitstrings_v` is left unspecified, so `EntanglementForgingAnsatz` defaults to using the same bitstrings on both subsystems."
   ]
  },
  {
   "cell_type": "code",
   "execution_count": 7,
   "id": "2d525a43",
   "metadata": {},
   "outputs": [
    {
     "data": {
      "image/png": "[encoded data removed]",
      "text/plain": [
       "<Figure size 206.852x144.48 with 1 Axes>"
      ]
     },
     "execution_count": 7,
     "metadata": {},
     "output_type": "execute_result"
    }
   ],
   "source": [
    "circuit_u = TwoLocal(\n",
    "    n_molecular_orbitals,\n",
    "    [],\n",
    "    hop_gate,\n",
    "    _entangler_map[structure][n_molecular_orbitals],\n",
    "    reps=1,\n",
    ")\n",
    "ansatz = EntanglementForgingAnsatz(\n",
    "    circuit_u=circuit_u,\n",
    "    bitstrings_u=_bitstrings[structure][n_molecular_orbitals],\n",
    ")\n",
    "\n",
    "ansatz.circuit_u.draw(\"mpl\")"
   ]
  },
  {
   "cell_type": "markdown",
   "id": "b105a6cd",
   "metadata": {},
   "source": [
    "### Set up the QiskitRuntimeService object"
   ]
  },
  {
   "cell_type": "code",
   "execution_count": 8,
   "id": "57007ef0",
   "metadata": {},
   "outputs": [],
   "source": [
    "service_args = {\n",
    "    \"channel\": \"ibm_quantum\",\n",
    "    \"token\": \"<YOUR_API_KEY>\",\n",
    "}\n",
    "service = QiskitRuntimeService(**service_args)"
   ]
  },
  {
   "cell_type": "markdown",
   "id": "ff8eb682",
   "metadata": {},
   "source": [
    "### Specify an optimizer and set up the `EntanglementForgingGroundStateSolver`"
   ]
  },
  {
   "cell_type": "code",
   "execution_count": 9,
   "id": "41efec9e",
   "metadata": {},
   "outputs": [],
   "source": [
    "optimizer = COBYLA()\n",
    "backend_names = [\"backend_name1\", \"backend_name2\"]\n",
    "\n",
    "solver = EntanglementForgingGroundStateSolver(\n",
    "    ansatz=ansatz,\n",
    "    optimizer=optimizer,\n",
    "    service=service,\n",
    "    backend_names=backend_names,\n",
    ")"
   ]
  },
  {
   "cell_type": "markdown",
   "id": "043c82be",
   "metadata": {},
   "source": [
    " ### Initialize Quantum Serverless in local mode. Set cluster one to enable all cores, since we will be doing a parallel quantum experiment."
   ]
  },
  {
   "cell_type": "code",
   "execution_count": 10,
   "id": "6744393c",
   "metadata": {},
   "outputs": [
    {
     "data": {
      "text/plain": [
       "QuantumServerless:\n",
       " | selected cluster: <Cluster: Local cluster (all cores)>"
      ]
     },
     "execution_count": 10,
     "metadata": {},
     "output_type": "execute_result"
    }
   ],
   "source": [
    "serverless = QuantumServerless()\n",
    "\n",
    "serverless.set_cluster(1)  # 0 -> single local core; 1 -> all local cores"
   ]
  },
  {
   "cell_type": "markdown",
   "id": "71c449d8",
   "metadata": {},
   "source": [
    "### Estimate the minimum eigenvalue of the system and also retrieve metadata from the optimization"
   ]
  },
  {
   "cell_type": "code",
   "execution_count": 11,
   "id": "4f0ead39",
   "metadata": {},
   "outputs": [],
   "source": [
    "%%capture\n",
    "\n",
    "with serverless.context():\n",
    "    ef_result = solver.solve(problem)"
   ]
  },
  {
   "cell_type": "markdown",
   "id": "2144c77f",
   "metadata": {},
   "source": [
    "### Print the estimated ground state energy"
   ]
  },
  {
   "cell_type": "code",
   "execution_count": 12,
   "id": "a176d258",
   "metadata": {},
   "outputs": [
    {
     "name": "stdout",
     "output_type": "stream",
     "text": [
      "E_EF = -3980.9955848927134 Ha\n"
     ]
    }
   ],
   "source": [
    "e_ef = np.real(ef_result.groundenergy + ef_result.energy_shift)\n",
    "print(f\"E_EF = {e_ef} Ha\")"
   ]
  },
  {
   "cell_type": "markdown",
   "id": "bc15f75f",
   "metadata": {},
   "source": [
    "### Visualize the convergence of the ground state energy, Schmidt coefficients, and ansatz parameters."
   ]
  },
  {
   "cell_type": "code",
   "execution_count": 13,
   "id": "07e06e1c",
   "metadata": {},
   "outputs": [
    {
     "name": "stdout",
     "output_type": "stream",
     "text": [
      "Energy:\n"
     ]
    },
    {
     "data": {
      "image/png": "[encoded data removed]",
      "text/plain": [
       "<Figure size 432x288 with 1 Axes>"
      ]
     },
     "metadata": {
      "needs_background": "light"
     },
     "output_type": "display_data"
    },
    {
     "name": "stdout",
     "output_type": "stream",
     "text": [
      "Schmidt Coefficients:\n"
     ]
    },
    {
     "data": {
      "image/png": "[encoded data removed]",
      "text/plain": [
       "<Figure size 432x288 with 1 Axes>"
      ]
     },
     "metadata": {
      "needs_background": "light"
     },
     "output_type": "display_data"
    },
    {
     "name": "stdout",
     "output_type": "stream",
     "text": [
      "Parameters:\n"
     ]
    },
    {
     "data": {
      "image/png": "[encoded data removed]",
      "text/plain": [
       "<Figure size 432x288 with 1 Axes>"
      ]
     },
     "metadata": {
      "needs_background": "light"
     },
     "output_type": "display_data"
    }
   ],
   "source": [
    "print(\"Energy:\")\n",
    "energies = [ef_result.history[i].eigenvalue for i in range(len(ef_result.history))]\n",
    "plt.plot(energies)\n",
    "plt.xlabel(\"Iterations\")\n",
    "plt.show()\n",
    "\n",
    "print(\"Schmidt Coefficients:\")\n",
    "schmidt_coeffs = [\n",
    "    abs(ef_result.history[i].eigenstate) for i in range(len(ef_result.history))\n",
    "]\n",
    "plt.plot(schmidt_coeffs)\n",
    "plt.yscale(\"log\")\n",
    "plt.xlabel(\"Iterations\")\n",
    "plt.show()\n",
    "\n",
    "print(\"Parameters:\")\n",
    "parameters = [ef_result.history[i].parameters for i in range(len(ef_result.history))]\n",
    "plt.plot(parameters)\n",
    "plt.xlabel(\"Iterations\")\n",
    "plt.show()"
   ]
  }
 ],
 "metadata": {
  "kernelspec": {
   "display_name": "Python 3 (ipykernel)",
   "language": "python",
   "name": "python3"
  },
  "language_info": {
   "codemirror_mode": {
    "name": "ipython",
    "version": 3
   },
   "file_extension": ".py",
   "mimetype": "text/x-python",
   "name": "python",
   "nbconvert_exporter": "python",
   "pygments_lexer": "ipython3",
   "version": "3.9.12"
  }
 },
 "nbformat": 4,
 "nbformat_minor": 5
}
