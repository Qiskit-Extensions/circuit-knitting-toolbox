{
 "cells": [
  {
   "cell_type": "code",
   "execution_count": 1,
   "id": "dc5bb185",
   "metadata": {},
   "outputs": [],
   "source": [
    "from __future__ import annotations\n",
    "\n",
    "from enum import Enum\n",
    "from collections.abc import Sequence\n",
    "\n",
    "from qiskit import QuantumCircuit, transpile\n",
    "from qiskit.circuit import CircuitInstruction\n",
    "from qiskit.circuit.library import EfficientSU2\n",
    "from qiskit.circuit.library.standard_gates import IGate\n",
    "from qiskit.providers import Backend\n",
    "from qiskit.providers.fake_provider import FakeHanoiV2 as FakeHanoi\n",
    "\n",
    "from circuit_knitting.cutting.qpd import decompose_qpd_instructions\n",
    "from circuit_knitting.cutting import cut_gates"
   ]
  },
  {
   "cell_type": "markdown",
   "id": "08768b7e",
   "metadata": {},
   "source": [
    "### Create a function for scoring gates based on how much depth would be reduced by removing them"
   ]
  },
  {
   "cell_type": "code",
   "execution_count": 2,
   "id": "cd3ee6a7",
   "metadata": {},
   "outputs": [],
   "source": [
    "def evaluate_cuts(\n",
    "    circuit: QuantumCircuit,\n",
    "    backend: Backend,\n",
    "    gate_ids: Sequence[int] | None = None,\n",
    "    initial_layout: Sequence[int] | None = None,\n",
    ") -> list[tuple[int, int]]:\n",
    "    circuit = circuit.copy()\n",
    "    supported_gates = {\"rxx\", \"ryy\", \"rzz\", \"crx\", \"cry\", \"crz\", \"cx\", \"cz\"}\n",
    "\n",
    "    input_depth = transpile(\n",
    "        circuit, backend=backend, initial_layout=initial_layout\n",
    "    ).depth()\n",
    "\n",
    "    if gate_ids is None:\n",
    "        gate_ids = list(range(len(circuit.data)))\n",
    "\n",
    "    cut_scores = []\n",
    "    for idx in gate_ids:\n",
    "        if circuit[idx].operation.name not in supported_gates:\n",
    "            continue\n",
    "        inst_to_check = circuit[idx]\n",
    "        del circuit.data[idx]\n",
    "        cut_score = (\n",
    "            input_depth\n",
    "            - transpile(circuit, backend=backend, initial_layout=initial_layout).depth()\n",
    "        )\n",
    "        cut_scores.append((idx, cut_score))\n",
    "        circuit.data.insert(idx, inst_to_check)\n",
    "\n",
    "    return sorted(cut_scores, key=lambda x: x[1], reverse=True)"
   ]
  },
  {
   "cell_type": "markdown",
   "id": "a12d2de5",
   "metadata": {},
   "source": [
    "### Create a circuit and note the depth"
   ]
  },
  {
   "cell_type": "code",
   "execution_count": 7,
   "id": "2005adac",
   "metadata": {},
   "outputs": [
    {
     "name": "stdout",
     "output_type": "stream",
     "text": [
      "Original circuit depth after transpile: 298\n"
     ]
    }
   ],
   "source": [
    "backend = FakeHanoi()\n",
    "circuit = EfficientSU2(16, entanglement=\"sca\", reps=6).decompose()\n",
    "original_circuit_depth = transpile(circuit, backend=backend).depth()\n",
    "print(f\"Original circuit depth after transpile: {original_circuit_depth}\")"
   ]
  },
  {
   "cell_type": "markdown",
   "id": "f9c4596f",
   "metadata": {},
   "source": [
    "### Get the top N cuts in one sweep, remove them, and observe the depth reduction"
   ]
  },
  {
   "cell_type": "code",
   "execution_count": 8,
   "id": "c3d71eab",
   "metadata": {},
   "outputs": [
    {
     "name": "stdout",
     "output_type": "stream",
     "text": [
      "QPD subexperiment depth after transpile: 190\n"
     ]
    }
   ],
   "source": [
    "NUM_CUTS = 5\n",
    "\n",
    "cut_scores = evaluate_cuts(circuit, backend)\n",
    "\n",
    "cut_indices = [cut_scores[i][0] for i in range(NUM_CUTS)]\n",
    "qpd_circuit, bases = cut_gates(circuit, cut_indices)\n",
    "\n",
    "for idx in cut_indices:\n",
    "    qpd_circuit[idx].operation.basis_id = 0\n",
    "    inst = qpd_circuit[idx].operation\n",
    "\n",
    "qpd_circuit_dx = decompose_qpd_instructions(qpd_circuit, [[idx] for idx in cut_indices])\n",
    "\n",
    "# Transpile the decomposed circuit to the same layout\n",
    "transpiled_qpd_circuit = transpile(qpd_circuit_dx, backend=backend)\n",
    "\n",
    "print(f\"QPD subexperiment depth after transpile: {transpiled_qpd_circuit.depth()}\")"
   ]
  },
  {
   "cell_type": "markdown",
   "id": "35a8314b",
   "metadata": {},
   "source": [
    "### Get the top N cuts in N sweeps, choose the best gate to cut at each sweep, and observe depth reduction"
   ]
  },
  {
   "cell_type": "code",
   "execution_count": 9,
   "id": "534d10cf",
   "metadata": {},
   "outputs": [],
   "source": [
    "tmp_circ = circuit.copy()\n",
    "cut_indices = []\n",
    "for num_cuts in range(NUM_CUTS):\n",
    "    cut_scores = evaluate_cuts(tmp_circ, backend)\n",
    "    best_idx = cut_scores[0][0]\n",
    "    cut_indices.append(best_idx)\n",
    "    qubit0 = tmp_circ.find_bit(tmp_circ.data[best_idx].qubits[0]).index\n",
    "    tmp_circ.data[best_idx] = CircuitInstruction(IGate(), qubits=(qubit0,))"
   ]
  },
  {
   "cell_type": "markdown",
   "id": "202fd6ba",
   "metadata": {},
   "source": [
    "### By doing an iterative, greedy approach, we can find a decent cutting scheme"
   ]
  },
  {
   "cell_type": "code",
   "execution_count": 10,
   "id": "79673595",
   "metadata": {},
   "outputs": [
    {
     "name": "stdout",
     "output_type": "stream",
     "text": [
      "QPD subexperiment depth after transpile: 100\n"
     ]
    }
   ],
   "source": [
    "qpd_circuit, bases = cut_gates(circuit, cut_indices)\n",
    "\n",
    "for idx in cut_indices:\n",
    "    qpd_circuit[idx].operation.basis_id = 0\n",
    "    inst = qpd_circuit[idx].operation\n",
    "\n",
    "qpd_circuit_dx = decompose_qpd_instructions(qpd_circuit, [[idx] for idx in cut_indices])\n",
    "\n",
    "# Transpile the decomposed circuit to the same layout\n",
    "transpiled_qpd_circuit = transpile(qpd_circuit_dx, backend=backend)\n",
    "\n",
    "print(f\"QPD subexperiment depth after transpile: {transpiled_qpd_circuit.depth()}\")"
   ]
  },
  {
   "cell_type": "code",
   "execution_count": null,
   "id": "a286781b",
   "metadata": {},
   "outputs": [],
   "source": []
  },
  {
   "cell_type": "code",
   "execution_count": null,
   "id": "063c903f",
   "metadata": {},
   "outputs": [],
   "source": [
    "class MyClass:\n",
    "    "
   ]
  }
 ],
 "metadata": {
  "kernelspec": {
   "display_name": "Python 3 (ipykernel)",
   "language": "python",
   "name": "python3"
  },
  "language_info": {
   "codemirror_mode": {
    "name": "ipython",
    "version": 3
   },
   "file_extension": ".py",
   "mimetype": "text/x-python",
   "name": "python",
   "nbconvert_exporter": "python",
   "pygments_lexer": "ipython3",
   "version": "3.8.16"
  }
 },
 "nbformat": 4,
 "nbformat_minor": 5
}
