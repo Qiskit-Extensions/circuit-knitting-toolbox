{
 "cells": [
  {
   "cell_type": "markdown",
   "id": "f9e40036",
   "metadata": {},
   "source": [
    "## How to generate exact quasiprobability distributions from Sampler\n",
    "\n",
    "This how-to guide is intended to show users how they can generate statevector-based quasiprobability distributions through the `qiskit.primitives.BaseSampler` interface."
   ]
  },
  {
   "cell_type": "code",
   "execution_count": 1,
   "id": "072055cb",
   "metadata": {
    "execution": {
     "iopub.execute_input": "2024-07-16T15:23:11.996163Z",
     "iopub.status.busy": "2024-07-16T15:23:11.995646Z",
     "iopub.status.idle": "2024-07-16T15:23:12.391135Z",
     "shell.execute_reply": "2024-07-16T15:23:12.390359Z"
    }
   },
   "outputs": [],
   "source": [
    "from qiskit import QuantumCircuit\n",
    "from qiskit.quantum_info import SparsePauliOp\n",
    "\n",
    "from circuit_knitting.cutting import (\n",
    "    partition_problem,\n",
    "    generate_cutting_experiments,\n",
    ")"
   ]
  },
  {
   "cell_type": "markdown",
   "id": "940334fd",
   "metadata": {},
   "source": [
    "Prepare inputs to `generate_cutting_experiments`"
   ]
  },
  {
   "cell_type": "code",
   "execution_count": 2,
   "id": "dc4af922",
   "metadata": {
    "execution": {
     "iopub.execute_input": "2024-07-16T15:23:12.394144Z",
     "iopub.status.busy": "2024-07-16T15:23:12.393891Z",
     "iopub.status.idle": "2024-07-16T15:23:12.403375Z",
     "shell.execute_reply": "2024-07-16T15:23:12.402650Z"
    }
   },
   "outputs": [],
   "source": [
    "circuit = QuantumCircuit(2)\n",
    "circuit.h(0)\n",
    "circuit.cx(0, 1)\n",
    "observable = SparsePauliOp([\"ZZ\"])\n",
    "partitioned_problem = partition_problem(\n",
    "    circuit=circuit, partition_labels=\"AB\", observables=observable.paulis\n",
    ")\n",
    "subcircuits = partitioned_problem.subcircuits\n",
    "subobservables = partitioned_problem.subobservables"
   ]
  },
  {
   "cell_type": "markdown",
   "id": "d6361a9d",
   "metadata": {},
   "source": [
    "Call `generate_cutting_experiments`"
   ]
  },
  {
   "cell_type": "code",
   "execution_count": 3,
   "id": "d095701f",
   "metadata": {
    "execution": {
     "iopub.execute_input": "2024-07-16T15:23:12.406200Z",
     "iopub.status.busy": "2024-07-16T15:23:12.405704Z",
     "iopub.status.idle": "2024-07-16T15:23:12.413718Z",
     "shell.execute_reply": "2024-07-16T15:23:12.413039Z"
    }
   },
   "outputs": [],
   "source": [
    "subexperiments, coefficients = generate_cutting_experiments(\n",
    "    circuits=subcircuits,\n",
    "    observables=subobservables,\n",
    "    num_samples=1000,\n",
    ")"
   ]
  },
  {
   "cell_type": "markdown",
   "id": "bc59b1be",
   "metadata": {},
   "source": [
    "In order to calculate exact quasiprobability distributions for circuits with mid-circuit measurements, users will need to use the `ExactSampler` class from `circuit_knitting.utils.simulation`. The Qiskit Samplers do not support mid-circuit measurements in statevector mode."
   ]
  },
  {
   "cell_type": "code",
   "execution_count": 4,
   "id": "7a74f709",
   "metadata": {
    "execution": {
     "iopub.execute_input": "2024-07-16T15:23:12.417129Z",
     "iopub.status.busy": "2024-07-16T15:23:12.416612Z",
     "iopub.status.idle": "2024-07-16T15:23:12.420494Z",
     "shell.execute_reply": "2024-07-16T15:23:12.419803Z"
    }
   },
   "outputs": [],
   "source": [
    "from circuit_knitting.utils.simulation import ExactSampler\n",
    "\n",
    "exact_sampler = ExactSampler()"
   ]
  },
  {
   "cell_type": "markdown",
   "id": "8d050fbe",
   "metadata": {},
   "source": [
    "If `ExactSampler` is used, the quasiprobability distributions returned from `generate_cutting_experiments` will be exact and generated from the statevectors of the subexperiments."
   ]
  },
  {
   "cell_type": "code",
   "execution_count": 5,
   "id": "7019d781",
   "metadata": {
    "execution": {
     "iopub.execute_input": "2024-07-16T15:23:12.423091Z",
     "iopub.status.busy": "2024-07-16T15:23:12.422681Z",
     "iopub.status.idle": "2024-07-16T15:23:12.435173Z",
     "shell.execute_reply": "2024-07-16T15:23:12.434517Z"
    }
   },
   "outputs": [],
   "source": [
    "results = {\n",
    "    label: exact_sampler.run(subexperiment).result()\n",
    "    for label, subexperiment in subexperiments.items()\n",
    "}"
   ]
  }
 ],
 "metadata": {
  "kernelspec": {
   "display_name": "Python 3 (ipykernel)",
   "language": "python",
   "name": "python3"
  },
  "language_info": {
   "codemirror_mode": {
    "name": "ipython",
    "version": 3
   },
   "file_extension": ".py",
   "mimetype": "text/x-python",
   "name": "python",
   "nbconvert_exporter": "python",
   "pygments_lexer": "ipython3",
   "version": "3.9.19"
  }
 },
 "nbformat": 4,
 "nbformat_minor": 5
}
